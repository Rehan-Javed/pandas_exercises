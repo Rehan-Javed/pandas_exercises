{
 "cells": [
  {
   "cell_type": "markdown",
   "metadata": {},
   "source": [
    "# Visualizing the Titanic Disaster"
   ]
  },
  {
   "cell_type": "markdown",
   "metadata": {},
   "source": [
    "### Introduction:\n",
    "\n",
    "This exercise is based on the titanic Disaster dataset avaiable at [Kaggle](https://www.kaggle.com/c/titanic).  \n",
    "To know more about the variables check [here](https://www.kaggle.com/c/titanic/data)\n",
    "\n",
    "\n",
    "### Step 1. Import the necessary libraries"
   ]
  },
  {
   "cell_type": "code",
   "execution_count": 1,
   "metadata": {},
   "outputs": [],
   "source": [
    "import pandas as pd\n",
    "import matplotlib.pyplot as plt\n",
    "import seaborn as sns\n",
    "import plotly.express as px\n",
    "import numpy as np\n",
    "\n",
    "%matplotlib inline"
   ]
  },
  {
   "cell_type": "markdown",
   "metadata": {},
   "source": [
    "### Step 2. Import the dataset from this [address](https://raw.githubusercontent.com/guipsamora/pandas_exercises/master/07_Visualization/Titanic_Desaster/train.csv)"
   ]
  },
  {
   "cell_type": "markdown",
   "metadata": {},
   "source": [
    "### Step 3. Assign it to a variable titanic "
   ]
  },
  {
   "cell_type": "code",
   "execution_count": 3,
   "metadata": {},
   "outputs": [
    {
     "data": {
      "text/html": [
       "<div>\n",
       "<style scoped>\n",
       "    .dataframe tbody tr th:only-of-type {\n",
       "        vertical-align: middle;\n",
       "    }\n",
       "\n",
       "    .dataframe tbody tr th {\n",
       "        vertical-align: top;\n",
       "    }\n",
       "\n",
       "    .dataframe thead th {\n",
       "        text-align: right;\n",
       "    }\n",
       "</style>\n",
       "<table border=\"1\" class=\"dataframe\">\n",
       "  <thead>\n",
       "    <tr style=\"text-align: right;\">\n",
       "      <th></th>\n",
       "      <th>PassengerId</th>\n",
       "      <th>Survived</th>\n",
       "      <th>Pclass</th>\n",
       "      <th>Name</th>\n",
       "      <th>Sex</th>\n",
       "      <th>Age</th>\n",
       "      <th>SibSp</th>\n",
       "      <th>Parch</th>\n",
       "      <th>Ticket</th>\n",
       "      <th>Fare</th>\n",
       "      <th>Cabin</th>\n",
       "      <th>Embarked</th>\n",
       "    </tr>\n",
       "  </thead>\n",
       "  <tbody>\n",
       "    <tr>\n",
       "      <th>0</th>\n",
       "      <td>1</td>\n",
       "      <td>0</td>\n",
       "      <td>3</td>\n",
       "      <td>Braund, Mr. Owen Harris</td>\n",
       "      <td>male</td>\n",
       "      <td>22.0</td>\n",
       "      <td>1</td>\n",
       "      <td>0</td>\n",
       "      <td>A/5 21171</td>\n",
       "      <td>7.2500</td>\n",
       "      <td>NaN</td>\n",
       "      <td>S</td>\n",
       "    </tr>\n",
       "    <tr>\n",
       "      <th>1</th>\n",
       "      <td>2</td>\n",
       "      <td>1</td>\n",
       "      <td>1</td>\n",
       "      <td>Cumings, Mrs. John Bradley (Florence Briggs Th...</td>\n",
       "      <td>female</td>\n",
       "      <td>38.0</td>\n",
       "      <td>1</td>\n",
       "      <td>0</td>\n",
       "      <td>PC 17599</td>\n",
       "      <td>71.2833</td>\n",
       "      <td>C85</td>\n",
       "      <td>C</td>\n",
       "    </tr>\n",
       "    <tr>\n",
       "      <th>2</th>\n",
       "      <td>3</td>\n",
       "      <td>1</td>\n",
       "      <td>3</td>\n",
       "      <td>Heikkinen, Miss. Laina</td>\n",
       "      <td>female</td>\n",
       "      <td>26.0</td>\n",
       "      <td>0</td>\n",
       "      <td>0</td>\n",
       "      <td>STON/O2. 3101282</td>\n",
       "      <td>7.9250</td>\n",
       "      <td>NaN</td>\n",
       "      <td>S</td>\n",
       "    </tr>\n",
       "    <tr>\n",
       "      <th>3</th>\n",
       "      <td>4</td>\n",
       "      <td>1</td>\n",
       "      <td>1</td>\n",
       "      <td>Futrelle, Mrs. Jacques Heath (Lily May Peel)</td>\n",
       "      <td>female</td>\n",
       "      <td>35.0</td>\n",
       "      <td>1</td>\n",
       "      <td>0</td>\n",
       "      <td>113803</td>\n",
       "      <td>53.1000</td>\n",
       "      <td>C123</td>\n",
       "      <td>S</td>\n",
       "    </tr>\n",
       "    <tr>\n",
       "      <th>4</th>\n",
       "      <td>5</td>\n",
       "      <td>0</td>\n",
       "      <td>3</td>\n",
       "      <td>Allen, Mr. William Henry</td>\n",
       "      <td>male</td>\n",
       "      <td>35.0</td>\n",
       "      <td>0</td>\n",
       "      <td>0</td>\n",
       "      <td>373450</td>\n",
       "      <td>8.0500</td>\n",
       "      <td>NaN</td>\n",
       "      <td>S</td>\n",
       "    </tr>\n",
       "  </tbody>\n",
       "</table>\n",
       "</div>"
      ],
      "text/plain": [
       "   PassengerId  Survived  Pclass  \\\n",
       "0            1         0       3   \n",
       "1            2         1       1   \n",
       "2            3         1       3   \n",
       "3            4         1       1   \n",
       "4            5         0       3   \n",
       "\n",
       "                                                Name     Sex   Age  SibSp  \\\n",
       "0                            Braund, Mr. Owen Harris    male  22.0      1   \n",
       "1  Cumings, Mrs. John Bradley (Florence Briggs Th...  female  38.0      1   \n",
       "2                             Heikkinen, Miss. Laina  female  26.0      0   \n",
       "3       Futrelle, Mrs. Jacques Heath (Lily May Peel)  female  35.0      1   \n",
       "4                           Allen, Mr. William Henry    male  35.0      0   \n",
       "\n",
       "   Parch            Ticket     Fare Cabin Embarked  \n",
       "0      0         A/5 21171   7.2500   NaN        S  \n",
       "1      0          PC 17599  71.2833   C85        C  \n",
       "2      0  STON/O2. 3101282   7.9250   NaN        S  \n",
       "3      0            113803  53.1000  C123        S  \n",
       "4      0            373450   8.0500   NaN        S  "
      ]
     },
     "execution_count": 3,
     "metadata": {},
     "output_type": "execute_result"
    }
   ],
   "source": [
    "address = 'https://raw.githubusercontent.com/guipsamora/pandas_exercises/master/07_Visualization/Titanic_Desaster/train.csv'\n",
    "\n",
    "titanic = pd.read_csv(address)\n",
    "\n",
    "titanic.head()"
   ]
  },
  {
   "cell_type": "markdown",
   "metadata": {},
   "source": [
    "### Step 4. Set PassengerId as the index "
   ]
  },
  {
   "cell_type": "code",
   "execution_count": 4,
   "metadata": {},
   "outputs": [
    {
     "data": {
      "text/html": [
       "<div>\n",
       "<style scoped>\n",
       "    .dataframe tbody tr th:only-of-type {\n",
       "        vertical-align: middle;\n",
       "    }\n",
       "\n",
       "    .dataframe tbody tr th {\n",
       "        vertical-align: top;\n",
       "    }\n",
       "\n",
       "    .dataframe thead th {\n",
       "        text-align: right;\n",
       "    }\n",
       "</style>\n",
       "<table border=\"1\" class=\"dataframe\">\n",
       "  <thead>\n",
       "    <tr style=\"text-align: right;\">\n",
       "      <th></th>\n",
       "      <th>Survived</th>\n",
       "      <th>Pclass</th>\n",
       "      <th>Name</th>\n",
       "      <th>Sex</th>\n",
       "      <th>Age</th>\n",
       "      <th>SibSp</th>\n",
       "      <th>Parch</th>\n",
       "      <th>Ticket</th>\n",
       "      <th>Fare</th>\n",
       "      <th>Cabin</th>\n",
       "      <th>Embarked</th>\n",
       "    </tr>\n",
       "    <tr>\n",
       "      <th>PassengerId</th>\n",
       "      <th></th>\n",
       "      <th></th>\n",
       "      <th></th>\n",
       "      <th></th>\n",
       "      <th></th>\n",
       "      <th></th>\n",
       "      <th></th>\n",
       "      <th></th>\n",
       "      <th></th>\n",
       "      <th></th>\n",
       "      <th></th>\n",
       "    </tr>\n",
       "  </thead>\n",
       "  <tbody>\n",
       "    <tr>\n",
       "      <th>1</th>\n",
       "      <td>0</td>\n",
       "      <td>3</td>\n",
       "      <td>Braund, Mr. Owen Harris</td>\n",
       "      <td>male</td>\n",
       "      <td>22.0</td>\n",
       "      <td>1</td>\n",
       "      <td>0</td>\n",
       "      <td>A/5 21171</td>\n",
       "      <td>7.2500</td>\n",
       "      <td>NaN</td>\n",
       "      <td>S</td>\n",
       "    </tr>\n",
       "    <tr>\n",
       "      <th>2</th>\n",
       "      <td>1</td>\n",
       "      <td>1</td>\n",
       "      <td>Cumings, Mrs. John Bradley (Florence Briggs Th...</td>\n",
       "      <td>female</td>\n",
       "      <td>38.0</td>\n",
       "      <td>1</td>\n",
       "      <td>0</td>\n",
       "      <td>PC 17599</td>\n",
       "      <td>71.2833</td>\n",
       "      <td>C85</td>\n",
       "      <td>C</td>\n",
       "    </tr>\n",
       "    <tr>\n",
       "      <th>3</th>\n",
       "      <td>1</td>\n",
       "      <td>3</td>\n",
       "      <td>Heikkinen, Miss. Laina</td>\n",
       "      <td>female</td>\n",
       "      <td>26.0</td>\n",
       "      <td>0</td>\n",
       "      <td>0</td>\n",
       "      <td>STON/O2. 3101282</td>\n",
       "      <td>7.9250</td>\n",
       "      <td>NaN</td>\n",
       "      <td>S</td>\n",
       "    </tr>\n",
       "    <tr>\n",
       "      <th>4</th>\n",
       "      <td>1</td>\n",
       "      <td>1</td>\n",
       "      <td>Futrelle, Mrs. Jacques Heath (Lily May Peel)</td>\n",
       "      <td>female</td>\n",
       "      <td>35.0</td>\n",
       "      <td>1</td>\n",
       "      <td>0</td>\n",
       "      <td>113803</td>\n",
       "      <td>53.1000</td>\n",
       "      <td>C123</td>\n",
       "      <td>S</td>\n",
       "    </tr>\n",
       "    <tr>\n",
       "      <th>5</th>\n",
       "      <td>0</td>\n",
       "      <td>3</td>\n",
       "      <td>Allen, Mr. William Henry</td>\n",
       "      <td>male</td>\n",
       "      <td>35.0</td>\n",
       "      <td>0</td>\n",
       "      <td>0</td>\n",
       "      <td>373450</td>\n",
       "      <td>8.0500</td>\n",
       "      <td>NaN</td>\n",
       "      <td>S</td>\n",
       "    </tr>\n",
       "    <tr>\n",
       "      <th>...</th>\n",
       "      <td>...</td>\n",
       "      <td>...</td>\n",
       "      <td>...</td>\n",
       "      <td>...</td>\n",
       "      <td>...</td>\n",
       "      <td>...</td>\n",
       "      <td>...</td>\n",
       "      <td>...</td>\n",
       "      <td>...</td>\n",
       "      <td>...</td>\n",
       "      <td>...</td>\n",
       "    </tr>\n",
       "    <tr>\n",
       "      <th>887</th>\n",
       "      <td>0</td>\n",
       "      <td>2</td>\n",
       "      <td>Montvila, Rev. Juozas</td>\n",
       "      <td>male</td>\n",
       "      <td>27.0</td>\n",
       "      <td>0</td>\n",
       "      <td>0</td>\n",
       "      <td>211536</td>\n",
       "      <td>13.0000</td>\n",
       "      <td>NaN</td>\n",
       "      <td>S</td>\n",
       "    </tr>\n",
       "    <tr>\n",
       "      <th>888</th>\n",
       "      <td>1</td>\n",
       "      <td>1</td>\n",
       "      <td>Graham, Miss. Margaret Edith</td>\n",
       "      <td>female</td>\n",
       "      <td>19.0</td>\n",
       "      <td>0</td>\n",
       "      <td>0</td>\n",
       "      <td>112053</td>\n",
       "      <td>30.0000</td>\n",
       "      <td>B42</td>\n",
       "      <td>S</td>\n",
       "    </tr>\n",
       "    <tr>\n",
       "      <th>889</th>\n",
       "      <td>0</td>\n",
       "      <td>3</td>\n",
       "      <td>Johnston, Miss. Catherine Helen \"Carrie\"</td>\n",
       "      <td>female</td>\n",
       "      <td>NaN</td>\n",
       "      <td>1</td>\n",
       "      <td>2</td>\n",
       "      <td>W./C. 6607</td>\n",
       "      <td>23.4500</td>\n",
       "      <td>NaN</td>\n",
       "      <td>S</td>\n",
       "    </tr>\n",
       "    <tr>\n",
       "      <th>890</th>\n",
       "      <td>1</td>\n",
       "      <td>1</td>\n",
       "      <td>Behr, Mr. Karl Howell</td>\n",
       "      <td>male</td>\n",
       "      <td>26.0</td>\n",
       "      <td>0</td>\n",
       "      <td>0</td>\n",
       "      <td>111369</td>\n",
       "      <td>30.0000</td>\n",
       "      <td>C148</td>\n",
       "      <td>C</td>\n",
       "    </tr>\n",
       "    <tr>\n",
       "      <th>891</th>\n",
       "      <td>0</td>\n",
       "      <td>3</td>\n",
       "      <td>Dooley, Mr. Patrick</td>\n",
       "      <td>male</td>\n",
       "      <td>32.0</td>\n",
       "      <td>0</td>\n",
       "      <td>0</td>\n",
       "      <td>370376</td>\n",
       "      <td>7.7500</td>\n",
       "      <td>NaN</td>\n",
       "      <td>Q</td>\n",
       "    </tr>\n",
       "  </tbody>\n",
       "</table>\n",
       "<p>891 rows × 11 columns</p>\n",
       "</div>"
      ],
      "text/plain": [
       "             Survived  Pclass  \\\n",
       "PassengerId                     \n",
       "1                   0       3   \n",
       "2                   1       1   \n",
       "3                   1       3   \n",
       "4                   1       1   \n",
       "5                   0       3   \n",
       "...               ...     ...   \n",
       "887                 0       2   \n",
       "888                 1       1   \n",
       "889                 0       3   \n",
       "890                 1       1   \n",
       "891                 0       3   \n",
       "\n",
       "                                                          Name     Sex   Age  \\\n",
       "PassengerId                                                                    \n",
       "1                                      Braund, Mr. Owen Harris    male  22.0   \n",
       "2            Cumings, Mrs. John Bradley (Florence Briggs Th...  female  38.0   \n",
       "3                                       Heikkinen, Miss. Laina  female  26.0   \n",
       "4                 Futrelle, Mrs. Jacques Heath (Lily May Peel)  female  35.0   \n",
       "5                                     Allen, Mr. William Henry    male  35.0   \n",
       "...                                                        ...     ...   ...   \n",
       "887                                      Montvila, Rev. Juozas    male  27.0   \n",
       "888                               Graham, Miss. Margaret Edith  female  19.0   \n",
       "889                   Johnston, Miss. Catherine Helen \"Carrie\"  female   NaN   \n",
       "890                                      Behr, Mr. Karl Howell    male  26.0   \n",
       "891                                        Dooley, Mr. Patrick    male  32.0   \n",
       "\n",
       "             SibSp  Parch            Ticket     Fare Cabin Embarked  \n",
       "PassengerId                                                          \n",
       "1                1      0         A/5 21171   7.2500   NaN        S  \n",
       "2                1      0          PC 17599  71.2833   C85        C  \n",
       "3                0      0  STON/O2. 3101282   7.9250   NaN        S  \n",
       "4                1      0            113803  53.1000  C123        S  \n",
       "5                0      0            373450   8.0500   NaN        S  \n",
       "...            ...    ...               ...      ...   ...      ...  \n",
       "887              0      0            211536  13.0000   NaN        S  \n",
       "888              0      0            112053  30.0000   B42        S  \n",
       "889              1      2        W./C. 6607  23.4500   NaN        S  \n",
       "890              0      0            111369  30.0000  C148        C  \n",
       "891              0      0            370376   7.7500   NaN        Q  \n",
       "\n",
       "[891 rows x 11 columns]"
      ]
     },
     "execution_count": 4,
     "metadata": {},
     "output_type": "execute_result"
    }
   ],
   "source": [
    "titanic.set_index('PassengerId')"
   ]
  },
  {
   "cell_type": "markdown",
   "metadata": {},
   "source": [
    "### Step 5. Create a pie chart presenting the male/female proportion"
   ]
  },
  {
   "cell_type": "code",
   "execution_count": 6,
   "metadata": {},
   "outputs": [
    {
     "data": {
      "application/vnd.plotly.v1+json": {
       "config": {
        "plotlyServerURL": "https://plot.ly"
       },
       "data": [
        {
         "customdata": [
          [
           "male"
          ],
          [
           "female"
          ],
          [
           "female"
          ],
          [
           "female"
          ],
          [
           "male"
          ],
          [
           "male"
          ],
          [
           "male"
          ],
          [
           "male"
          ],
          [
           "female"
          ],
          [
           "female"
          ],
          [
           "female"
          ],
          [
           "female"
          ],
          [
           "male"
          ],
          [
           "male"
          ],
          [
           "female"
          ],
          [
           "female"
          ],
          [
           "male"
          ],
          [
           "male"
          ],
          [
           "female"
          ],
          [
           "female"
          ],
          [
           "male"
          ],
          [
           "male"
          ],
          [
           "female"
          ],
          [
           "male"
          ],
          [
           "female"
          ],
          [
           "female"
          ],
          [
           "male"
          ],
          [
           "male"
          ],
          [
           "female"
          ],
          [
           "male"
          ],
          [
           "male"
          ],
          [
           "female"
          ],
          [
           "female"
          ],
          [
           "male"
          ],
          [
           "male"
          ],
          [
           "male"
          ],
          [
           "male"
          ],
          [
           "male"
          ],
          [
           "female"
          ],
          [
           "female"
          ],
          [
           "female"
          ],
          [
           "female"
          ],
          [
           "male"
          ],
          [
           "female"
          ],
          [
           "female"
          ],
          [
           "male"
          ],
          [
           "male"
          ],
          [
           "female"
          ],
          [
           "male"
          ],
          [
           "female"
          ],
          [
           "male"
          ],
          [
           "male"
          ],
          [
           "female"
          ],
          [
           "female"
          ],
          [
           "male"
          ],
          [
           "male"
          ],
          [
           "female"
          ],
          [
           "male"
          ],
          [
           "female"
          ],
          [
           "male"
          ],
          [
           "male"
          ],
          [
           "female"
          ],
          [
           "male"
          ],
          [
           "male"
          ],
          [
           "male"
          ],
          [
           "male"
          ],
          [
           "female"
          ],
          [
           "male"
          ],
          [
           "female"
          ],
          [
           "male"
          ],
          [
           "male"
          ],
          [
           "female"
          ],
          [
           "male"
          ],
          [
           "male"
          ],
          [
           "male"
          ],
          [
           "male"
          ],
          [
           "male"
          ],
          [
           "male"
          ],
          [
           "male"
          ],
          [
           "female"
          ],
          [
           "male"
          ],
          [
           "male"
          ],
          [
           "female"
          ],
          [
           "male"
          ],
          [
           "female"
          ],
          [
           "female"
          ],
          [
           "male"
          ],
          [
           "male"
          ],
          [
           "female"
          ],
          [
           "male"
          ],
          [
           "male"
          ],
          [
           "male"
          ],
          [
           "male"
          ],
          [
           "male"
          ],
          [
           "male"
          ],
          [
           "male"
          ],
          [
           "male"
          ],
          [
           "male"
          ],
          [
           "female"
          ],
          [
           "male"
          ],
          [
           "female"
          ],
          [
           "male"
          ],
          [
           "male"
          ],
          [
           "male"
          ],
          [
           "male"
          ],
          [
           "male"
          ],
          [
           "female"
          ],
          [
           "male"
          ],
          [
           "male"
          ],
          [
           "female"
          ],
          [
           "male"
          ],
          [
           "female"
          ],
          [
           "male"
          ],
          [
           "female"
          ],
          [
           "female"
          ],
          [
           "male"
          ],
          [
           "male"
          ],
          [
           "male"
          ],
          [
           "male"
          ],
          [
           "female"
          ],
          [
           "male"
          ],
          [
           "male"
          ],
          [
           "male"
          ],
          [
           "female"
          ],
          [
           "male"
          ],
          [
           "male"
          ],
          [
           "male"
          ],
          [
           "male"
          ],
          [
           "female"
          ],
          [
           "male"
          ],
          [
           "male"
          ],
          [
           "male"
          ],
          [
           "female"
          ],
          [
           "female"
          ],
          [
           "male"
          ],
          [
           "male"
          ],
          [
           "female"
          ],
          [
           "male"
          ],
          [
           "male"
          ],
          [
           "male"
          ],
          [
           "female"
          ],
          [
           "female"
          ],
          [
           "female"
          ],
          [
           "male"
          ],
          [
           "male"
          ],
          [
           "male"
          ],
          [
           "male"
          ],
          [
           "female"
          ],
          [
           "male"
          ],
          [
           "male"
          ],
          [
           "male"
          ],
          [
           "female"
          ],
          [
           "male"
          ],
          [
           "male"
          ],
          [
           "male"
          ],
          [
           "male"
          ],
          [
           "female"
          ],
          [
           "male"
          ],
          [
           "male"
          ],
          [
           "male"
          ],
          [
           "male"
          ],
          [
           "female"
          ],
          [
           "male"
          ],
          [
           "male"
          ],
          [
           "male"
          ],
          [
           "male"
          ],
          [
           "female"
          ],
          [
           "female"
          ],
          [
           "male"
          ],
          [
           "male"
          ],
          [
           "male"
          ],
          [
           "male"
          ],
          [
           "female"
          ],
          [
           "male"
          ],
          [
           "male"
          ],
          [
           "male"
          ],
          [
           "male"
          ],
          [
           "female"
          ],
          [
           "male"
          ],
          [
           "male"
          ],
          [
           "female"
          ],
          [
           "male"
          ],
          [
           "male"
          ],
          [
           "male"
          ],
          [
           "female"
          ],
          [
           "male"
          ],
          [
           "female"
          ],
          [
           "male"
          ],
          [
           "male"
          ],
          [
           "male"
          ],
          [
           "female"
          ],
          [
           "male"
          ],
          [
           "female"
          ],
          [
           "male"
          ],
          [
           "female"
          ],
          [
           "female"
          ],
          [
           "male"
          ],
          [
           "male"
          ],
          [
           "female"
          ],
          [
           "female"
          ],
          [
           "male"
          ],
          [
           "male"
          ],
          [
           "male"
          ],
          [
           "male"
          ],
          [
           "male"
          ],
          [
           "female"
          ],
          [
           "male"
          ],
          [
           "male"
          ],
          [
           "female"
          ],
          [
           "male"
          ],
          [
           "male"
          ],
          [
           "female"
          ],
          [
           "male"
          ],
          [
           "male"
          ],
          [
           "male"
          ],
          [
           "female"
          ],
          [
           "female"
          ],
          [
           "male"
          ],
          [
           "female"
          ],
          [
           "male"
          ],
          [
           "male"
          ],
          [
           "male"
          ],
          [
           "male"
          ],
          [
           "male"
          ],
          [
           "male"
          ],
          [
           "male"
          ],
          [
           "male"
          ],
          [
           "male"
          ],
          [
           "male"
          ],
          [
           "female"
          ],
          [
           "female"
          ],
          [
           "male"
          ],
          [
           "male"
          ],
          [
           "female"
          ],
          [
           "male"
          ],
          [
           "female"
          ],
          [
           "male"
          ],
          [
           "female"
          ],
          [
           "male"
          ],
          [
           "male"
          ],
          [
           "female"
          ],
          [
           "female"
          ],
          [
           "male"
          ],
          [
           "male"
          ],
          [
           "male"
          ],
          [
           "male"
          ],
          [
           "female"
          ],
          [
           "female"
          ],
          [
           "male"
          ],
          [
           "male"
          ],
          [
           "male"
          ],
          [
           "female"
          ],
          [
           "male"
          ],
          [
           "male"
          ],
          [
           "female"
          ],
          [
           "female"
          ],
          [
           "female"
          ],
          [
           "female"
          ],
          [
           "female"
          ],
          [
           "female"
          ],
          [
           "male"
          ],
          [
           "male"
          ],
          [
           "male"
          ],
          [
           "male"
          ],
          [
           "female"
          ],
          [
           "male"
          ],
          [
           "male"
          ],
          [
           "male"
          ],
          [
           "female"
          ],
          [
           "female"
          ],
          [
           "male"
          ],
          [
           "male"
          ],
          [
           "female"
          ],
          [
           "male"
          ],
          [
           "female"
          ],
          [
           "female"
          ],
          [
           "female"
          ],
          [
           "male"
          ],
          [
           "male"
          ],
          [
           "female"
          ],
          [
           "male"
          ],
          [
           "male"
          ],
          [
           "male"
          ],
          [
           "male"
          ],
          [
           "male"
          ],
          [
           "male"
          ],
          [
           "male"
          ],
          [
           "male"
          ],
          [
           "male"
          ],
          [
           "female"
          ],
          [
           "female"
          ],
          [
           "female"
          ],
          [
           "male"
          ],
          [
           "female"
          ],
          [
           "male"
          ],
          [
           "male"
          ],
          [
           "male"
          ],
          [
           "female"
          ],
          [
           "male"
          ],
          [
           "female"
          ],
          [
           "female"
          ],
          [
           "male"
          ],
          [
           "male"
          ],
          [
           "female"
          ],
          [
           "male"
          ],
          [
           "male"
          ],
          [
           "female"
          ],
          [
           "female"
          ],
          [
           "male"
          ],
          [
           "female"
          ],
          [
           "female"
          ],
          [
           "female"
          ],
          [
           "female"
          ],
          [
           "male"
          ],
          [
           "male"
          ],
          [
           "female"
          ],
          [
           "female"
          ],
          [
           "male"
          ],
          [
           "female"
          ],
          [
           "female"
          ],
          [
           "male"
          ],
          [
           "male"
          ],
          [
           "female"
          ],
          [
           "female"
          ],
          [
           "male"
          ],
          [
           "female"
          ],
          [
           "male"
          ],
          [
           "female"
          ],
          [
           "female"
          ],
          [
           "female"
          ],
          [
           "female"
          ],
          [
           "male"
          ],
          [
           "male"
          ],
          [
           "male"
          ],
          [
           "female"
          ],
          [
           "male"
          ],
          [
           "male"
          ],
          [
           "female"
          ],
          [
           "male"
          ],
          [
           "male"
          ],
          [
           "male"
          ],
          [
           "female"
          ],
          [
           "male"
          ],
          [
           "male"
          ],
          [
           "male"
          ],
          [
           "female"
          ],
          [
           "female"
          ],
          [
           "female"
          ],
          [
           "male"
          ],
          [
           "male"
          ],
          [
           "male"
          ],
          [
           "male"
          ],
          [
           "male"
          ],
          [
           "male"
          ],
          [
           "male"
          ],
          [
           "male"
          ],
          [
           "female"
          ],
          [
           "female"
          ],
          [
           "female"
          ],
          [
           "female"
          ],
          [
           "male"
          ],
          [
           "male"
          ],
          [
           "female"
          ],
          [
           "male"
          ],
          [
           "male"
          ],
          [
           "male"
          ],
          [
           "female"
          ],
          [
           "female"
          ],
          [
           "female"
          ],
          [
           "female"
          ],
          [
           "male"
          ],
          [
           "male"
          ],
          [
           "male"
          ],
          [
           "male"
          ],
          [
           "female"
          ],
          [
           "female"
          ],
          [
           "female"
          ],
          [
           "male"
          ],
          [
           "male"
          ],
          [
           "male"
          ],
          [
           "female"
          ],
          [
           "female"
          ],
          [
           "male"
          ],
          [
           "female"
          ],
          [
           "male"
          ],
          [
           "male"
          ],
          [
           "male"
          ],
          [
           "female"
          ],
          [
           "male"
          ],
          [
           "female"
          ],
          [
           "male"
          ],
          [
           "male"
          ],
          [
           "male"
          ],
          [
           "female"
          ],
          [
           "female"
          ],
          [
           "male"
          ],
          [
           "female"
          ],
          [
           "male"
          ],
          [
           "male"
          ],
          [
           "female"
          ],
          [
           "male"
          ],
          [
           "male"
          ],
          [
           "female"
          ],
          [
           "male"
          ],
          [
           "female"
          ],
          [
           "male"
          ],
          [
           "male"
          ],
          [
           "male"
          ],
          [
           "male"
          ],
          [
           "female"
          ],
          [
           "male"
          ],
          [
           "male"
          ],
          [
           "female"
          ],
          [
           "male"
          ],
          [
           "male"
          ],
          [
           "female"
          ],
          [
           "female"
          ],
          [
           "female"
          ],
          [
           "male"
          ],
          [
           "female"
          ],
          [
           "male"
          ],
          [
           "male"
          ],
          [
           "male"
          ],
          [
           "female"
          ],
          [
           "male"
          ],
          [
           "male"
          ],
          [
           "female"
          ],
          [
           "female"
          ],
          [
           "male"
          ],
          [
           "male"
          ],
          [
           "male"
          ],
          [
           "female"
          ],
          [
           "female"
          ],
          [
           "male"
          ],
          [
           "male"
          ],
          [
           "female"
          ],
          [
           "female"
          ],
          [
           "female"
          ],
          [
           "male"
          ],
          [
           "male"
          ],
          [
           "female"
          ],
          [
           "male"
          ],
          [
           "male"
          ],
          [
           "female"
          ],
          [
           "male"
          ],
          [
           "male"
          ],
          [
           "female"
          ],
          [
           "male"
          ],
          [
           "female"
          ],
          [
           "male"
          ],
          [
           "male"
          ],
          [
           "male"
          ],
          [
           "male"
          ],
          [
           "male"
          ],
          [
           "male"
          ],
          [
           "male"
          ],
          [
           "male"
          ],
          [
           "female"
          ],
          [
           "female"
          ],
          [
           "male"
          ],
          [
           "male"
          ],
          [
           "male"
          ],
          [
           "male"
          ],
          [
           "male"
          ],
          [
           "male"
          ],
          [
           "male"
          ],
          [
           "male"
          ],
          [
           "male"
          ],
          [
           "male"
          ],
          [
           "female"
          ],
          [
           "male"
          ],
          [
           "male"
          ],
          [
           "female"
          ],
          [
           "female"
          ],
          [
           "female"
          ],
          [
           "male"
          ],
          [
           "male"
          ],
          [
           "male"
          ],
          [
           "male"
          ],
          [
           "female"
          ],
          [
           "male"
          ],
          [
           "male"
          ],
          [
           "male"
          ],
          [
           "female"
          ],
          [
           "male"
          ],
          [
           "female"
          ],
          [
           "female"
          ],
          [
           "male"
          ],
          [
           "male"
          ],
          [
           "male"
          ],
          [
           "male"
          ],
          [
           "male"
          ],
          [
           "male"
          ],
          [
           "male"
          ],
          [
           "male"
          ],
          [
           "male"
          ],
          [
           "female"
          ],
          [
           "male"
          ],
          [
           "female"
          ],
          [
           "male"
          ],
          [
           "male"
          ],
          [
           "female"
          ],
          [
           "female"
          ],
          [
           "female"
          ],
          [
           "female"
          ],
          [
           "male"
          ],
          [
           "female"
          ],
          [
           "male"
          ],
          [
           "male"
          ],
          [
           "male"
          ],
          [
           "male"
          ],
          [
           "male"
          ],
          [
           "male"
          ],
          [
           "female"
          ],
          [
           "male"
          ],
          [
           "male"
          ],
          [
           "female"
          ],
          [
           "male"
          ],
          [
           "female"
          ],
          [
           "male"
          ],
          [
           "female"
          ],
          [
           "male"
          ],
          [
           "male"
          ],
          [
           "female"
          ],
          [
           "male"
          ],
          [
           "male"
          ],
          [
           "female"
          ],
          [
           "male"
          ],
          [
           "male"
          ],
          [
           "male"
          ],
          [
           "female"
          ],
          [
           "male"
          ],
          [
           "male"
          ],
          [
           "female"
          ],
          [
           "female"
          ],
          [
           "female"
          ],
          [
           "male"
          ],
          [
           "female"
          ],
          [
           "male"
          ],
          [
           "female"
          ],
          [
           "female"
          ],
          [
           "female"
          ],
          [
           "female"
          ],
          [
           "male"
          ],
          [
           "male"
          ],
          [
           "male"
          ],
          [
           "female"
          ],
          [
           "male"
          ],
          [
           "male"
          ],
          [
           "male"
          ],
          [
           "male"
          ],
          [
           "male"
          ],
          [
           "male"
          ],
          [
           "male"
          ],
          [
           "female"
          ],
          [
           "male"
          ],
          [
           "female"
          ],
          [
           "male"
          ],
          [
           "female"
          ],
          [
           "female"
          ],
          [
           "male"
          ],
          [
           "male"
          ],
          [
           "male"
          ],
          [
           "male"
          ],
          [
           "female"
          ],
          [
           "male"
          ],
          [
           "male"
          ],
          [
           "female"
          ],
          [
           "male"
          ],
          [
           "male"
          ],
          [
           "male"
          ],
          [
           "female"
          ],
          [
           "male"
          ],
          [
           "female"
          ],
          [
           "male"
          ],
          [
           "male"
          ],
          [
           "female"
          ],
          [
           "female"
          ],
          [
           "female"
          ],
          [
           "male"
          ],
          [
           "female"
          ],
          [
           "female"
          ],
          [
           "male"
          ],
          [
           "male"
          ],
          [
           "male"
          ],
          [
           "female"
          ],
          [
           "male"
          ],
          [
           "male"
          ],
          [
           "male"
          ],
          [
           "male"
          ],
          [
           "male"
          ],
          [
           "female"
          ],
          [
           "male"
          ],
          [
           "female"
          ],
          [
           "male"
          ],
          [
           "male"
          ],
          [
           "female"
          ],
          [
           "male"
          ],
          [
           "male"
          ],
          [
           "male"
          ],
          [
           "female"
          ],
          [
           "male"
          ],
          [
           "male"
          ],
          [
           "male"
          ],
          [
           "male"
          ],
          [
           "male"
          ],
          [
           "male"
          ],
          [
           "male"
          ],
          [
           "female"
          ],
          [
           "female"
          ],
          [
           "female"
          ],
          [
           "male"
          ],
          [
           "female"
          ],
          [
           "male"
          ],
          [
           "male"
          ],
          [
           "female"
          ],
          [
           "male"
          ],
          [
           "female"
          ],
          [
           "female"
          ],
          [
           "male"
          ],
          [
           "male"
          ],
          [
           "male"
          ],
          [
           "male"
          ],
          [
           "male"
          ],
          [
           "male"
          ],
          [
           "male"
          ],
          [
           "male"
          ],
          [
           "female"
          ],
          [
           "male"
          ],
          [
           "male"
          ],
          [
           "male"
          ],
          [
           "male"
          ],
          [
           "male"
          ],
          [
           "male"
          ],
          [
           "female"
          ],
          [
           "female"
          ],
          [
           "male"
          ],
          [
           "male"
          ],
          [
           "female"
          ],
          [
           "male"
          ],
          [
           "male"
          ],
          [
           "female"
          ],
          [
           "female"
          ],
          [
           "male"
          ],
          [
           "female"
          ],
          [
           "male"
          ],
          [
           "male"
          ],
          [
           "male"
          ],
          [
           "male"
          ],
          [
           "female"
          ],
          [
           "male"
          ],
          [
           "female"
          ],
          [
           "male"
          ],
          [
           "female"
          ],
          [
           "female"
          ],
          [
           "male"
          ],
          [
           "male"
          ],
          [
           "female"
          ],
          [
           "male"
          ],
          [
           "male"
          ],
          [
           "male"
          ],
          [
           "male"
          ],
          [
           "male"
          ],
          [
           "male"
          ],
          [
           "male"
          ],
          [
           "male"
          ],
          [
           "male"
          ],
          [
           "male"
          ],
          [
           "male"
          ],
          [
           "female"
          ],
          [
           "female"
          ],
          [
           "male"
          ],
          [
           "male"
          ],
          [
           "male"
          ],
          [
           "male"
          ],
          [
           "male"
          ],
          [
           "male"
          ],
          [
           "female"
          ],
          [
           "female"
          ],
          [
           "male"
          ],
          [
           "female"
          ],
          [
           "male"
          ],
          [
           "male"
          ],
          [
           "male"
          ],
          [
           "male"
          ],
          [
           "male"
          ],
          [
           "male"
          ],
          [
           "male"
          ],
          [
           "male"
          ],
          [
           "female"
          ],
          [
           "male"
          ],
          [
           "female"
          ],
          [
           "male"
          ],
          [
           "male"
          ],
          [
           "male"
          ],
          [
           "male"
          ],
          [
           "male"
          ],
          [
           "female"
          ],
          [
           "male"
          ],
          [
           "male"
          ],
          [
           "female"
          ],
          [
           "male"
          ],
          [
           "female"
          ],
          [
           "male"
          ],
          [
           "male"
          ],
          [
           "male"
          ],
          [
           "female"
          ],
          [
           "male"
          ],
          [
           "female"
          ],
          [
           "male"
          ],
          [
           "female"
          ],
          [
           "male"
          ],
          [
           "male"
          ],
          [
           "male"
          ],
          [
           "male"
          ],
          [
           "male"
          ],
          [
           "female"
          ],
          [
           "female"
          ],
          [
           "male"
          ],
          [
           "male"
          ],
          [
           "female"
          ],
          [
           "male"
          ],
          [
           "male"
          ],
          [
           "male"
          ],
          [
           "male"
          ],
          [
           "male"
          ],
          [
           "female"
          ],
          [
           "female"
          ],
          [
           "male"
          ],
          [
           "female"
          ],
          [
           "female"
          ],
          [
           "male"
          ],
          [
           "male"
          ],
          [
           "male"
          ],
          [
           "male"
          ],
          [
           "male"
          ],
          [
           "female"
          ],
          [
           "male"
          ],
          [
           "male"
          ],
          [
           "male"
          ],
          [
           "male"
          ],
          [
           "male"
          ],
          [
           "female"
          ],
          [
           "male"
          ],
          [
           "male"
          ],
          [
           "male"
          ],
          [
           "male"
          ],
          [
           "female"
          ],
          [
           "male"
          ],
          [
           "male"
          ],
          [
           "female"
          ],
          [
           "male"
          ],
          [
           "male"
          ],
          [
           "male"
          ],
          [
           "female"
          ],
          [
           "male"
          ],
          [
           "male"
          ],
          [
           "male"
          ],
          [
           "male"
          ],
          [
           "female"
          ],
          [
           "male"
          ],
          [
           "male"
          ],
          [
           "male"
          ],
          [
           "female"
          ],
          [
           "male"
          ],
          [
           "female"
          ],
          [
           "male"
          ],
          [
           "female"
          ],
          [
           "male"
          ],
          [
           "male"
          ],
          [
           "male"
          ],
          [
           "male"
          ],
          [
           "female"
          ],
          [
           "male"
          ],
          [
           "female"
          ],
          [
           "male"
          ],
          [
           "male"
          ],
          [
           "female"
          ],
          [
           "male"
          ],
          [
           "female"
          ],
          [
           "female"
          ],
          [
           "female"
          ],
          [
           "male"
          ],
          [
           "male"
          ],
          [
           "male"
          ],
          [
           "male"
          ],
          [
           "female"
          ],
          [
           "male"
          ],
          [
           "male"
          ],
          [
           "male"
          ],
          [
           "male"
          ],
          [
           "male"
          ],
          [
           "female"
          ],
          [
           "male"
          ],
          [
           "male"
          ],
          [
           "male"
          ],
          [
           "female"
          ],
          [
           "female"
          ],
          [
           "male"
          ],
          [
           "female"
          ],
          [
           "male"
          ],
          [
           "female"
          ],
          [
           "male"
          ],
          [
           "male"
          ],
          [
           "male"
          ],
          [
           "male"
          ],
          [
           "male"
          ],
          [
           "female"
          ],
          [
           "male"
          ],
          [
           "female"
          ],
          [
           "male"
          ],
          [
           "male"
          ],
          [
           "male"
          ],
          [
           "female"
          ],
          [
           "male"
          ],
          [
           "male"
          ],
          [
           "female"
          ],
          [
           "male"
          ],
          [
           "male"
          ],
          [
           "male"
          ],
          [
           "female"
          ],
          [
           "male"
          ],
          [
           "male"
          ],
          [
           "female"
          ],
          [
           "male"
          ],
          [
           "male"
          ],
          [
           "male"
          ],
          [
           "male"
          ],
          [
           "male"
          ],
          [
           "female"
          ],
          [
           "female"
          ],
          [
           "male"
          ],
          [
           "male"
          ],
          [
           "male"
          ],
          [
           "male"
          ],
          [
           "female"
          ],
          [
           "male"
          ],
          [
           "male"
          ],
          [
           "male"
          ],
          [
           "male"
          ],
          [
           "male"
          ],
          [
           "male"
          ],
          [
           "female"
          ],
          [
           "male"
          ],
          [
           "male"
          ],
          [
           "male"
          ],
          [
           "male"
          ],
          [
           "male"
          ],
          [
           "male"
          ],
          [
           "female"
          ],
          [
           "male"
          ],
          [
           "male"
          ],
          [
           "female"
          ],
          [
           "female"
          ],
          [
           "female"
          ],
          [
           "female"
          ],
          [
           "female"
          ],
          [
           "male"
          ],
          [
           "female"
          ],
          [
           "male"
          ],
          [
           "male"
          ],
          [
           "male"
          ],
          [
           "female"
          ],
          [
           "female"
          ],
          [
           "male"
          ],
          [
           "female"
          ],
          [
           "female"
          ],
          [
           "male"
          ],
          [
           "male"
          ],
          [
           "male"
          ],
          [
           "male"
          ],
          [
           "female"
          ],
          [
           "male"
          ],
          [
           "male"
          ],
          [
           "female"
          ],
          [
           "female"
          ],
          [
           "male"
          ],
          [
           "male"
          ],
          [
           "male"
          ],
          [
           "female"
          ],
          [
           "female"
          ],
          [
           "male"
          ],
          [
           "female"
          ],
          [
           "male"
          ],
          [
           "male"
          ],
          [
           "female"
          ],
          [
           "male"
          ],
          [
           "female"
          ],
          [
           "female"
          ],
          [
           "male"
          ],
          [
           "male"
          ]
         ],
         "domain": {
          "x": [
           0,
           1
          ],
          "y": [
           0,
           1
          ]
         },
         "hovertemplate": "Sex=%{customdata[0]}<extra></extra>",
         "labels": [
          "male",
          "female",
          "female",
          "female",
          "male",
          "male",
          "male",
          "male",
          "female",
          "female",
          "female",
          "female",
          "male",
          "male",
          "female",
          "female",
          "male",
          "male",
          "female",
          "female",
          "male",
          "male",
          "female",
          "male",
          "female",
          "female",
          "male",
          "male",
          "female",
          "male",
          "male",
          "female",
          "female",
          "male",
          "male",
          "male",
          "male",
          "male",
          "female",
          "female",
          "female",
          "female",
          "male",
          "female",
          "female",
          "male",
          "male",
          "female",
          "male",
          "female",
          "male",
          "male",
          "female",
          "female",
          "male",
          "male",
          "female",
          "male",
          "female",
          "male",
          "male",
          "female",
          "male",
          "male",
          "male",
          "male",
          "female",
          "male",
          "female",
          "male",
          "male",
          "female",
          "male",
          "male",
          "male",
          "male",
          "male",
          "male",
          "male",
          "female",
          "male",
          "male",
          "female",
          "male",
          "female",
          "female",
          "male",
          "male",
          "female",
          "male",
          "male",
          "male",
          "male",
          "male",
          "male",
          "male",
          "male",
          "male",
          "female",
          "male",
          "female",
          "male",
          "male",
          "male",
          "male",
          "male",
          "female",
          "male",
          "male",
          "female",
          "male",
          "female",
          "male",
          "female",
          "female",
          "male",
          "male",
          "male",
          "male",
          "female",
          "male",
          "male",
          "male",
          "female",
          "male",
          "male",
          "male",
          "male",
          "female",
          "male",
          "male",
          "male",
          "female",
          "female",
          "male",
          "male",
          "female",
          "male",
          "male",
          "male",
          "female",
          "female",
          "female",
          "male",
          "male",
          "male",
          "male",
          "female",
          "male",
          "male",
          "male",
          "female",
          "male",
          "male",
          "male",
          "male",
          "female",
          "male",
          "male",
          "male",
          "male",
          "female",
          "male",
          "male",
          "male",
          "male",
          "female",
          "female",
          "male",
          "male",
          "male",
          "male",
          "female",
          "male",
          "male",
          "male",
          "male",
          "female",
          "male",
          "male",
          "female",
          "male",
          "male",
          "male",
          "female",
          "male",
          "female",
          "male",
          "male",
          "male",
          "female",
          "male",
          "female",
          "male",
          "female",
          "female",
          "male",
          "male",
          "female",
          "female",
          "male",
          "male",
          "male",
          "male",
          "male",
          "female",
          "male",
          "male",
          "female",
          "male",
          "male",
          "female",
          "male",
          "male",
          "male",
          "female",
          "female",
          "male",
          "female",
          "male",
          "male",
          "male",
          "male",
          "male",
          "male",
          "male",
          "male",
          "male",
          "male",
          "female",
          "female",
          "male",
          "male",
          "female",
          "male",
          "female",
          "male",
          "female",
          "male",
          "male",
          "female",
          "female",
          "male",
          "male",
          "male",
          "male",
          "female",
          "female",
          "male",
          "male",
          "male",
          "female",
          "male",
          "male",
          "female",
          "female",
          "female",
          "female",
          "female",
          "female",
          "male",
          "male",
          "male",
          "male",
          "female",
          "male",
          "male",
          "male",
          "female",
          "female",
          "male",
          "male",
          "female",
          "male",
          "female",
          "female",
          "female",
          "male",
          "male",
          "female",
          "male",
          "male",
          "male",
          "male",
          "male",
          "male",
          "male",
          "male",
          "male",
          "female",
          "female",
          "female",
          "male",
          "female",
          "male",
          "male",
          "male",
          "female",
          "male",
          "female",
          "female",
          "male",
          "male",
          "female",
          "male",
          "male",
          "female",
          "female",
          "male",
          "female",
          "female",
          "female",
          "female",
          "male",
          "male",
          "female",
          "female",
          "male",
          "female",
          "female",
          "male",
          "male",
          "female",
          "female",
          "male",
          "female",
          "male",
          "female",
          "female",
          "female",
          "female",
          "male",
          "male",
          "male",
          "female",
          "male",
          "male",
          "female",
          "male",
          "male",
          "male",
          "female",
          "male",
          "male",
          "male",
          "female",
          "female",
          "female",
          "male",
          "male",
          "male",
          "male",
          "male",
          "male",
          "male",
          "male",
          "female",
          "female",
          "female",
          "female",
          "male",
          "male",
          "female",
          "male",
          "male",
          "male",
          "female",
          "female",
          "female",
          "female",
          "male",
          "male",
          "male",
          "male",
          "female",
          "female",
          "female",
          "male",
          "male",
          "male",
          "female",
          "female",
          "male",
          "female",
          "male",
          "male",
          "male",
          "female",
          "male",
          "female",
          "male",
          "male",
          "male",
          "female",
          "female",
          "male",
          "female",
          "male",
          "male",
          "female",
          "male",
          "male",
          "female",
          "male",
          "female",
          "male",
          "male",
          "male",
          "male",
          "female",
          "male",
          "male",
          "female",
          "male",
          "male",
          "female",
          "female",
          "female",
          "male",
          "female",
          "male",
          "male",
          "male",
          "female",
          "male",
          "male",
          "female",
          "female",
          "male",
          "male",
          "male",
          "female",
          "female",
          "male",
          "male",
          "female",
          "female",
          "female",
          "male",
          "male",
          "female",
          "male",
          "male",
          "female",
          "male",
          "male",
          "female",
          "male",
          "female",
          "male",
          "male",
          "male",
          "male",
          "male",
          "male",
          "male",
          "male",
          "female",
          "female",
          "male",
          "male",
          "male",
          "male",
          "male",
          "male",
          "male",
          "male",
          "male",
          "male",
          "female",
          "male",
          "male",
          "female",
          "female",
          "female",
          "male",
          "male",
          "male",
          "male",
          "female",
          "male",
          "male",
          "male",
          "female",
          "male",
          "female",
          "female",
          "male",
          "male",
          "male",
          "male",
          "male",
          "male",
          "male",
          "male",
          "male",
          "female",
          "male",
          "female",
          "male",
          "male",
          "female",
          "female",
          "female",
          "female",
          "male",
          "female",
          "male",
          "male",
          "male",
          "male",
          "male",
          "male",
          "female",
          "male",
          "male",
          "female",
          "male",
          "female",
          "male",
          "female",
          "male",
          "male",
          "female",
          "male",
          "male",
          "female",
          "male",
          "male",
          "male",
          "female",
          "male",
          "male",
          "female",
          "female",
          "female",
          "male",
          "female",
          "male",
          "female",
          "female",
          "female",
          "female",
          "male",
          "male",
          "male",
          "female",
          "male",
          "male",
          "male",
          "male",
          "male",
          "male",
          "male",
          "female",
          "male",
          "female",
          "male",
          "female",
          "female",
          "male",
          "male",
          "male",
          "male",
          "female",
          "male",
          "male",
          "female",
          "male",
          "male",
          "male",
          "female",
          "male",
          "female",
          "male",
          "male",
          "female",
          "female",
          "female",
          "male",
          "female",
          "female",
          "male",
          "male",
          "male",
          "female",
          "male",
          "male",
          "male",
          "male",
          "male",
          "female",
          "male",
          "female",
          "male",
          "male",
          "female",
          "male",
          "male",
          "male",
          "female",
          "male",
          "male",
          "male",
          "male",
          "male",
          "male",
          "male",
          "female",
          "female",
          "female",
          "male",
          "female",
          "male",
          "male",
          "female",
          "male",
          "female",
          "female",
          "male",
          "male",
          "male",
          "male",
          "male",
          "male",
          "male",
          "male",
          "female",
          "male",
          "male",
          "male",
          "male",
          "male",
          "male",
          "female",
          "female",
          "male",
          "male",
          "female",
          "male",
          "male",
          "female",
          "female",
          "male",
          "female",
          "male",
          "male",
          "male",
          "male",
          "female",
          "male",
          "female",
          "male",
          "female",
          "female",
          "male",
          "male",
          "female",
          "male",
          "male",
          "male",
          "male",
          "male",
          "male",
          "male",
          "male",
          "male",
          "male",
          "male",
          "female",
          "female",
          "male",
          "male",
          "male",
          "male",
          "male",
          "male",
          "female",
          "female",
          "male",
          "female",
          "male",
          "male",
          "male",
          "male",
          "male",
          "male",
          "male",
          "male",
          "female",
          "male",
          "female",
          "male",
          "male",
          "male",
          "male",
          "male",
          "female",
          "male",
          "male",
          "female",
          "male",
          "female",
          "male",
          "male",
          "male",
          "female",
          "male",
          "female",
          "male",
          "female",
          "male",
          "male",
          "male",
          "male",
          "male",
          "female",
          "female",
          "male",
          "male",
          "female",
          "male",
          "male",
          "male",
          "male",
          "male",
          "female",
          "female",
          "male",
          "female",
          "female",
          "male",
          "male",
          "male",
          "male",
          "male",
          "female",
          "male",
          "male",
          "male",
          "male",
          "male",
          "female",
          "male",
          "male",
          "male",
          "male",
          "female",
          "male",
          "male",
          "female",
          "male",
          "male",
          "male",
          "female",
          "male",
          "male",
          "male",
          "male",
          "female",
          "male",
          "male",
          "male",
          "female",
          "male",
          "female",
          "male",
          "female",
          "male",
          "male",
          "male",
          "male",
          "female",
          "male",
          "female",
          "male",
          "male",
          "female",
          "male",
          "female",
          "female",
          "female",
          "male",
          "male",
          "male",
          "male",
          "female",
          "male",
          "male",
          "male",
          "male",
          "male",
          "female",
          "male",
          "male",
          "male",
          "female",
          "female",
          "male",
          "female",
          "male",
          "female",
          "male",
          "male",
          "male",
          "male",
          "male",
          "female",
          "male",
          "female",
          "male",
          "male",
          "male",
          "female",
          "male",
          "male",
          "female",
          "male",
          "male",
          "male",
          "female",
          "male",
          "male",
          "female",
          "male",
          "male",
          "male",
          "male",
          "male",
          "female",
          "female",
          "male",
          "male",
          "male",
          "male",
          "female",
          "male",
          "male",
          "male",
          "male",
          "male",
          "male",
          "female",
          "male",
          "male",
          "male",
          "male",
          "male",
          "male",
          "female",
          "male",
          "male",
          "female",
          "female",
          "female",
          "female",
          "female",
          "male",
          "female",
          "male",
          "male",
          "male",
          "female",
          "female",
          "male",
          "female",
          "female",
          "male",
          "male",
          "male",
          "male",
          "female",
          "male",
          "male",
          "female",
          "female",
          "male",
          "male",
          "male",
          "female",
          "female",
          "male",
          "female",
          "male",
          "male",
          "female",
          "male",
          "female",
          "female",
          "male",
          "male"
         ],
         "legendgroup": "",
         "marker": {
          "colors": [
           "#636efa",
           "#EF553B",
           "#EF553B",
           "#EF553B",
           "#636efa",
           "#636efa",
           "#636efa",
           "#636efa",
           "#EF553B",
           "#EF553B",
           "#EF553B",
           "#EF553B",
           "#636efa",
           "#636efa",
           "#EF553B",
           "#EF553B",
           "#636efa",
           "#636efa",
           "#EF553B",
           "#EF553B",
           "#636efa",
           "#636efa",
           "#EF553B",
           "#636efa",
           "#EF553B",
           "#EF553B",
           "#636efa",
           "#636efa",
           "#EF553B",
           "#636efa",
           "#636efa",
           "#EF553B",
           "#EF553B",
           "#636efa",
           "#636efa",
           "#636efa",
           "#636efa",
           "#636efa",
           "#EF553B",
           "#EF553B",
           "#EF553B",
           "#EF553B",
           "#636efa",
           "#EF553B",
           "#EF553B",
           "#636efa",
           "#636efa",
           "#EF553B",
           "#636efa",
           "#EF553B",
           "#636efa",
           "#636efa",
           "#EF553B",
           "#EF553B",
           "#636efa",
           "#636efa",
           "#EF553B",
           "#636efa",
           "#EF553B",
           "#636efa",
           "#636efa",
           "#EF553B",
           "#636efa",
           "#636efa",
           "#636efa",
           "#636efa",
           "#EF553B",
           "#636efa",
           "#EF553B",
           "#636efa",
           "#636efa",
           "#EF553B",
           "#636efa",
           "#636efa",
           "#636efa",
           "#636efa",
           "#636efa",
           "#636efa",
           "#636efa",
           "#EF553B",
           "#636efa",
           "#636efa",
           "#EF553B",
           "#636efa",
           "#EF553B",
           "#EF553B",
           "#636efa",
           "#636efa",
           "#EF553B",
           "#636efa",
           "#636efa",
           "#636efa",
           "#636efa",
           "#636efa",
           "#636efa",
           "#636efa",
           "#636efa",
           "#636efa",
           "#EF553B",
           "#636efa",
           "#EF553B",
           "#636efa",
           "#636efa",
           "#636efa",
           "#636efa",
           "#636efa",
           "#EF553B",
           "#636efa",
           "#636efa",
           "#EF553B",
           "#636efa",
           "#EF553B",
           "#636efa",
           "#EF553B",
           "#EF553B",
           "#636efa",
           "#636efa",
           "#636efa",
           "#636efa",
           "#EF553B",
           "#636efa",
           "#636efa",
           "#636efa",
           "#EF553B",
           "#636efa",
           "#636efa",
           "#636efa",
           "#636efa",
           "#EF553B",
           "#636efa",
           "#636efa",
           "#636efa",
           "#EF553B",
           "#EF553B",
           "#636efa",
           "#636efa",
           "#EF553B",
           "#636efa",
           "#636efa",
           "#636efa",
           "#EF553B",
           "#EF553B",
           "#EF553B",
           "#636efa",
           "#636efa",
           "#636efa",
           "#636efa",
           "#EF553B",
           "#636efa",
           "#636efa",
           "#636efa",
           "#EF553B",
           "#636efa",
           "#636efa",
           "#636efa",
           "#636efa",
           "#EF553B",
           "#636efa",
           "#636efa",
           "#636efa",
           "#636efa",
           "#EF553B",
           "#636efa",
           "#636efa",
           "#636efa",
           "#636efa",
           "#EF553B",
           "#EF553B",
           "#636efa",
           "#636efa",
           "#636efa",
           "#636efa",
           "#EF553B",
           "#636efa",
           "#636efa",
           "#636efa",
           "#636efa",
           "#EF553B",
           "#636efa",
           "#636efa",
           "#EF553B",
           "#636efa",
           "#636efa",
           "#636efa",
           "#EF553B",
           "#636efa",
           "#EF553B",
           "#636efa",
           "#636efa",
           "#636efa",
           "#EF553B",
           "#636efa",
           "#EF553B",
           "#636efa",
           "#EF553B",
           "#EF553B",
           "#636efa",
           "#636efa",
           "#EF553B",
           "#EF553B",
           "#636efa",
           "#636efa",
           "#636efa",
           "#636efa",
           "#636efa",
           "#EF553B",
           "#636efa",
           "#636efa",
           "#EF553B",
           "#636efa",
           "#636efa",
           "#EF553B",
           "#636efa",
           "#636efa",
           "#636efa",
           "#EF553B",
           "#EF553B",
           "#636efa",
           "#EF553B",
           "#636efa",
           "#636efa",
           "#636efa",
           "#636efa",
           "#636efa",
           "#636efa",
           "#636efa",
           "#636efa",
           "#636efa",
           "#636efa",
           "#EF553B",
           "#EF553B",
           "#636efa",
           "#636efa",
           "#EF553B",
           "#636efa",
           "#EF553B",
           "#636efa",
           "#EF553B",
           "#636efa",
           "#636efa",
           "#EF553B",
           "#EF553B",
           "#636efa",
           "#636efa",
           "#636efa",
           "#636efa",
           "#EF553B",
           "#EF553B",
           "#636efa",
           "#636efa",
           "#636efa",
           "#EF553B",
           "#636efa",
           "#636efa",
           "#EF553B",
           "#EF553B",
           "#EF553B",
           "#EF553B",
           "#EF553B",
           "#EF553B",
           "#636efa",
           "#636efa",
           "#636efa",
           "#636efa",
           "#EF553B",
           "#636efa",
           "#636efa",
           "#636efa",
           "#EF553B",
           "#EF553B",
           "#636efa",
           "#636efa",
           "#EF553B",
           "#636efa",
           "#EF553B",
           "#EF553B",
           "#EF553B",
           "#636efa",
           "#636efa",
           "#EF553B",
           "#636efa",
           "#636efa",
           "#636efa",
           "#636efa",
           "#636efa",
           "#636efa",
           "#636efa",
           "#636efa",
           "#636efa",
           "#EF553B",
           "#EF553B",
           "#EF553B",
           "#636efa",
           "#EF553B",
           "#636efa",
           "#636efa",
           "#636efa",
           "#EF553B",
           "#636efa",
           "#EF553B",
           "#EF553B",
           "#636efa",
           "#636efa",
           "#EF553B",
           "#636efa",
           "#636efa",
           "#EF553B",
           "#EF553B",
           "#636efa",
           "#EF553B",
           "#EF553B",
           "#EF553B",
           "#EF553B",
           "#636efa",
           "#636efa",
           "#EF553B",
           "#EF553B",
           "#636efa",
           "#EF553B",
           "#EF553B",
           "#636efa",
           "#636efa",
           "#EF553B",
           "#EF553B",
           "#636efa",
           "#EF553B",
           "#636efa",
           "#EF553B",
           "#EF553B",
           "#EF553B",
           "#EF553B",
           "#636efa",
           "#636efa",
           "#636efa",
           "#EF553B",
           "#636efa",
           "#636efa",
           "#EF553B",
           "#636efa",
           "#636efa",
           "#636efa",
           "#EF553B",
           "#636efa",
           "#636efa",
           "#636efa",
           "#EF553B",
           "#EF553B",
           "#EF553B",
           "#636efa",
           "#636efa",
           "#636efa",
           "#636efa",
           "#636efa",
           "#636efa",
           "#636efa",
           "#636efa",
           "#EF553B",
           "#EF553B",
           "#EF553B",
           "#EF553B",
           "#636efa",
           "#636efa",
           "#EF553B",
           "#636efa",
           "#636efa",
           "#636efa",
           "#EF553B",
           "#EF553B",
           "#EF553B",
           "#EF553B",
           "#636efa",
           "#636efa",
           "#636efa",
           "#636efa",
           "#EF553B",
           "#EF553B",
           "#EF553B",
           "#636efa",
           "#636efa",
           "#636efa",
           "#EF553B",
           "#EF553B",
           "#636efa",
           "#EF553B",
           "#636efa",
           "#636efa",
           "#636efa",
           "#EF553B",
           "#636efa",
           "#EF553B",
           "#636efa",
           "#636efa",
           "#636efa",
           "#EF553B",
           "#EF553B",
           "#636efa",
           "#EF553B",
           "#636efa",
           "#636efa",
           "#EF553B",
           "#636efa",
           "#636efa",
           "#EF553B",
           "#636efa",
           "#EF553B",
           "#636efa",
           "#636efa",
           "#636efa",
           "#636efa",
           "#EF553B",
           "#636efa",
           "#636efa",
           "#EF553B",
           "#636efa",
           "#636efa",
           "#EF553B",
           "#EF553B",
           "#EF553B",
           "#636efa",
           "#EF553B",
           "#636efa",
           "#636efa",
           "#636efa",
           "#EF553B",
           "#636efa",
           "#636efa",
           "#EF553B",
           "#EF553B",
           "#636efa",
           "#636efa",
           "#636efa",
           "#EF553B",
           "#EF553B",
           "#636efa",
           "#636efa",
           "#EF553B",
           "#EF553B",
           "#EF553B",
           "#636efa",
           "#636efa",
           "#EF553B",
           "#636efa",
           "#636efa",
           "#EF553B",
           "#636efa",
           "#636efa",
           "#EF553B",
           "#636efa",
           "#EF553B",
           "#636efa",
           "#636efa",
           "#636efa",
           "#636efa",
           "#636efa",
           "#636efa",
           "#636efa",
           "#636efa",
           "#EF553B",
           "#EF553B",
           "#636efa",
           "#636efa",
           "#636efa",
           "#636efa",
           "#636efa",
           "#636efa",
           "#636efa",
           "#636efa",
           "#636efa",
           "#636efa",
           "#EF553B",
           "#636efa",
           "#636efa",
           "#EF553B",
           "#EF553B",
           "#EF553B",
           "#636efa",
           "#636efa",
           "#636efa",
           "#636efa",
           "#EF553B",
           "#636efa",
           "#636efa",
           "#636efa",
           "#EF553B",
           "#636efa",
           "#EF553B",
           "#EF553B",
           "#636efa",
           "#636efa",
           "#636efa",
           "#636efa",
           "#636efa",
           "#636efa",
           "#636efa",
           "#636efa",
           "#636efa",
           "#EF553B",
           "#636efa",
           "#EF553B",
           "#636efa",
           "#636efa",
           "#EF553B",
           "#EF553B",
           "#EF553B",
           "#EF553B",
           "#636efa",
           "#EF553B",
           "#636efa",
           "#636efa",
           "#636efa",
           "#636efa",
           "#636efa",
           "#636efa",
           "#EF553B",
           "#636efa",
           "#636efa",
           "#EF553B",
           "#636efa",
           "#EF553B",
           "#636efa",
           "#EF553B",
           "#636efa",
           "#636efa",
           "#EF553B",
           "#636efa",
           "#636efa",
           "#EF553B",
           "#636efa",
           "#636efa",
           "#636efa",
           "#EF553B",
           "#636efa",
           "#636efa",
           "#EF553B",
           "#EF553B",
           "#EF553B",
           "#636efa",
           "#EF553B",
           "#636efa",
           "#EF553B",
           "#EF553B",
           "#EF553B",
           "#EF553B",
           "#636efa",
           "#636efa",
           "#636efa",
           "#EF553B",
           "#636efa",
           "#636efa",
           "#636efa",
           "#636efa",
           "#636efa",
           "#636efa",
           "#636efa",
           "#EF553B",
           "#636efa",
           "#EF553B",
           "#636efa",
           "#EF553B",
           "#EF553B",
           "#636efa",
           "#636efa",
           "#636efa",
           "#636efa",
           "#EF553B",
           "#636efa",
           "#636efa",
           "#EF553B",
           "#636efa",
           "#636efa",
           "#636efa",
           "#EF553B",
           "#636efa",
           "#EF553B",
           "#636efa",
           "#636efa",
           "#EF553B",
           "#EF553B",
           "#EF553B",
           "#636efa",
           "#EF553B",
           "#EF553B",
           "#636efa",
           "#636efa",
           "#636efa",
           "#EF553B",
           "#636efa",
           "#636efa",
           "#636efa",
           "#636efa",
           "#636efa",
           "#EF553B",
           "#636efa",
           "#EF553B",
           "#636efa",
           "#636efa",
           "#EF553B",
           "#636efa",
           "#636efa",
           "#636efa",
           "#EF553B",
           "#636efa",
           "#636efa",
           "#636efa",
           "#636efa",
           "#636efa",
           "#636efa",
           "#636efa",
           "#EF553B",
           "#EF553B",
           "#EF553B",
           "#636efa",
           "#EF553B",
           "#636efa",
           "#636efa",
           "#EF553B",
           "#636efa",
           "#EF553B",
           "#EF553B",
           "#636efa",
           "#636efa",
           "#636efa",
           "#636efa",
           "#636efa",
           "#636efa",
           "#636efa",
           "#636efa",
           "#EF553B",
           "#636efa",
           "#636efa",
           "#636efa",
           "#636efa",
           "#636efa",
           "#636efa",
           "#EF553B",
           "#EF553B",
           "#636efa",
           "#636efa",
           "#EF553B",
           "#636efa",
           "#636efa",
           "#EF553B",
           "#EF553B",
           "#636efa",
           "#EF553B",
           "#636efa",
           "#636efa",
           "#636efa",
           "#636efa",
           "#EF553B",
           "#636efa",
           "#EF553B",
           "#636efa",
           "#EF553B",
           "#EF553B",
           "#636efa",
           "#636efa",
           "#EF553B",
           "#636efa",
           "#636efa",
           "#636efa",
           "#636efa",
           "#636efa",
           "#636efa",
           "#636efa",
           "#636efa",
           "#636efa",
           "#636efa",
           "#636efa",
           "#EF553B",
           "#EF553B",
           "#636efa",
           "#636efa",
           "#636efa",
           "#636efa",
           "#636efa",
           "#636efa",
           "#EF553B",
           "#EF553B",
           "#636efa",
           "#EF553B",
           "#636efa",
           "#636efa",
           "#636efa",
           "#636efa",
           "#636efa",
           "#636efa",
           "#636efa",
           "#636efa",
           "#EF553B",
           "#636efa",
           "#EF553B",
           "#636efa",
           "#636efa",
           "#636efa",
           "#636efa",
           "#636efa",
           "#EF553B",
           "#636efa",
           "#636efa",
           "#EF553B",
           "#636efa",
           "#EF553B",
           "#636efa",
           "#636efa",
           "#636efa",
           "#EF553B",
           "#636efa",
           "#EF553B",
           "#636efa",
           "#EF553B",
           "#636efa",
           "#636efa",
           "#636efa",
           "#636efa",
           "#636efa",
           "#EF553B",
           "#EF553B",
           "#636efa",
           "#636efa",
           "#EF553B",
           "#636efa",
           "#636efa",
           "#636efa",
           "#636efa",
           "#636efa",
           "#EF553B",
           "#EF553B",
           "#636efa",
           "#EF553B",
           "#EF553B",
           "#636efa",
           "#636efa",
           "#636efa",
           "#636efa",
           "#636efa",
           "#EF553B",
           "#636efa",
           "#636efa",
           "#636efa",
           "#636efa",
           "#636efa",
           "#EF553B",
           "#636efa",
           "#636efa",
           "#636efa",
           "#636efa",
           "#EF553B",
           "#636efa",
           "#636efa",
           "#EF553B",
           "#636efa",
           "#636efa",
           "#636efa",
           "#EF553B",
           "#636efa",
           "#636efa",
           "#636efa",
           "#636efa",
           "#EF553B",
           "#636efa",
           "#636efa",
           "#636efa",
           "#EF553B",
           "#636efa",
           "#EF553B",
           "#636efa",
           "#EF553B",
           "#636efa",
           "#636efa",
           "#636efa",
           "#636efa",
           "#EF553B",
           "#636efa",
           "#EF553B",
           "#636efa",
           "#636efa",
           "#EF553B",
           "#636efa",
           "#EF553B",
           "#EF553B",
           "#EF553B",
           "#636efa",
           "#636efa",
           "#636efa",
           "#636efa",
           "#EF553B",
           "#636efa",
           "#636efa",
           "#636efa",
           "#636efa",
           "#636efa",
           "#EF553B",
           "#636efa",
           "#636efa",
           "#636efa",
           "#EF553B",
           "#EF553B",
           "#636efa",
           "#EF553B",
           "#636efa",
           "#EF553B",
           "#636efa",
           "#636efa",
           "#636efa",
           "#636efa",
           "#636efa",
           "#EF553B",
           "#636efa",
           "#EF553B",
           "#636efa",
           "#636efa",
           "#636efa",
           "#EF553B",
           "#636efa",
           "#636efa",
           "#EF553B",
           "#636efa",
           "#636efa",
           "#636efa",
           "#EF553B",
           "#636efa",
           "#636efa",
           "#EF553B",
           "#636efa",
           "#636efa",
           "#636efa",
           "#636efa",
           "#636efa",
           "#EF553B",
           "#EF553B",
           "#636efa",
           "#636efa",
           "#636efa",
           "#636efa",
           "#EF553B",
           "#636efa",
           "#636efa",
           "#636efa",
           "#636efa",
           "#636efa",
           "#636efa",
           "#EF553B",
           "#636efa",
           "#636efa",
           "#636efa",
           "#636efa",
           "#636efa",
           "#636efa",
           "#EF553B",
           "#636efa",
           "#636efa",
           "#EF553B",
           "#EF553B",
           "#EF553B",
           "#EF553B",
           "#EF553B",
           "#636efa",
           "#EF553B",
           "#636efa",
           "#636efa",
           "#636efa",
           "#EF553B",
           "#EF553B",
           "#636efa",
           "#EF553B",
           "#EF553B",
           "#636efa",
           "#636efa",
           "#636efa",
           "#636efa",
           "#EF553B",
           "#636efa",
           "#636efa",
           "#EF553B",
           "#EF553B",
           "#636efa",
           "#636efa",
           "#636efa",
           "#EF553B",
           "#EF553B",
           "#636efa",
           "#EF553B",
           "#636efa",
           "#636efa",
           "#EF553B",
           "#636efa",
           "#EF553B",
           "#EF553B",
           "#636efa",
           "#636efa"
          ]
         },
         "name": "",
         "showlegend": true,
         "type": "pie"
        }
       ],
       "layout": {
        "autosize": true,
        "legend": {
         "tracegroupgap": 0
        },
        "margin": {
         "t": 60
        },
        "template": {
         "data": {
          "bar": [
           {
            "error_x": {
             "color": "#2a3f5f"
            },
            "error_y": {
             "color": "#2a3f5f"
            },
            "marker": {
             "line": {
              "color": "#E5ECF6",
              "width": 0.5
             },
             "pattern": {
              "fillmode": "overlay",
              "size": 10,
              "solidity": 0.2
             }
            },
            "type": "bar"
           }
          ],
          "barpolar": [
           {
            "marker": {
             "line": {
              "color": "#E5ECF6",
              "width": 0.5
             },
             "pattern": {
              "fillmode": "overlay",
              "size": 10,
              "solidity": 0.2
             }
            },
            "type": "barpolar"
           }
          ],
          "carpet": [
           {
            "aaxis": {
             "endlinecolor": "#2a3f5f",
             "gridcolor": "white",
             "linecolor": "white",
             "minorgridcolor": "white",
             "startlinecolor": "#2a3f5f"
            },
            "baxis": {
             "endlinecolor": "#2a3f5f",
             "gridcolor": "white",
             "linecolor": "white",
             "minorgridcolor": "white",
             "startlinecolor": "#2a3f5f"
            },
            "type": "carpet"
           }
          ],
          "choropleth": [
           {
            "colorbar": {
             "outlinewidth": 0,
             "ticks": ""
            },
            "type": "choropleth"
           }
          ],
          "contour": [
           {
            "colorbar": {
             "outlinewidth": 0,
             "ticks": ""
            },
            "colorscale": [
             [
              0,
              "#0d0887"
             ],
             [
              0.1111111111111111,
              "#46039f"
             ],
             [
              0.2222222222222222,
              "#7201a8"
             ],
             [
              0.3333333333333333,
              "#9c179e"
             ],
             [
              0.4444444444444444,
              "#bd3786"
             ],
             [
              0.5555555555555556,
              "#d8576b"
             ],
             [
              0.6666666666666666,
              "#ed7953"
             ],
             [
              0.7777777777777778,
              "#fb9f3a"
             ],
             [
              0.8888888888888888,
              "#fdca26"
             ],
             [
              1,
              "#f0f921"
             ]
            ],
            "type": "contour"
           }
          ],
          "contourcarpet": [
           {
            "colorbar": {
             "outlinewidth": 0,
             "ticks": ""
            },
            "type": "contourcarpet"
           }
          ],
          "heatmap": [
           {
            "colorbar": {
             "outlinewidth": 0,
             "ticks": ""
            },
            "colorscale": [
             [
              0,
              "#0d0887"
             ],
             [
              0.1111111111111111,
              "#46039f"
             ],
             [
              0.2222222222222222,
              "#7201a8"
             ],
             [
              0.3333333333333333,
              "#9c179e"
             ],
             [
              0.4444444444444444,
              "#bd3786"
             ],
             [
              0.5555555555555556,
              "#d8576b"
             ],
             [
              0.6666666666666666,
              "#ed7953"
             ],
             [
              0.7777777777777778,
              "#fb9f3a"
             ],
             [
              0.8888888888888888,
              "#fdca26"
             ],
             [
              1,
              "#f0f921"
             ]
            ],
            "type": "heatmap"
           }
          ],
          "heatmapgl": [
           {
            "colorbar": {
             "outlinewidth": 0,
             "ticks": ""
            },
            "colorscale": [
             [
              0,
              "#0d0887"
             ],
             [
              0.1111111111111111,
              "#46039f"
             ],
             [
              0.2222222222222222,
              "#7201a8"
             ],
             [
              0.3333333333333333,
              "#9c179e"
             ],
             [
              0.4444444444444444,
              "#bd3786"
             ],
             [
              0.5555555555555556,
              "#d8576b"
             ],
             [
              0.6666666666666666,
              "#ed7953"
             ],
             [
              0.7777777777777778,
              "#fb9f3a"
             ],
             [
              0.8888888888888888,
              "#fdca26"
             ],
             [
              1,
              "#f0f921"
             ]
            ],
            "type": "heatmapgl"
           }
          ],
          "histogram": [
           {
            "marker": {
             "pattern": {
              "fillmode": "overlay",
              "size": 10,
              "solidity": 0.2
             }
            },
            "type": "histogram"
           }
          ],
          "histogram2d": [
           {
            "colorbar": {
             "outlinewidth": 0,
             "ticks": ""
            },
            "colorscale": [
             [
              0,
              "#0d0887"
             ],
             [
              0.1111111111111111,
              "#46039f"
             ],
             [
              0.2222222222222222,
              "#7201a8"
             ],
             [
              0.3333333333333333,
              "#9c179e"
             ],
             [
              0.4444444444444444,
              "#bd3786"
             ],
             [
              0.5555555555555556,
              "#d8576b"
             ],
             [
              0.6666666666666666,
              "#ed7953"
             ],
             [
              0.7777777777777778,
              "#fb9f3a"
             ],
             [
              0.8888888888888888,
              "#fdca26"
             ],
             [
              1,
              "#f0f921"
             ]
            ],
            "type": "histogram2d"
           }
          ],
          "histogram2dcontour": [
           {
            "colorbar": {
             "outlinewidth": 0,
             "ticks": ""
            },
            "colorscale": [
             [
              0,
              "#0d0887"
             ],
             [
              0.1111111111111111,
              "#46039f"
             ],
             [
              0.2222222222222222,
              "#7201a8"
             ],
             [
              0.3333333333333333,
              "#9c179e"
             ],
             [
              0.4444444444444444,
              "#bd3786"
             ],
             [
              0.5555555555555556,
              "#d8576b"
             ],
             [
              0.6666666666666666,
              "#ed7953"
             ],
             [
              0.7777777777777778,
              "#fb9f3a"
             ],
             [
              0.8888888888888888,
              "#fdca26"
             ],
             [
              1,
              "#f0f921"
             ]
            ],
            "type": "histogram2dcontour"
           }
          ],
          "mesh3d": [
           {
            "colorbar": {
             "outlinewidth": 0,
             "ticks": ""
            },
            "type": "mesh3d"
           }
          ],
          "parcoords": [
           {
            "line": {
             "colorbar": {
              "outlinewidth": 0,
              "ticks": ""
             }
            },
            "type": "parcoords"
           }
          ],
          "pie": [
           {
            "automargin": true,
            "type": "pie"
           }
          ],
          "scatter": [
           {
            "marker": {
             "colorbar": {
              "outlinewidth": 0,
              "ticks": ""
             }
            },
            "type": "scatter"
           }
          ],
          "scatter3d": [
           {
            "line": {
             "colorbar": {
              "outlinewidth": 0,
              "ticks": ""
             }
            },
            "marker": {
             "colorbar": {
              "outlinewidth": 0,
              "ticks": ""
             }
            },
            "type": "scatter3d"
           }
          ],
          "scattercarpet": [
           {
            "marker": {
             "colorbar": {
              "outlinewidth": 0,
              "ticks": ""
             }
            },
            "type": "scattercarpet"
           }
          ],
          "scattergeo": [
           {
            "marker": {
             "colorbar": {
              "outlinewidth": 0,
              "ticks": ""
             }
            },
            "type": "scattergeo"
           }
          ],
          "scattergl": [
           {
            "marker": {
             "colorbar": {
              "outlinewidth": 0,
              "ticks": ""
             }
            },
            "type": "scattergl"
           }
          ],
          "scattermapbox": [
           {
            "marker": {
             "colorbar": {
              "outlinewidth": 0,
              "ticks": ""
             }
            },
            "type": "scattermapbox"
           }
          ],
          "scatterpolar": [
           {
            "marker": {
             "colorbar": {
              "outlinewidth": 0,
              "ticks": ""
             }
            },
            "type": "scatterpolar"
           }
          ],
          "scatterpolargl": [
           {
            "marker": {
             "colorbar": {
              "outlinewidth": 0,
              "ticks": ""
             }
            },
            "type": "scatterpolargl"
           }
          ],
          "scatterternary": [
           {
            "marker": {
             "colorbar": {
              "outlinewidth": 0,
              "ticks": ""
             }
            },
            "type": "scatterternary"
           }
          ],
          "surface": [
           {
            "colorbar": {
             "outlinewidth": 0,
             "ticks": ""
            },
            "colorscale": [
             [
              0,
              "#0d0887"
             ],
             [
              0.1111111111111111,
              "#46039f"
             ],
             [
              0.2222222222222222,
              "#7201a8"
             ],
             [
              0.3333333333333333,
              "#9c179e"
             ],
             [
              0.4444444444444444,
              "#bd3786"
             ],
             [
              0.5555555555555556,
              "#d8576b"
             ],
             [
              0.6666666666666666,
              "#ed7953"
             ],
             [
              0.7777777777777778,
              "#fb9f3a"
             ],
             [
              0.8888888888888888,
              "#fdca26"
             ],
             [
              1,
              "#f0f921"
             ]
            ],
            "type": "surface"
           }
          ],
          "table": [
           {
            "cells": {
             "fill": {
              "color": "#EBF0F8"
             },
             "line": {
              "color": "white"
             }
            },
            "header": {
             "fill": {
              "color": "#C8D4E3"
             },
             "line": {
              "color": "white"
             }
            },
            "type": "table"
           }
          ]
         },
         "layout": {
          "annotationdefaults": {
           "arrowcolor": "#2a3f5f",
           "arrowhead": 0,
           "arrowwidth": 1
          },
          "autotypenumbers": "strict",
          "coloraxis": {
           "colorbar": {
            "outlinewidth": 0,
            "ticks": ""
           }
          },
          "colorscale": {
           "diverging": [
            [
             0,
             "#8e0152"
            ],
            [
             0.1,
             "#c51b7d"
            ],
            [
             0.2,
             "#de77ae"
            ],
            [
             0.3,
             "#f1b6da"
            ],
            [
             0.4,
             "#fde0ef"
            ],
            [
             0.5,
             "#f7f7f7"
            ],
            [
             0.6,
             "#e6f5d0"
            ],
            [
             0.7,
             "#b8e186"
            ],
            [
             0.8,
             "#7fbc41"
            ],
            [
             0.9,
             "#4d9221"
            ],
            [
             1,
             "#276419"
            ]
           ],
           "sequential": [
            [
             0,
             "#0d0887"
            ],
            [
             0.1111111111111111,
             "#46039f"
            ],
            [
             0.2222222222222222,
             "#7201a8"
            ],
            [
             0.3333333333333333,
             "#9c179e"
            ],
            [
             0.4444444444444444,
             "#bd3786"
            ],
            [
             0.5555555555555556,
             "#d8576b"
            ],
            [
             0.6666666666666666,
             "#ed7953"
            ],
            [
             0.7777777777777778,
             "#fb9f3a"
            ],
            [
             0.8888888888888888,
             "#fdca26"
            ],
            [
             1,
             "#f0f921"
            ]
           ],
           "sequentialminus": [
            [
             0,
             "#0d0887"
            ],
            [
             0.1111111111111111,
             "#46039f"
            ],
            [
             0.2222222222222222,
             "#7201a8"
            ],
            [
             0.3333333333333333,
             "#9c179e"
            ],
            [
             0.4444444444444444,
             "#bd3786"
            ],
            [
             0.5555555555555556,
             "#d8576b"
            ],
            [
             0.6666666666666666,
             "#ed7953"
            ],
            [
             0.7777777777777778,
             "#fb9f3a"
            ],
            [
             0.8888888888888888,
             "#fdca26"
            ],
            [
             1,
             "#f0f921"
            ]
           ]
          },
          "colorway": [
           "#636efa",
           "#EF553B",
           "#00cc96",
           "#ab63fa",
           "#FFA15A",
           "#19d3f3",
           "#FF6692",
           "#B6E880",
           "#FF97FF",
           "#FECB52"
          ],
          "font": {
           "color": "#2a3f5f"
          },
          "geo": {
           "bgcolor": "white",
           "lakecolor": "white",
           "landcolor": "#E5ECF6",
           "showlakes": true,
           "showland": true,
           "subunitcolor": "white"
          },
          "hoverlabel": {
           "align": "left"
          },
          "hovermode": "closest",
          "mapbox": {
           "style": "light"
          },
          "paper_bgcolor": "white",
          "plot_bgcolor": "#E5ECF6",
          "polar": {
           "angularaxis": {
            "gridcolor": "white",
            "linecolor": "white",
            "ticks": ""
           },
           "bgcolor": "#E5ECF6",
           "radialaxis": {
            "gridcolor": "white",
            "linecolor": "white",
            "ticks": ""
           }
          },
          "scene": {
           "xaxis": {
            "backgroundcolor": "#E5ECF6",
            "gridcolor": "white",
            "gridwidth": 2,
            "linecolor": "white",
            "showbackground": true,
            "ticks": "",
            "zerolinecolor": "white"
           },
           "yaxis": {
            "backgroundcolor": "#E5ECF6",
            "gridcolor": "white",
            "gridwidth": 2,
            "linecolor": "white",
            "showbackground": true,
            "ticks": "",
            "zerolinecolor": "white"
           },
           "zaxis": {
            "backgroundcolor": "#E5ECF6",
            "gridcolor": "white",
            "gridwidth": 2,
            "linecolor": "white",
            "showbackground": true,
            "ticks": "",
            "zerolinecolor": "white"
           }
          },
          "shapedefaults": {
           "line": {
            "color": "#2a3f5f"
           }
          },
          "ternary": {
           "aaxis": {
            "gridcolor": "white",
            "linecolor": "white",
            "ticks": ""
           },
           "baxis": {
            "gridcolor": "white",
            "linecolor": "white",
            "ticks": ""
           },
           "bgcolor": "#E5ECF6",
           "caxis": {
            "gridcolor": "white",
            "linecolor": "white",
            "ticks": ""
           }
          },
          "title": {
           "x": 0.05
          },
          "xaxis": {
           "automargin": true,
           "gridcolor": "white",
           "linecolor": "white",
           "ticks": "",
           "title": {
            "standoff": 15
           },
           "zerolinecolor": "white",
           "zerolinewidth": 2
          },
          "yaxis": {
           "automargin": true,
           "gridcolor": "white",
           "linecolor": "white",
           "ticks": "",
           "title": {
            "standoff": 15
           },
           "zerolinecolor": "white",
           "zerolinewidth": 2
          }
         }
        }
       }
      },
      "image/png": "[encoded data removed]",
      "text/html": [
       "<div>                            <div id=\"5b5cebc8-1674-429f-859f-2e2f4d3933e1\" class=\"plotly-graph-div\" style=\"height:525px; width:100%;\"></div>            <script type=\"text/javascript\">                require([\"plotly\"], function(Plotly) {                    window.PLOTLYENV=window.PLOTLYENV || {};                                    if (document.getElementById(\"5b5cebc8-1674-429f-859f-2e2f4d3933e1\")) {                    Plotly.newPlot(                        \"5b5cebc8-1674-429f-859f-2e2f4d3933e1\",                        [{\"customdata\":[[\"male\"],[\"female\"],[\"female\"],[\"female\"],[\"male\"],[\"male\"],[\"male\"],[\"male\"],[\"female\"],[\"female\"],[\"female\"],[\"female\"],[\"male\"],[\"male\"],[\"female\"],[\"female\"],[\"male\"],[\"male\"],[\"female\"],[\"female\"],[\"male\"],[\"male\"],[\"female\"],[\"male\"],[\"female\"],[\"female\"],[\"male\"],[\"male\"],[\"female\"],[\"male\"],[\"male\"],[\"female\"],[\"female\"],[\"male\"],[\"male\"],[\"male\"],[\"male\"],[\"male\"],[\"female\"],[\"female\"],[\"female\"],[\"female\"],[\"male\"],[\"female\"],[\"female\"],[\"male\"],[\"male\"],[\"female\"],[\"male\"],[\"female\"],[\"male\"],[\"male\"],[\"female\"],[\"female\"],[\"male\"],[\"male\"],[\"female\"],[\"male\"],[\"female\"],[\"male\"],[\"male\"],[\"female\"],[\"male\"],[\"male\"],[\"male\"],[\"male\"],[\"female\"],[\"male\"],[\"female\"],[\"male\"],[\"male\"],[\"female\"],[\"male\"],[\"male\"],[\"male\"],[\"male\"],[\"male\"],[\"male\"],[\"male\"],[\"female\"],[\"male\"],[\"male\"],[\"female\"],[\"male\"],[\"female\"],[\"female\"],[\"male\"],[\"male\"],[\"female\"],[\"male\"],[\"male\"],[\"male\"],[\"male\"],[\"male\"],[\"male\"],[\"male\"],[\"male\"],[\"male\"],[\"female\"],[\"male\"],[\"female\"],[\"male\"],[\"male\"],[\"male\"],[\"male\"],[\"male\"],[\"female\"],[\"male\"],[\"male\"],[\"female\"],[\"male\"],[\"female\"],[\"male\"],[\"female\"],[\"female\"],[\"male\"],[\"male\"],[\"male\"],[\"male\"],[\"female\"],[\"male\"],[\"male\"],[\"male\"],[\"female\"],[\"male\"],[\"male\"],[\"male\"],[\"male\"],[\"female\"],[\"male\"],[\"male\"],[\"male\"],[\"female\"],[\"female\"],[\"male\"],[\"male\"],[\"female\"],[\"male\"],[\"male\"],[\"male\"],[\"female\"],[\"female\"],[\"female\"],[\"male\"],[\"male\"],[\"male\"],[\"male\"],[\"female\"],[\"male\"],[\"male\"],[\"male\"],[\"female\"],[\"male\"],[\"male\"],[\"male\"],[\"male\"],[\"female\"],[\"male\"],[\"male\"],[\"male\"],[\"male\"],[\"female\"],[\"male\"],[\"male\"],[\"male\"],[\"male\"],[\"female\"],[\"female\"],[\"male\"],[\"male\"],[\"male\"],[\"male\"],[\"female\"],[\"male\"],[\"male\"],[\"male\"],[\"male\"],[\"female\"],[\"male\"],[\"male\"],[\"female\"],[\"male\"],[\"male\"],[\"male\"],[\"female\"],[\"male\"],[\"female\"],[\"male\"],[\"male\"],[\"male\"],[\"female\"],[\"male\"],[\"female\"],[\"male\"],[\"female\"],[\"female\"],[\"male\"],[\"male\"],[\"female\"],[\"female\"],[\"male\"],[\"male\"],[\"male\"],[\"male\"],[\"male\"],[\"female\"],[\"male\"],[\"male\"],[\"female\"],[\"male\"],[\"male\"],[\"female\"],[\"male\"],[\"male\"],[\"male\"],[\"female\"],[\"female\"],[\"male\"],[\"female\"],[\"male\"],[\"male\"],[\"male\"],[\"male\"],[\"male\"],[\"male\"],[\"male\"],[\"male\"],[\"male\"],[\"male\"],[\"female\"],[\"female\"],[\"male\"],[\"male\"],[\"female\"],[\"male\"],[\"female\"],[\"male\"],[\"female\"],[\"male\"],[\"male\"],[\"female\"],[\"female\"],[\"male\"],[\"male\"],[\"male\"],[\"male\"],[\"female\"],[\"female\"],[\"male\"],[\"male\"],[\"male\"],[\"female\"],[\"male\"],[\"male\"],[\"female\"],[\"female\"],[\"female\"],[\"female\"],[\"female\"],[\"female\"],[\"male\"],[\"male\"],[\"male\"],[\"male\"],[\"female\"],[\"male\"],[\"male\"],[\"male\"],[\"female\"],[\"female\"],[\"male\"],[\"male\"],[\"female\"],[\"male\"],[\"female\"],[\"female\"],[\"female\"],[\"male\"],[\"male\"],[\"female\"],[\"male\"],[\"male\"],[\"male\"],[\"male\"],[\"male\"],[\"male\"],[\"male\"],[\"male\"],[\"male\"],[\"female\"],[\"female\"],[\"female\"],[\"male\"],[\"female\"],[\"male\"],[\"male\"],[\"male\"],[\"female\"],[\"male\"],[\"female\"],[\"female\"],[\"male\"],[\"male\"],[\"female\"],[\"male\"],[\"male\"],[\"female\"],[\"female\"],[\"male\"],[\"female\"],[\"female\"],[\"female\"],[\"female\"],[\"male\"],[\"male\"],[\"female\"],[\"female\"],[\"male\"],[\"female\"],[\"female\"],[\"male\"],[\"male\"],[\"female\"],[\"female\"],[\"male\"],[\"female\"],[\"male\"],[\"female\"],[\"female\"],[\"female\"],[\"female\"],[\"male\"],[\"male\"],[\"male\"],[\"female\"],[\"male\"],[\"male\"],[\"female\"],[\"male\"],[\"male\"],[\"male\"],[\"female\"],[\"male\"],[\"male\"],[\"male\"],[\"female\"],[\"female\"],[\"female\"],[\"male\"],[\"male\"],[\"male\"],[\"male\"],[\"male\"],[\"male\"],[\"male\"],[\"male\"],[\"female\"],[\"female\"],[\"female\"],[\"female\"],[\"male\"],[\"male\"],[\"female\"],[\"male\"],[\"male\"],[\"male\"],[\"female\"],[\"female\"],[\"female\"],[\"female\"],[\"male\"],[\"male\"],[\"male\"],[\"male\"],[\"female\"],[\"female\"],[\"female\"],[\"male\"],[\"male\"],[\"male\"],[\"female\"],[\"female\"],[\"male\"],[\"female\"],[\"male\"],[\"male\"],[\"male\"],[\"female\"],[\"male\"],[\"female\"],[\"male\"],[\"male\"],[\"male\"],[\"female\"],[\"female\"],[\"male\"],[\"female\"],[\"male\"],[\"male\"],[\"female\"],[\"male\"],[\"male\"],[\"female\"],[\"male\"],[\"female\"],[\"male\"],[\"male\"],[\"male\"],[\"male\"],[\"female\"],[\"male\"],[\"male\"],[\"female\"],[\"male\"],[\"male\"],[\"female\"],[\"female\"],[\"female\"],[\"male\"],[\"female\"],[\"male\"],[\"male\"],[\"male\"],[\"female\"],[\"male\"],[\"male\"],[\"female\"],[\"female\"],[\"male\"],[\"male\"],[\"male\"],[\"female\"],[\"female\"],[\"male\"],[\"male\"],[\"female\"],[\"female\"],[\"female\"],[\"male\"],[\"male\"],[\"female\"],[\"male\"],[\"male\"],[\"female\"],[\"male\"],[\"male\"],[\"female\"],[\"male\"],[\"female\"],[\"male\"],[\"male\"],[\"male\"],[\"male\"],[\"male\"],[\"male\"],[\"male\"],[\"male\"],[\"female\"],[\"female\"],[\"male\"],[\"male\"],[\"male\"],[\"male\"],[\"male\"],[\"male\"],[\"male\"],[\"male\"],[\"male\"],[\"male\"],[\"female\"],[\"male\"],[\"male\"],[\"female\"],[\"female\"],[\"female\"],[\"male\"],[\"male\"],[\"male\"],[\"male\"],[\"female\"],[\"male\"],[\"male\"],[\"male\"],[\"female\"],[\"male\"],[\"female\"],[\"female\"],[\"male\"],[\"male\"],[\"male\"],[\"male\"],[\"male\"],[\"male\"],[\"male\"],[\"male\"],[\"male\"],[\"female\"],[\"male\"],[\"female\"],[\"male\"],[\"male\"],[\"female\"],[\"female\"],[\"female\"],[\"female\"],[\"male\"],[\"female\"],[\"male\"],[\"male\"],[\"male\"],[\"male\"],[\"male\"],[\"male\"],[\"female\"],[\"male\"],[\"male\"],[\"female\"],[\"male\"],[\"female\"],[\"male\"],[\"female\"],[\"male\"],[\"male\"],[\"female\"],[\"male\"],[\"male\"],[\"female\"],[\"male\"],[\"male\"],[\"male\"],[\"female\"],[\"male\"],[\"male\"],[\"female\"],[\"female\"],[\"female\"],[\"male\"],[\"female\"],[\"male\"],[\"female\"],[\"female\"],[\"female\"],[\"female\"],[\"male\"],[\"male\"],[\"male\"],[\"female\"],[\"male\"],[\"male\"],[\"male\"],[\"male\"],[\"male\"],[\"male\"],[\"male\"],[\"female\"],[\"male\"],[\"female\"],[\"male\"],[\"female\"],[\"female\"],[\"male\"],[\"male\"],[\"male\"],[\"male\"],[\"female\"],[\"male\"],[\"male\"],[\"female\"],[\"male\"],[\"male\"],[\"male\"],[\"female\"],[\"male\"],[\"female\"],[\"male\"],[\"male\"],[\"female\"],[\"female\"],[\"female\"],[\"male\"],[\"female\"],[\"female\"],[\"male\"],[\"male\"],[\"male\"],[\"female\"],[\"male\"],[\"male\"],[\"male\"],[\"male\"],[\"male\"],[\"female\"],[\"male\"],[\"female\"],[\"male\"],[\"male\"],[\"female\"],[\"male\"],[\"male\"],[\"male\"],[\"female\"],[\"male\"],[\"male\"],[\"male\"],[\"male\"],[\"male\"],[\"male\"],[\"male\"],[\"female\"],[\"female\"],[\"female\"],[\"male\"],[\"female\"],[\"male\"],[\"male\"],[\"female\"],[\"male\"],[\"female\"],[\"female\"],[\"male\"],[\"male\"],[\"male\"],[\"male\"],[\"male\"],[\"male\"],[\"male\"],[\"male\"],[\"female\"],[\"male\"],[\"male\"],[\"male\"],[\"male\"],[\"male\"],[\"male\"],[\"female\"],[\"female\"],[\"male\"],[\"male\"],[\"female\"],[\"male\"],[\"male\"],[\"female\"],[\"female\"],[\"male\"],[\"female\"],[\"male\"],[\"male\"],[\"male\"],[\"male\"],[\"female\"],[\"male\"],[\"female\"],[\"male\"],[\"female\"],[\"female\"],[\"male\"],[\"male\"],[\"female\"],[\"male\"],[\"male\"],[\"male\"],[\"male\"],[\"male\"],[\"male\"],[\"male\"],[\"male\"],[\"male\"],[\"male\"],[\"male\"],[\"female\"],[\"female\"],[\"male\"],[\"male\"],[\"male\"],[\"male\"],[\"male\"],[\"male\"],[\"female\"],[\"female\"],[\"male\"],[\"female\"],[\"male\"],[\"male\"],[\"male\"],[\"male\"],[\"male\"],[\"male\"],[\"male\"],[\"male\"],[\"female\"],[\"male\"],[\"female\"],[\"male\"],[\"male\"],[\"male\"],[\"male\"],[\"male\"],[\"female\"],[\"male\"],[\"male\"],[\"female\"],[\"male\"],[\"female\"],[\"male\"],[\"male\"],[\"male\"],[\"female\"],[\"male\"],[\"female\"],[\"male\"],[\"female\"],[\"male\"],[\"male\"],[\"male\"],[\"male\"],[\"male\"],[\"female\"],[\"female\"],[\"male\"],[\"male\"],[\"female\"],[\"male\"],[\"male\"],[\"male\"],[\"male\"],[\"male\"],[\"female\"],[\"female\"],[\"male\"],[\"female\"],[\"female\"],[\"male\"],[\"male\"],[\"male\"],[\"male\"],[\"male\"],[\"female\"],[\"male\"],[\"male\"],[\"male\"],[\"male\"],[\"male\"],[\"female\"],[\"male\"],[\"male\"],[\"male\"],[\"male\"],[\"female\"],[\"male\"],[\"male\"],[\"female\"],[\"male\"],[\"male\"],[\"male\"],[\"female\"],[\"male\"],[\"male\"],[\"male\"],[\"male\"],[\"female\"],[\"male\"],[\"male\"],[\"male\"],[\"female\"],[\"male\"],[\"female\"],[\"male\"],[\"female\"],[\"male\"],[\"male\"],[\"male\"],[\"male\"],[\"female\"],[\"male\"],[\"female\"],[\"male\"],[\"male\"],[\"female\"],[\"male\"],[\"female\"],[\"female\"],[\"female\"],[\"male\"],[\"male\"],[\"male\"],[\"male\"],[\"female\"],[\"male\"],[\"male\"],[\"male\"],[\"male\"],[\"male\"],[\"female\"],[\"male\"],[\"male\"],[\"male\"],[\"female\"],[\"female\"],[\"male\"],[\"female\"],[\"male\"],[\"female\"],[\"male\"],[\"male\"],[\"male\"],[\"male\"],[\"male\"],[\"female\"],[\"male\"],[\"female\"],[\"male\"],[\"male\"],[\"male\"],[\"female\"],[\"male\"],[\"male\"],[\"female\"],[\"male\"],[\"male\"],[\"male\"],[\"female\"],[\"male\"],[\"male\"],[\"female\"],[\"male\"],[\"male\"],[\"male\"],[\"male\"],[\"male\"],[\"female\"],[\"female\"],[\"male\"],[\"male\"],[\"male\"],[\"male\"],[\"female\"],[\"male\"],[\"male\"],[\"male\"],[\"male\"],[\"male\"],[\"male\"],[\"female\"],[\"male\"],[\"male\"],[\"male\"],[\"male\"],[\"male\"],[\"male\"],[\"female\"],[\"male\"],[\"male\"],[\"female\"],[\"female\"],[\"female\"],[\"female\"],[\"female\"],[\"male\"],[\"female\"],[\"male\"],[\"male\"],[\"male\"],[\"female\"],[\"female\"],[\"male\"],[\"female\"],[\"female\"],[\"male\"],[\"male\"],[\"male\"],[\"male\"],[\"female\"],[\"male\"],[\"male\"],[\"female\"],[\"female\"],[\"male\"],[\"male\"],[\"male\"],[\"female\"],[\"female\"],[\"male\"],[\"female\"],[\"male\"],[\"male\"],[\"female\"],[\"male\"],[\"female\"],[\"female\"],[\"male\"],[\"male\"]],\"domain\":{\"x\":[0.0,1.0],\"y\":[0.0,1.0]},\"hovertemplate\":\"Sex=%{customdata[0]}<extra></extra>\",\"labels\":[\"male\",\"female\",\"female\",\"female\",\"male\",\"male\",\"male\",\"male\",\"female\",\"female\",\"female\",\"female\",\"male\",\"male\",\"female\",\"female\",\"male\",\"male\",\"female\",\"female\",\"male\",\"male\",\"female\",\"male\",\"female\",\"female\",\"male\",\"male\",\"female\",\"male\",\"male\",\"female\",\"female\",\"male\",\"male\",\"male\",\"male\",\"male\",\"female\",\"female\",\"female\",\"female\",\"male\",\"female\",\"female\",\"male\",\"male\",\"female\",\"male\",\"female\",\"male\",\"male\",\"female\",\"female\",\"male\",\"male\",\"female\",\"male\",\"female\",\"male\",\"male\",\"female\",\"male\",\"male\",\"male\",\"male\",\"female\",\"male\",\"female\",\"male\",\"male\",\"female\",\"male\",\"male\",\"male\",\"male\",\"male\",\"male\",\"male\",\"female\",\"male\",\"male\",\"female\",\"male\",\"female\",\"female\",\"male\",\"male\",\"female\",\"male\",\"male\",\"male\",\"male\",\"male\",\"male\",\"male\",\"male\",\"male\",\"female\",\"male\",\"female\",\"male\",\"male\",\"male\",\"male\",\"male\",\"female\",\"male\",\"male\",\"female\",\"male\",\"female\",\"male\",\"female\",\"female\",\"male\",\"male\",\"male\",\"male\",\"female\",\"male\",\"male\",\"male\",\"female\",\"male\",\"male\",\"male\",\"male\",\"female\",\"male\",\"male\",\"male\",\"female\",\"female\",\"male\",\"male\",\"female\",\"male\",\"male\",\"male\",\"female\",\"female\",\"female\",\"male\",\"male\",\"male\",\"male\",\"female\",\"male\",\"male\",\"male\",\"female\",\"male\",\"male\",\"male\",\"male\",\"female\",\"male\",\"male\",\"male\",\"male\",\"female\",\"male\",\"male\",\"male\",\"male\",\"female\",\"female\",\"male\",\"male\",\"male\",\"male\",\"female\",\"male\",\"male\",\"male\",\"male\",\"female\",\"male\",\"male\",\"female\",\"male\",\"male\",\"male\",\"female\",\"male\",\"female\",\"male\",\"male\",\"male\",\"female\",\"male\",\"female\",\"male\",\"female\",\"female\",\"male\",\"male\",\"female\",\"female\",\"male\",\"male\",\"male\",\"male\",\"male\",\"female\",\"male\",\"male\",\"female\",\"male\",\"male\",\"female\",\"male\",\"male\",\"male\",\"female\",\"female\",\"male\",\"female\",\"male\",\"male\",\"male\",\"male\",\"male\",\"male\",\"male\",\"male\",\"male\",\"male\",\"female\",\"female\",\"male\",\"male\",\"female\",\"male\",\"female\",\"male\",\"female\",\"male\",\"male\",\"female\",\"female\",\"male\",\"male\",\"male\",\"male\",\"female\",\"female\",\"male\",\"male\",\"male\",\"female\",\"male\",\"male\",\"female\",\"female\",\"female\",\"female\",\"female\",\"female\",\"male\",\"male\",\"male\",\"male\",\"female\",\"male\",\"male\",\"male\",\"female\",\"female\",\"male\",\"male\",\"female\",\"male\",\"female\",\"female\",\"female\",\"male\",\"male\",\"female\",\"male\",\"male\",\"male\",\"male\",\"male\",\"male\",\"male\",\"male\",\"male\",\"female\",\"female\",\"female\",\"male\",\"female\",\"male\",\"male\",\"male\",\"female\",\"male\",\"female\",\"female\",\"male\",\"male\",\"female\",\"male\",\"male\",\"female\",\"female\",\"male\",\"female\",\"female\",\"female\",\"female\",\"male\",\"male\",\"female\",\"female\",\"male\",\"female\",\"female\",\"male\",\"male\",\"female\",\"female\",\"male\",\"female\",\"male\",\"female\",\"female\",\"female\",\"female\",\"male\",\"male\",\"male\",\"female\",\"male\",\"male\",\"female\",\"male\",\"male\",\"male\",\"female\",\"male\",\"male\",\"male\",\"female\",\"female\",\"female\",\"male\",\"male\",\"male\",\"male\",\"male\",\"male\",\"male\",\"male\",\"female\",\"female\",\"female\",\"female\",\"male\",\"male\",\"female\",\"male\",\"male\",\"male\",\"female\",\"female\",\"female\",\"female\",\"male\",\"male\",\"male\",\"male\",\"female\",\"female\",\"female\",\"male\",\"male\",\"male\",\"female\",\"female\",\"male\",\"female\",\"male\",\"male\",\"male\",\"female\",\"male\",\"female\",\"male\",\"male\",\"male\",\"female\",\"female\",\"male\",\"female\",\"male\",\"male\",\"female\",\"male\",\"male\",\"female\",\"male\",\"female\",\"male\",\"male\",\"male\",\"male\",\"female\",\"male\",\"male\",\"female\",\"male\",\"male\",\"female\",\"female\",\"female\",\"male\",\"female\",\"male\",\"male\",\"male\",\"female\",\"male\",\"male\",\"female\",\"female\",\"male\",\"male\",\"male\",\"female\",\"female\",\"male\",\"male\",\"female\",\"female\",\"female\",\"male\",\"male\",\"female\",\"male\",\"male\",\"female\",\"male\",\"male\",\"female\",\"male\",\"female\",\"male\",\"male\",\"male\",\"male\",\"male\",\"male\",\"male\",\"male\",\"female\",\"female\",\"male\",\"male\",\"male\",\"male\",\"male\",\"male\",\"male\",\"male\",\"male\",\"male\",\"female\",\"male\",\"male\",\"female\",\"female\",\"female\",\"male\",\"male\",\"male\",\"male\",\"female\",\"male\",\"male\",\"male\",\"female\",\"male\",\"female\",\"female\",\"male\",\"male\",\"male\",\"male\",\"male\",\"male\",\"male\",\"male\",\"male\",\"female\",\"male\",\"female\",\"male\",\"male\",\"female\",\"female\",\"female\",\"female\",\"male\",\"female\",\"male\",\"male\",\"male\",\"male\",\"male\",\"male\",\"female\",\"male\",\"male\",\"female\",\"male\",\"female\",\"male\",\"female\",\"male\",\"male\",\"female\",\"male\",\"male\",\"female\",\"male\",\"male\",\"male\",\"female\",\"male\",\"male\",\"female\",\"female\",\"female\",\"male\",\"female\",\"male\",\"female\",\"female\",\"female\",\"female\",\"male\",\"male\",\"male\",\"female\",\"male\",\"male\",\"male\",\"male\",\"male\",\"male\",\"male\",\"female\",\"male\",\"female\",\"male\",\"female\",\"female\",\"male\",\"male\",\"male\",\"male\",\"female\",\"male\",\"male\",\"female\",\"male\",\"male\",\"male\",\"female\",\"male\",\"female\",\"male\",\"male\",\"female\",\"female\",\"female\",\"male\",\"female\",\"female\",\"male\",\"male\",\"male\",\"female\",\"male\",\"male\",\"male\",\"male\",\"male\",\"female\",\"male\",\"female\",\"male\",\"male\",\"female\",\"male\",\"male\",\"male\",\"female\",\"male\",\"male\",\"male\",\"male\",\"male\",\"male\",\"male\",\"female\",\"female\",\"female\",\"male\",\"female\",\"male\",\"male\",\"female\",\"male\",\"female\",\"female\",\"male\",\"male\",\"male\",\"male\",\"male\",\"male\",\"male\",\"male\",\"female\",\"male\",\"male\",\"male\",\"male\",\"male\",\"male\",\"female\",\"female\",\"male\",\"male\",\"female\",\"male\",\"male\",\"female\",\"female\",\"male\",\"female\",\"male\",\"male\",\"male\",\"male\",\"female\",\"male\",\"female\",\"male\",\"female\",\"female\",\"male\",\"male\",\"female\",\"male\",\"male\",\"male\",\"male\",\"male\",\"male\",\"male\",\"male\",\"male\",\"male\",\"male\",\"female\",\"female\",\"male\",\"male\",\"male\",\"male\",\"male\",\"male\",\"female\",\"female\",\"male\",\"female\",\"male\",\"male\",\"male\",\"male\",\"male\",\"male\",\"male\",\"male\",\"female\",\"male\",\"female\",\"male\",\"male\",\"male\",\"male\",\"male\",\"female\",\"male\",\"male\",\"female\",\"male\",\"female\",\"male\",\"male\",\"male\",\"female\",\"male\",\"female\",\"male\",\"female\",\"male\",\"male\",\"male\",\"male\",\"male\",\"female\",\"female\",\"male\",\"male\",\"female\",\"male\",\"male\",\"male\",\"male\",\"male\",\"female\",\"female\",\"male\",\"female\",\"female\",\"male\",\"male\",\"male\",\"male\",\"male\",\"female\",\"male\",\"male\",\"male\",\"male\",\"male\",\"female\",\"male\",\"male\",\"male\",\"male\",\"female\",\"male\",\"male\",\"female\",\"male\",\"male\",\"male\",\"female\",\"male\",\"male\",\"male\",\"male\",\"female\",\"male\",\"male\",\"male\",\"female\",\"male\",\"female\",\"male\",\"female\",\"male\",\"male\",\"male\",\"male\",\"female\",\"male\",\"female\",\"male\",\"male\",\"female\",\"male\",\"female\",\"female\",\"female\",\"male\",\"male\",\"male\",\"male\",\"female\",\"male\",\"male\",\"male\",\"male\",\"male\",\"female\",\"male\",\"male\",\"male\",\"female\",\"female\",\"male\",\"female\",\"male\",\"female\",\"male\",\"male\",\"male\",\"male\",\"male\",\"female\",\"male\",\"female\",\"male\",\"male\",\"male\",\"female\",\"male\",\"male\",\"female\",\"male\",\"male\",\"male\",\"female\",\"male\",\"male\",\"female\",\"male\",\"male\",\"male\",\"male\",\"male\",\"female\",\"female\",\"male\",\"male\",\"male\",\"male\",\"female\",\"male\",\"male\",\"male\",\"male\",\"male\",\"male\",\"female\",\"male\",\"male\",\"male\",\"male\",\"male\",\"male\",\"female\",\"male\",\"male\",\"female\",\"female\",\"female\",\"female\",\"female\",\"male\",\"female\",\"male\",\"male\",\"male\",\"female\",\"female\",\"male\",\"female\",\"female\",\"male\",\"male\",\"male\",\"male\",\"female\",\"male\",\"male\",\"female\",\"female\",\"male\",\"male\",\"male\",\"female\",\"female\",\"male\",\"female\",\"male\",\"male\",\"female\",\"male\",\"female\",\"female\",\"male\",\"male\"],\"legendgroup\":\"\",\"marker\":{\"colors\":[\"#636efa\",\"#EF553B\",\"#EF553B\",\"#EF553B\",\"#636efa\",\"#636efa\",\"#636efa\",\"#636efa\",\"#EF553B\",\"#EF553B\",\"#EF553B\",\"#EF553B\",\"#636efa\",\"#636efa\",\"#EF553B\",\"#EF553B\",\"#636efa\",\"#636efa\",\"#EF553B\",\"#EF553B\",\"#636efa\",\"#636efa\",\"#EF553B\",\"#636efa\",\"#EF553B\",\"#EF553B\",\"#636efa\",\"#636efa\",\"#EF553B\",\"#636efa\",\"#636efa\",\"#EF553B\",\"#EF553B\",\"#636efa\",\"#636efa\",\"#636efa\",\"#636efa\",\"#636efa\",\"#EF553B\",\"#EF553B\",\"#EF553B\",\"#EF553B\",\"#636efa\",\"#EF553B\",\"#EF553B\",\"#636efa\",\"#636efa\",\"#EF553B\",\"#636efa\",\"#EF553B\",\"#636efa\",\"#636efa\",\"#EF553B\",\"#EF553B\",\"#636efa\",\"#636efa\",\"#EF553B\",\"#636efa\",\"#EF553B\",\"#636efa\",\"#636efa\",\"#EF553B\",\"#636efa\",\"#636efa\",\"#636efa\",\"#636efa\",\"#EF553B\",\"#636efa\",\"#EF553B\",\"#636efa\",\"#636efa\",\"#EF553B\",\"#636efa\",\"#636efa\",\"#636efa\",\"#636efa\",\"#636efa\",\"#636efa\",\"#636efa\",\"#EF553B\",\"#636efa\",\"#636efa\",\"#EF553B\",\"#636efa\",\"#EF553B\",\"#EF553B\",\"#636efa\",\"#636efa\",\"#EF553B\",\"#636efa\",\"#636efa\",\"#636efa\",\"#636efa\",\"#636efa\",\"#636efa\",\"#636efa\",\"#636efa\",\"#636efa\",\"#EF553B\",\"#636efa\",\"#EF553B\",\"#636efa\",\"#636efa\",\"#636efa\",\"#636efa\",\"#636efa\",\"#EF553B\",\"#636efa\",\"#636efa\",\"#EF553B\",\"#636efa\",\"#EF553B\",\"#636efa\",\"#EF553B\",\"#EF553B\",\"#636efa\",\"#636efa\",\"#636efa\",\"#636efa\",\"#EF553B\",\"#636efa\",\"#636efa\",\"#636efa\",\"#EF553B\",\"#636efa\",\"#636efa\",\"#636efa\",\"#636efa\",\"#EF553B\",\"#636efa\",\"#636efa\",\"#636efa\",\"#EF553B\",\"#EF553B\",\"#636efa\",\"#636efa\",\"#EF553B\",\"#636efa\",\"#636efa\",\"#636efa\",\"#EF553B\",\"#EF553B\",\"#EF553B\",\"#636efa\",\"#636efa\",\"#636efa\",\"#636efa\",\"#EF553B\",\"#636efa\",\"#636efa\",\"#636efa\",\"#EF553B\",\"#636efa\",\"#636efa\",\"#636efa\",\"#636efa\",\"#EF553B\",\"#636efa\",\"#636efa\",\"#636efa\",\"#636efa\",\"#EF553B\",\"#636efa\",\"#636efa\",\"#636efa\",\"#636efa\",\"#EF553B\",\"#EF553B\",\"#636efa\",\"#636efa\",\"#636efa\",\"#636efa\",\"#EF553B\",\"#636efa\",\"#636efa\",\"#636efa\",\"#636efa\",\"#EF553B\",\"#636efa\",\"#636efa\",\"#EF553B\",\"#636efa\",\"#636efa\",\"#636efa\",\"#EF553B\",\"#636efa\",\"#EF553B\",\"#636efa\",\"#636efa\",\"#636efa\",\"#EF553B\",\"#636efa\",\"#EF553B\",\"#636efa\",\"#EF553B\",\"#EF553B\",\"#636efa\",\"#636efa\",\"#EF553B\",\"#EF553B\",\"#636efa\",\"#636efa\",\"#636efa\",\"#636efa\",\"#636efa\",\"#EF553B\",\"#636efa\",\"#636efa\",\"#EF553B\",\"#636efa\",\"#636efa\",\"#EF553B\",\"#636efa\",\"#636efa\",\"#636efa\",\"#EF553B\",\"#EF553B\",\"#636efa\",\"#EF553B\",\"#636efa\",\"#636efa\",\"#636efa\",\"#636efa\",\"#636efa\",\"#636efa\",\"#636efa\",\"#636efa\",\"#636efa\",\"#636efa\",\"#EF553B\",\"#EF553B\",\"#636efa\",\"#636efa\",\"#EF553B\",\"#636efa\",\"#EF553B\",\"#636efa\",\"#EF553B\",\"#636efa\",\"#636efa\",\"#EF553B\",\"#EF553B\",\"#636efa\",\"#636efa\",\"#636efa\",\"#636efa\",\"#EF553B\",\"#EF553B\",\"#636efa\",\"#636efa\",\"#636efa\",\"#EF553B\",\"#636efa\",\"#636efa\",\"#EF553B\",\"#EF553B\",\"#EF553B\",\"#EF553B\",\"#EF553B\",\"#EF553B\",\"#636efa\",\"#636efa\",\"#636efa\",\"#636efa\",\"#EF553B\",\"#636efa\",\"#636efa\",\"#636efa\",\"#EF553B\",\"#EF553B\",\"#636efa\",\"#636efa\",\"#EF553B\",\"#636efa\",\"#EF553B\",\"#EF553B\",\"#EF553B\",\"#636efa\",\"#636efa\",\"#EF553B\",\"#636efa\",\"#636efa\",\"#636efa\",\"#636efa\",\"#636efa\",\"#636efa\",\"#636efa\",\"#636efa\",\"#636efa\",\"#EF553B\",\"#EF553B\",\"#EF553B\",\"#636efa\",\"#EF553B\",\"#636efa\",\"#636efa\",\"#636efa\",\"#EF553B\",\"#636efa\",\"#EF553B\",\"#EF553B\",\"#636efa\",\"#636efa\",\"#EF553B\",\"#636efa\",\"#636efa\",\"#EF553B\",\"#EF553B\",\"#636efa\",\"#EF553B\",\"#EF553B\",\"#EF553B\",\"#EF553B\",\"#636efa\",\"#636efa\",\"#EF553B\",\"#EF553B\",\"#636efa\",\"#EF553B\",\"#EF553B\",\"#636efa\",\"#636efa\",\"#EF553B\",\"#EF553B\",\"#636efa\",\"#EF553B\",\"#636efa\",\"#EF553B\",\"#EF553B\",\"#EF553B\",\"#EF553B\",\"#636efa\",\"#636efa\",\"#636efa\",\"#EF553B\",\"#636efa\",\"#636efa\",\"#EF553B\",\"#636efa\",\"#636efa\",\"#636efa\",\"#EF553B\",\"#636efa\",\"#636efa\",\"#636efa\",\"#EF553B\",\"#EF553B\",\"#EF553B\",\"#636efa\",\"#636efa\",\"#636efa\",\"#636efa\",\"#636efa\",\"#636efa\",\"#636efa\",\"#636efa\",\"#EF553B\",\"#EF553B\",\"#EF553B\",\"#EF553B\",\"#636efa\",\"#636efa\",\"#EF553B\",\"#636efa\",\"#636efa\",\"#636efa\",\"#EF553B\",\"#EF553B\",\"#EF553B\",\"#EF553B\",\"#636efa\",\"#636efa\",\"#636efa\",\"#636efa\",\"#EF553B\",\"#EF553B\",\"#EF553B\",\"#636efa\",\"#636efa\",\"#636efa\",\"#EF553B\",\"#EF553B\",\"#636efa\",\"#EF553B\",\"#636efa\",\"#636efa\",\"#636efa\",\"#EF553B\",\"#636efa\",\"#EF553B\",\"#636efa\",\"#636efa\",\"#636efa\",\"#EF553B\",\"#EF553B\",\"#636efa\",\"#EF553B\",\"#636efa\",\"#636efa\",\"#EF553B\",\"#636efa\",\"#636efa\",\"#EF553B\",\"#636efa\",\"#EF553B\",\"#636efa\",\"#636efa\",\"#636efa\",\"#636efa\",\"#EF553B\",\"#636efa\",\"#636efa\",\"#EF553B\",\"#636efa\",\"#636efa\",\"#EF553B\",\"#EF553B\",\"#EF553B\",\"#636efa\",\"#EF553B\",\"#636efa\",\"#636efa\",\"#636efa\",\"#EF553B\",\"#636efa\",\"#636efa\",\"#EF553B\",\"#EF553B\",\"#636efa\",\"#636efa\",\"#636efa\",\"#EF553B\",\"#EF553B\",\"#636efa\",\"#636efa\",\"#EF553B\",\"#EF553B\",\"#EF553B\",\"#636efa\",\"#636efa\",\"#EF553B\",\"#636efa\",\"#636efa\",\"#EF553B\",\"#636efa\",\"#636efa\",\"#EF553B\",\"#636efa\",\"#EF553B\",\"#636efa\",\"#636efa\",\"#636efa\",\"#636efa\",\"#636efa\",\"#636efa\",\"#636efa\",\"#636efa\",\"#EF553B\",\"#EF553B\",\"#636efa\",\"#636efa\",\"#636efa\",\"#636efa\",\"#636efa\",\"#636efa\",\"#636efa\",\"#636efa\",\"#636efa\",\"#636efa\",\"#EF553B\",\"#636efa\",\"#636efa\",\"#EF553B\",\"#EF553B\",\"#EF553B\",\"#636efa\",\"#636efa\",\"#636efa\",\"#636efa\",\"#EF553B\",\"#636efa\",\"#636efa\",\"#636efa\",\"#EF553B\",\"#636efa\",\"#EF553B\",\"#EF553B\",\"#636efa\",\"#636efa\",\"#636efa\",\"#636efa\",\"#636efa\",\"#636efa\",\"#636efa\",\"#636efa\",\"#636efa\",\"#EF553B\",\"#636efa\",\"#EF553B\",\"#636efa\",\"#636efa\",\"#EF553B\",\"#EF553B\",\"#EF553B\",\"#EF553B\",\"#636efa\",\"#EF553B\",\"#636efa\",\"#636efa\",\"#636efa\",\"#636efa\",\"#636efa\",\"#636efa\",\"#EF553B\",\"#636efa\",\"#636efa\",\"#EF553B\",\"#636efa\",\"#EF553B\",\"#636efa\",\"#EF553B\",\"#636efa\",\"#636efa\",\"#EF553B\",\"#636efa\",\"#636efa\",\"#EF553B\",\"#636efa\",\"#636efa\",\"#636efa\",\"#EF553B\",\"#636efa\",\"#636efa\",\"#EF553B\",\"#EF553B\",\"#EF553B\",\"#636efa\",\"#EF553B\",\"#636efa\",\"#EF553B\",\"#EF553B\",\"#EF553B\",\"#EF553B\",\"#636efa\",\"#636efa\",\"#636efa\",\"#EF553B\",\"#636efa\",\"#636efa\",\"#636efa\",\"#636efa\",\"#636efa\",\"#636efa\",\"#636efa\",\"#EF553B\",\"#636efa\",\"#EF553B\",\"#636efa\",\"#EF553B\",\"#EF553B\",\"#636efa\",\"#636efa\",\"#636efa\",\"#636efa\",\"#EF553B\",\"#636efa\",\"#636efa\",\"#EF553B\",\"#636efa\",\"#636efa\",\"#636efa\",\"#EF553B\",\"#636efa\",\"#EF553B\",\"#636efa\",\"#636efa\",\"#EF553B\",\"#EF553B\",\"#EF553B\",\"#636efa\",\"#EF553B\",\"#EF553B\",\"#636efa\",\"#636efa\",\"#636efa\",\"#EF553B\",\"#636efa\",\"#636efa\",\"#636efa\",\"#636efa\",\"#636efa\",\"#EF553B\",\"#636efa\",\"#EF553B\",\"#636efa\",\"#636efa\",\"#EF553B\",\"#636efa\",\"#636efa\",\"#636efa\",\"#EF553B\",\"#636efa\",\"#636efa\",\"#636efa\",\"#636efa\",\"#636efa\",\"#636efa\",\"#636efa\",\"#EF553B\",\"#EF553B\",\"#EF553B\",\"#636efa\",\"#EF553B\",\"#636efa\",\"#636efa\",\"#EF553B\",\"#636efa\",\"#EF553B\",\"#EF553B\",\"#636efa\",\"#636efa\",\"#636efa\",\"#636efa\",\"#636efa\",\"#636efa\",\"#636efa\",\"#636efa\",\"#EF553B\",\"#636efa\",\"#636efa\",\"#636efa\",\"#636efa\",\"#636efa\",\"#636efa\",\"#EF553B\",\"#EF553B\",\"#636efa\",\"#636efa\",\"#EF553B\",\"#636efa\",\"#636efa\",\"#EF553B\",\"#EF553B\",\"#636efa\",\"#EF553B\",\"#636efa\",\"#636efa\",\"#636efa\",\"#636efa\",\"#EF553B\",\"#636efa\",\"#EF553B\",\"#636efa\",\"#EF553B\",\"#EF553B\",\"#636efa\",\"#636efa\",\"#EF553B\",\"#636efa\",\"#636efa\",\"#636efa\",\"#636efa\",\"#636efa\",\"#636efa\",\"#636efa\",\"#636efa\",\"#636efa\",\"#636efa\",\"#636efa\",\"#EF553B\",\"#EF553B\",\"#636efa\",\"#636efa\",\"#636efa\",\"#636efa\",\"#636efa\",\"#636efa\",\"#EF553B\",\"#EF553B\",\"#636efa\",\"#EF553B\",\"#636efa\",\"#636efa\",\"#636efa\",\"#636efa\",\"#636efa\",\"#636efa\",\"#636efa\",\"#636efa\",\"#EF553B\",\"#636efa\",\"#EF553B\",\"#636efa\",\"#636efa\",\"#636efa\",\"#636efa\",\"#636efa\",\"#EF553B\",\"#636efa\",\"#636efa\",\"#EF553B\",\"#636efa\",\"#EF553B\",\"#636efa\",\"#636efa\",\"#636efa\",\"#EF553B\",\"#636efa\",\"#EF553B\",\"#636efa\",\"#EF553B\",\"#636efa\",\"#636efa\",\"#636efa\",\"#636efa\",\"#636efa\",\"#EF553B\",\"#EF553B\",\"#636efa\",\"#636efa\",\"#EF553B\",\"#636efa\",\"#636efa\",\"#636efa\",\"#636efa\",\"#636efa\",\"#EF553B\",\"#EF553B\",\"#636efa\",\"#EF553B\",\"#EF553B\",\"#636efa\",\"#636efa\",\"#636efa\",\"#636efa\",\"#636efa\",\"#EF553B\",\"#636efa\",\"#636efa\",\"#636efa\",\"#636efa\",\"#636efa\",\"#EF553B\",\"#636efa\",\"#636efa\",\"#636efa\",\"#636efa\",\"#EF553B\",\"#636efa\",\"#636efa\",\"#EF553B\",\"#636efa\",\"#636efa\",\"#636efa\",\"#EF553B\",\"#636efa\",\"#636efa\",\"#636efa\",\"#636efa\",\"#EF553B\",\"#636efa\",\"#636efa\",\"#636efa\",\"#EF553B\",\"#636efa\",\"#EF553B\",\"#636efa\",\"#EF553B\",\"#636efa\",\"#636efa\",\"#636efa\",\"#636efa\",\"#EF553B\",\"#636efa\",\"#EF553B\",\"#636efa\",\"#636efa\",\"#EF553B\",\"#636efa\",\"#EF553B\",\"#EF553B\",\"#EF553B\",\"#636efa\",\"#636efa\",\"#636efa\",\"#636efa\",\"#EF553B\",\"#636efa\",\"#636efa\",\"#636efa\",\"#636efa\",\"#636efa\",\"#EF553B\",\"#636efa\",\"#636efa\",\"#636efa\",\"#EF553B\",\"#EF553B\",\"#636efa\",\"#EF553B\",\"#636efa\",\"#EF553B\",\"#636efa\",\"#636efa\",\"#636efa\",\"#636efa\",\"#636efa\",\"#EF553B\",\"#636efa\",\"#EF553B\",\"#636efa\",\"#636efa\",\"#636efa\",\"#EF553B\",\"#636efa\",\"#636efa\",\"#EF553B\",\"#636efa\",\"#636efa\",\"#636efa\",\"#EF553B\",\"#636efa\",\"#636efa\",\"#EF553B\",\"#636efa\",\"#636efa\",\"#636efa\",\"#636efa\",\"#636efa\",\"#EF553B\",\"#EF553B\",\"#636efa\",\"#636efa\",\"#636efa\",\"#636efa\",\"#EF553B\",\"#636efa\",\"#636efa\",\"#636efa\",\"#636efa\",\"#636efa\",\"#636efa\",\"#EF553B\",\"#636efa\",\"#636efa\",\"#636efa\",\"#636efa\",\"#636efa\",\"#636efa\",\"#EF553B\",\"#636efa\",\"#636efa\",\"#EF553B\",\"#EF553B\",\"#EF553B\",\"#EF553B\",\"#EF553B\",\"#636efa\",\"#EF553B\",\"#636efa\",\"#636efa\",\"#636efa\",\"#EF553B\",\"#EF553B\",\"#636efa\",\"#EF553B\",\"#EF553B\",\"#636efa\",\"#636efa\",\"#636efa\",\"#636efa\",\"#EF553B\",\"#636efa\",\"#636efa\",\"#EF553B\",\"#EF553B\",\"#636efa\",\"#636efa\",\"#636efa\",\"#EF553B\",\"#EF553B\",\"#636efa\",\"#EF553B\",\"#636efa\",\"#636efa\",\"#EF553B\",\"#636efa\",\"#EF553B\",\"#EF553B\",\"#636efa\",\"#636efa\"]},\"name\":\"\",\"showlegend\":true,\"type\":\"pie\"}],                        {\"legend\":{\"tracegroupgap\":0},\"margin\":{\"t\":60},\"template\":{\"data\":{\"bar\":[{\"error_x\":{\"color\":\"#2a3f5f\"},\"error_y\":{\"color\":\"#2a3f5f\"},\"marker\":{\"line\":{\"color\":\"#E5ECF6\",\"width\":0.5},\"pattern\":{\"fillmode\":\"overlay\",\"size\":10,\"solidity\":0.2}},\"type\":\"bar\"}],\"barpolar\":[{\"marker\":{\"line\":{\"color\":\"#E5ECF6\",\"width\":0.5},\"pattern\":{\"fillmode\":\"overlay\",\"size\":10,\"solidity\":0.2}},\"type\":\"barpolar\"}],\"carpet\":[{\"aaxis\":{\"endlinecolor\":\"#2a3f5f\",\"gridcolor\":\"white\",\"linecolor\":\"white\",\"minorgridcolor\":\"white\",\"startlinecolor\":\"#2a3f5f\"},\"baxis\":{\"endlinecolor\":\"#2a3f5f\",\"gridcolor\":\"white\",\"linecolor\":\"white\",\"minorgridcolor\":\"white\",\"startlinecolor\":\"#2a3f5f\"},\"type\":\"carpet\"}],\"choropleth\":[{\"colorbar\":{\"outlinewidth\":0,\"ticks\":\"\"},\"type\":\"choropleth\"}],\"contour\":[{\"colorbar\":{\"outlinewidth\":0,\"ticks\":\"\"},\"colorscale\":[[0.0,\"#0d0887\"],[0.1111111111111111,\"#46039f\"],[0.2222222222222222,\"#7201a8\"],[0.3333333333333333,\"#9c179e\"],[0.4444444444444444,\"#bd3786\"],[0.5555555555555556,\"#d8576b\"],[0.6666666666666666,\"#ed7953\"],[0.7777777777777778,\"#fb9f3a\"],[0.8888888888888888,\"#fdca26\"],[1.0,\"#f0f921\"]],\"type\":\"contour\"}],\"contourcarpet\":[{\"colorbar\":{\"outlinewidth\":0,\"ticks\":\"\"},\"type\":\"contourcarpet\"}],\"heatmap\":[{\"colorbar\":{\"outlinewidth\":0,\"ticks\":\"\"},\"colorscale\":[[0.0,\"#0d0887\"],[0.1111111111111111,\"#46039f\"],[0.2222222222222222,\"#7201a8\"],[0.3333333333333333,\"#9c179e\"],[0.4444444444444444,\"#bd3786\"],[0.5555555555555556,\"#d8576b\"],[0.6666666666666666,\"#ed7953\"],[0.7777777777777778,\"#fb9f3a\"],[0.8888888888888888,\"#fdca26\"],[1.0,\"#f0f921\"]],\"type\":\"heatmap\"}],\"heatmapgl\":[{\"colorbar\":{\"outlinewidth\":0,\"ticks\":\"\"},\"colorscale\":[[0.0,\"#0d0887\"],[0.1111111111111111,\"#46039f\"],[0.2222222222222222,\"#7201a8\"],[0.3333333333333333,\"#9c179e\"],[0.4444444444444444,\"#bd3786\"],[0.5555555555555556,\"#d8576b\"],[0.6666666666666666,\"#ed7953\"],[0.7777777777777778,\"#fb9f3a\"],[0.8888888888888888,\"#fdca26\"],[1.0,\"#f0f921\"]],\"type\":\"heatmapgl\"}],\"histogram\":[{\"marker\":{\"pattern\":{\"fillmode\":\"overlay\",\"size\":10,\"solidity\":0.2}},\"type\":\"histogram\"}],\"histogram2d\":[{\"colorbar\":{\"outlinewidth\":0,\"ticks\":\"\"},\"colorscale\":[[0.0,\"#0d0887\"],[0.1111111111111111,\"#46039f\"],[0.2222222222222222,\"#7201a8\"],[0.3333333333333333,\"#9c179e\"],[0.4444444444444444,\"#bd3786\"],[0.5555555555555556,\"#d8576b\"],[0.6666666666666666,\"#ed7953\"],[0.7777777777777778,\"#fb9f3a\"],[0.8888888888888888,\"#fdca26\"],[1.0,\"#f0f921\"]],\"type\":\"histogram2d\"}],\"histogram2dcontour\":[{\"colorbar\":{\"outlinewidth\":0,\"ticks\":\"\"},\"colorscale\":[[0.0,\"#0d0887\"],[0.1111111111111111,\"#46039f\"],[0.2222222222222222,\"#7201a8\"],[0.3333333333333333,\"#9c179e\"],[0.4444444444444444,\"#bd3786\"],[0.5555555555555556,\"#d8576b\"],[0.6666666666666666,\"#ed7953\"],[0.7777777777777778,\"#fb9f3a\"],[0.8888888888888888,\"#fdca26\"],[1.0,\"#f0f921\"]],\"type\":\"histogram2dcontour\"}],\"mesh3d\":[{\"colorbar\":{\"outlinewidth\":0,\"ticks\":\"\"},\"type\":\"mesh3d\"}],\"parcoords\":[{\"line\":{\"colorbar\":{\"outlinewidth\":0,\"ticks\":\"\"}},\"type\":\"parcoords\"}],\"pie\":[{\"automargin\":true,\"type\":\"pie\"}],\"scatter\":[{\"marker\":{\"colorbar\":{\"outlinewidth\":0,\"ticks\":\"\"}},\"type\":\"scatter\"}],\"scatter3d\":[{\"line\":{\"colorbar\":{\"outlinewidth\":0,\"ticks\":\"\"}},\"marker\":{\"colorbar\":{\"outlinewidth\":0,\"ticks\":\"\"}},\"type\":\"scatter3d\"}],\"scattercarpet\":[{\"marker\":{\"colorbar\":{\"outlinewidth\":0,\"ticks\":\"\"}},\"type\":\"scattercarpet\"}],\"scattergeo\":[{\"marker\":{\"colorbar\":{\"outlinewidth\":0,\"ticks\":\"\"}},\"type\":\"scattergeo\"}],\"scattergl\":[{\"marker\":{\"colorbar\":{\"outlinewidth\":0,\"ticks\":\"\"}},\"type\":\"scattergl\"}],\"scattermapbox\":[{\"marker\":{\"colorbar\":{\"outlinewidth\":0,\"ticks\":\"\"}},\"type\":\"scattermapbox\"}],\"scatterpolar\":[{\"marker\":{\"colorbar\":{\"outlinewidth\":0,\"ticks\":\"\"}},\"type\":\"scatterpolar\"}],\"scatterpolargl\":[{\"marker\":{\"colorbar\":{\"outlinewidth\":0,\"ticks\":\"\"}},\"type\":\"scatterpolargl\"}],\"scatterternary\":[{\"marker\":{\"colorbar\":{\"outlinewidth\":0,\"ticks\":\"\"}},\"type\":\"scatterternary\"}],\"surface\":[{\"colorbar\":{\"outlinewidth\":0,\"ticks\":\"\"},\"colorscale\":[[0.0,\"#0d0887\"],[0.1111111111111111,\"#46039f\"],[0.2222222222222222,\"#7201a8\"],[0.3333333333333333,\"#9c179e\"],[0.4444444444444444,\"#bd3786\"],[0.5555555555555556,\"#d8576b\"],[0.6666666666666666,\"#ed7953\"],[0.7777777777777778,\"#fb9f3a\"],[0.8888888888888888,\"#fdca26\"],[1.0,\"#f0f921\"]],\"type\":\"surface\"}],\"table\":[{\"cells\":{\"fill\":{\"color\":\"#EBF0F8\"},\"line\":{\"color\":\"white\"}},\"header\":{\"fill\":{\"color\":\"#C8D4E3\"},\"line\":{\"color\":\"white\"}},\"type\":\"table\"}]},\"layout\":{\"annotationdefaults\":{\"arrowcolor\":\"#2a3f5f\",\"arrowhead\":0,\"arrowwidth\":1},\"autotypenumbers\":\"strict\",\"coloraxis\":{\"colorbar\":{\"outlinewidth\":0,\"ticks\":\"\"}},\"colorscale\":{\"diverging\":[[0,\"#8e0152\"],[0.1,\"#c51b7d\"],[0.2,\"#de77ae\"],[0.3,\"#f1b6da\"],[0.4,\"#fde0ef\"],[0.5,\"#f7f7f7\"],[0.6,\"#e6f5d0\"],[0.7,\"#b8e186\"],[0.8,\"#7fbc41\"],[0.9,\"#4d9221\"],[1,\"#276419\"]],\"sequential\":[[0.0,\"#0d0887\"],[0.1111111111111111,\"#46039f\"],[0.2222222222222222,\"#7201a8\"],[0.3333333333333333,\"#9c179e\"],[0.4444444444444444,\"#bd3786\"],[0.5555555555555556,\"#d8576b\"],[0.6666666666666666,\"#ed7953\"],[0.7777777777777778,\"#fb9f3a\"],[0.8888888888888888,\"#fdca26\"],[1.0,\"#f0f921\"]],\"sequentialminus\":[[0.0,\"#0d0887\"],[0.1111111111111111,\"#46039f\"],[0.2222222222222222,\"#7201a8\"],[0.3333333333333333,\"#9c179e\"],[0.4444444444444444,\"#bd3786\"],[0.5555555555555556,\"#d8576b\"],[0.6666666666666666,\"#ed7953\"],[0.7777777777777778,\"#fb9f3a\"],[0.8888888888888888,\"#fdca26\"],[1.0,\"#f0f921\"]]},\"colorway\":[\"#636efa\",\"#EF553B\",\"#00cc96\",\"#ab63fa\",\"#FFA15A\",\"#19d3f3\",\"#FF6692\",\"#B6E880\",\"#FF97FF\",\"#FECB52\"],\"font\":{\"color\":\"#2a3f5f\"},\"geo\":{\"bgcolor\":\"white\",\"lakecolor\":\"white\",\"landcolor\":\"#E5ECF6\",\"showlakes\":true,\"showland\":true,\"subunitcolor\":\"white\"},\"hoverlabel\":{\"align\":\"left\"},\"hovermode\":\"closest\",\"mapbox\":{\"style\":\"light\"},\"paper_bgcolor\":\"white\",\"plot_bgcolor\":\"#E5ECF6\",\"polar\":{\"angularaxis\":{\"gridcolor\":\"white\",\"linecolor\":\"white\",\"ticks\":\"\"},\"bgcolor\":\"#E5ECF6\",\"radialaxis\":{\"gridcolor\":\"white\",\"linecolor\":\"white\",\"ticks\":\"\"}},\"scene\":{\"xaxis\":{\"backgroundcolor\":\"#E5ECF6\",\"gridcolor\":\"white\",\"gridwidth\":2,\"linecolor\":\"white\",\"showbackground\":true,\"ticks\":\"\",\"zerolinecolor\":\"white\"},\"yaxis\":{\"backgroundcolor\":\"#E5ECF6\",\"gridcolor\":\"white\",\"gridwidth\":2,\"linecolor\":\"white\",\"showbackground\":true,\"ticks\":\"\",\"zerolinecolor\":\"white\"},\"zaxis\":{\"backgroundcolor\":\"#E5ECF6\",\"gridcolor\":\"white\",\"gridwidth\":2,\"linecolor\":\"white\",\"showbackground\":true,\"ticks\":\"\",\"zerolinecolor\":\"white\"}},\"shapedefaults\":{\"line\":{\"color\":\"#2a3f5f\"}},\"ternary\":{\"aaxis\":{\"gridcolor\":\"white\",\"linecolor\":\"white\",\"ticks\":\"\"},\"baxis\":{\"gridcolor\":\"white\",\"linecolor\":\"white\",\"ticks\":\"\"},\"bgcolor\":\"#E5ECF6\",\"caxis\":{\"gridcolor\":\"white\",\"linecolor\":\"white\",\"ticks\":\"\"}},\"title\":{\"x\":0.05},\"xaxis\":{\"automargin\":true,\"gridcolor\":\"white\",\"linecolor\":\"white\",\"ticks\":\"\",\"title\":{\"standoff\":15},\"zerolinecolor\":\"white\",\"zerolinewidth\":2},\"yaxis\":{\"automargin\":true,\"gridcolor\":\"white\",\"linecolor\":\"white\",\"ticks\":\"\",\"title\":{\"standoff\":15},\"zerolinecolor\":\"white\",\"zerolinewidth\":2}}}},                        {\"responsive\": true}                    ).then(function(){\n",
       "                            \n",
       "var gd = document.getElementById('5b5cebc8-1674-429f-859f-2e2f4d3933e1');\n",
       "var x = new MutationObserver(function (mutations, observer) {{\n",
       "        var display = window.getComputedStyle(gd).display;\n",
       "        if (!display || display === 'none') {{\n",
       "            console.log([gd, 'removed!']);\n",
       "            Plotly.purge(gd);\n",
       "            observer.disconnect();\n",
       "        }}\n",
       "}});\n",
       "\n",
       "// Listen for the removal of the full notebook cells\n",
       "var notebookContainer = gd.closest('#notebook-container');\n",
       "if (notebookContainer) {{\n",
       "    x.observe(notebookContainer, {childList: true});\n",
       "}}\n",
       "\n",
       "// Listen for the clearing of the current output cell\n",
       "var outputEl = gd.closest('.output');\n",
       "if (outputEl) {{\n",
       "    x.observe(outputEl, {childList: true});\n",
       "}}\n",
       "\n",
       "                        })                };                });            </script>        </div>"
      ]
     },
     "metadata": {},
     "output_type": "display_data"
    }
   ],
   "source": [
    "px.pie(data_frame=titanic, names='Sex', color='Sex')"
   ]
  },
  {
   "cell_type": "markdown",
   "metadata": {},
   "source": [
    "### Step 6. Create a scatterplot with the Fare payed and the Age, differ the plot color by gender"
   ]
  },
  {
   "cell_type": "code",
   "execution_count": 9,
   "metadata": {},
   "outputs": [
    {
     "data": {
      "application/vnd.plotly.v1+json": {
       "config": {
        "plotlyServerURL": "https://plot.ly"
       },
       "data": [
        {
         "hovertemplate": "Sex=male<br>Age=%{x}<br>Fare=%{y}<extra></extra>",
         "legendgroup": "male",
         "marker": {
          "color": "#636efa",
          "symbol": "circle"
         },
         "mode": "markers",
         "name": "male",
         "orientation": "v",
         "showlegend": true,
         "type": "scatter",
         "x": [
          22,
          35,
          null,
          54,
          2,
          20,
          39,
          2,
          null,
          35,
          34,
          28,
          null,
          19,
          null,
          40,
          66,
          28,
          42,
          null,
          21,
          null,
          null,
          null,
          null,
          7,
          21,
          65,
          null,
          28.5,
          11,
          22,
          45,
          4,
          null,
          null,
          19,
          26,
          32,
          21,
          26,
          32,
          25,
          null,
          null,
          0.83,
          22,
          29,
          28,
          16,
          null,
          24,
          29,
          20,
          46,
          26,
          59,
          null,
          71,
          23,
          34,
          null,
          21,
          33,
          37,
          28,
          null,
          38,
          47,
          22,
          21,
          70.5,
          29,
          24,
          21,
          null,
          32.5,
          54,
          12,
          null,
          24,
          45,
          33,
          20,
          25,
          23,
          37,
          16,
          24,
          19,
          18,
          19,
          27,
          36.5,
          42,
          51,
          55.5,
          40.5,
          null,
          51,
          30,
          null,
          null,
          44,
          26,
          17,
          1,
          9,
          null,
          28,
          61,
          4,
          21,
          56,
          18,
          null,
          30,
          36,
          null,
          9,
          1,
          null,
          45,
          40,
          36,
          19,
          3,
          null,
          42,
          28,
          null,
          34,
          45.5,
          18,
          32,
          26,
          40,
          24,
          22,
          30,
          null,
          42,
          30,
          16,
          27,
          51,
          null,
          38,
          22,
          19,
          20.5,
          18,
          29,
          59,
          24,
          44,
          19,
          33,
          29,
          22,
          30,
          44,
          37,
          54,
          null,
          62,
          30,
          null,
          3,
          52,
          40,
          36,
          16,
          25,
          null,
          25,
          37,
          null,
          7,
          65,
          28,
          16,
          19,
          null,
          33,
          30,
          22,
          42,
          36,
          24,
          null,
          23.5,
          null,
          null,
          19,
          null,
          0.92,
          30,
          28,
          43,
          54,
          22,
          27,
          null,
          61,
          45.5,
          38,
          16,
          null,
          29,
          45,
          45,
          2,
          28,
          25,
          36,
          3,
          42,
          23,
          null,
          15,
          25,
          null,
          28,
          40,
          29,
          35,
          null,
          30,
          25,
          18,
          19,
          22,
          27,
          20,
          19,
          32,
          null,
          18,
          1,
          null,
          36,
          21,
          28,
          22,
          46,
          23,
          39,
          26,
          28,
          34,
          51,
          3,
          21,
          null,
          null,
          null,
          44,
          30,
          null,
          21,
          29,
          18,
          null,
          null,
          32,
          28,
          17,
          50,
          64,
          31,
          20,
          25,
          null,
          4,
          34,
          52,
          36,
          null,
          30,
          49,
          null,
          29,
          65,
          null,
          48,
          34,
          47,
          48,
          null,
          38,
          null,
          56,
          null,
          null,
          38,
          null,
          34,
          29,
          22,
          9,
          null,
          50,
          25,
          58,
          30,
          9,
          null,
          21,
          55,
          71,
          21,
          null,
          null,
          24,
          17,
          18,
          null,
          28,
          26,
          29,
          null,
          36,
          24,
          47,
          null,
          32,
          22,
          null,
          null,
          40.5,
          null,
          39,
          23,
          null,
          17,
          45,
          null,
          32,
          50,
          64,
          null,
          33,
          8,
          17,
          27,
          null,
          22,
          62,
          null,
          null,
          40,
          28,
          null,
          24,
          19,
          null,
          32,
          62,
          36,
          16,
          19,
          32,
          54,
          36,
          null,
          47,
          60,
          22,
          null,
          35,
          47,
          37,
          36,
          49,
          null,
          49,
          null,
          null,
          44,
          35,
          36,
          30,
          27,
          null,
          null,
          35,
          34,
          26,
          27,
          42,
          20,
          21,
          21,
          61,
          57,
          26,
          null,
          80,
          51,
          32,
          null,
          32,
          31,
          null,
          20,
          null,
          48,
          19,
          56,
          null,
          null,
          21,
          24,
          null,
          23,
          58,
          50,
          40,
          47,
          36,
          20,
          32,
          25,
          null,
          43,
          31,
          70,
          31,
          null,
          18,
          24.5,
          36,
          27,
          20,
          14,
          60,
          25,
          14,
          19,
          18,
          31,
          null,
          25,
          60,
          52,
          44,
          49,
          42,
          35,
          25,
          26,
          39,
          42,
          null,
          null,
          48,
          29,
          52,
          19,
          null,
          33,
          17,
          34,
          50,
          27,
          20,
          25,
          11,
          null,
          23,
          23,
          28.5,
          35,
          null,
          null,
          null,
          36,
          24,
          31,
          70,
          16,
          19,
          31,
          6,
          33,
          23,
          0.67,
          28,
          18,
          34,
          null,
          41,
          20,
          16,
          null,
          null,
          32,
          24,
          48,
          null,
          18,
          null,
          null,
          29,
          null,
          25,
          25,
          8,
          1,
          46,
          null,
          16,
          null,
          25,
          39,
          30,
          34,
          11,
          0.42,
          27,
          31,
          39,
          39,
          26,
          39,
          35,
          30.5,
          null,
          31,
          43,
          10,
          27,
          38,
          2,
          null,
          null,
          1,
          null,
          0.83,
          null,
          23,
          18,
          21,
          null,
          32,
          null,
          20,
          16,
          34.5,
          17,
          42,
          null,
          35,
          28,
          4,
          74,
          51,
          null,
          41,
          21,
          24,
          31,
          null,
          4,
          26,
          33,
          47,
          20,
          19,
          null,
          33,
          28,
          25,
          27,
          26,
          32
         ],
         "xaxis": "x",
         "y": [
          7.25,
          8.05,
          8.4583,
          51.8625,
          21.075,
          8.05,
          31.275,
          29.125,
          13,
          26,
          13,
          35.5,
          7.225,
          263,
          7.8958,
          27.7208,
          10.5,
          82.1708,
          52,
          7.2292,
          8.05,
          7.8958,
          8.05,
          15.5,
          21.6792,
          39.6875,
          7.8,
          61.9792,
          35.5,
          7.2292,
          46.9,
          7.2292,
          83.475,
          27.9,
          27.7208,
          15.2458,
          8.1583,
          8.6625,
          10.5,
          73.5,
          14.4542,
          56.4958,
          7.65,
          7.8958,
          8.05,
          29,
          9,
          9.5,
          47.1,
          34.375,
          8.05,
          8.05,
          8.05,
          7.8542,
          61.175,
          20.575,
          7.25,
          8.05,
          34.6542,
          63.3583,
          26,
          7.8958,
          77.2875,
          8.6542,
          7.925,
          7.8958,
          7.775,
          7.8958,
          52,
          8.05,
          7.925,
          7.75,
          21,
          247.5208,
          73.5,
          8.05,
          30.0708,
          77.2875,
          11.2417,
          7.75,
          7.1417,
          6.975,
          7.8958,
          7.05,
          13,
          15.0458,
          53.1,
          9.2167,
          79.2,
          6.75,
          11.5,
          36.75,
          7.7958,
          26,
          13,
          12.525,
          8.05,
          14.5,
          7.3125,
          61.3792,
          8.05,
          8.6625,
          69.55,
          16.1,
          7.775,
          8.6625,
          39.6875,
          20.525,
          25.925,
          56.4958,
          33.5,
          29.125,
          7.925,
          30.6958,
          7.8542,
          25.4667,
          13,
          0,
          15.05,
          31.3875,
          39,
          50,
          26.55,
          15.5,
          7.8958,
          13,
          26,
          7.75,
          8.4042,
          9.5,
          69.55,
          6.4958,
          7.225,
          8.05,
          15.85,
          18.7875,
          31,
          7.05,
          7.25,
          13,
          7.75,
          27,
          10.5,
          8.05,
          13,
          8.05,
          7.8958,
          90,
          9.35,
          10.5,
          7.25,
          13,
          7.775,
          13.5,
          10.5,
          26,
          10.5,
          12.275,
          10.5,
          7.125,
          7.225,
          90,
          52.5542,
          26,
          7.25,
          26.55,
          16.1,
          7.75,
          31.3875,
          79.65,
          0,
          10.5,
          39.6875,
          7.775,
          31,
          0,
          29.7,
          0,
          29.125,
          7.75,
          7.8542,
          9.5,
          8.05,
          26,
          8.6625,
          9.5,
          7.8958,
          13,
          12.875,
          7.8958,
          27.7208,
          7.2292,
          30.5,
          23.25,
          0,
          8.05,
          151.55,
          24,
          7.8958,
          26.25,
          14,
          7.25,
          7.8958,
          69.55,
          6.2375,
          28.5,
          153.4625,
          18,
          7.8958,
          66.6,
          8.05,
          35.5,
          26,
          13,
          13,
          13,
          15.9,
          8.6625,
          9.225,
          35,
          7.2292,
          17.8,
          7.225,
          9.5,
          27.9,
          27.7208,
          7.05,
          15.5,
          7.25,
          55.4417,
          6.4958,
          8.05,
          135.6333,
          211.5,
          4.0125,
          7.775,
          7.925,
          7.8958,
          73.5,
          46.9,
          7.7292,
          120,
          7.7958,
          7.925,
          7.7958,
          26,
          10.5,
          7.925,
          8.05,
          15.85,
          21,
          7.75,
          18.75,
          7.775,
          7.8958,
          6.8583,
          0,
          7.925,
          13,
          7.8958,
          7.7333,
          7.875,
          20.2125,
          7.25,
          7.75,
          8.05,
          26.55,
          7.125,
          55.9,
          263,
          10.5,
          9.5,
          7.775,
          8.1125,
          81.8583,
          26.55,
          30.5,
          27.75,
          19.9667,
          27.75,
          89.1042,
          8.05,
          7.8958,
          26.55,
          7.75,
          26.55,
          8.05,
          38.5,
          13,
          8.05,
          7.05,
          0,
          26.55,
          7.725,
          7.25,
          8.6625,
          52,
          21,
          7.0458,
          7.5208,
          46.9,
          0,
          8.05,
          91.0792,
          29.7,
          8.05,
          15.9,
          19.9667,
          7.25,
          30.5,
          49.5042,
          8.05,
          14.4583,
          15.1,
          7.7958,
          8.6625,
          108.9,
          26.55,
          22.525,
          56.4958,
          7.75,
          8.05,
          26.2875,
          7.4958,
          34.0208,
          24.15,
          7.8958,
          7.8958,
          7.225,
          7.2292,
          7.75,
          221.7792,
          7.925,
          11.5,
          7.2292,
          7.2292,
          26.55,
          14.5,
          26,
          106.425,
          26,
          13.8625,
          20.525,
          36.75,
          110.8833,
          26,
          7.8292,
          7.225,
          26.55,
          227.525,
          7.75,
          7.8958,
          13.5,
          8.05,
          24.15,
          7.8958,
          7.2292,
          7.8542,
          10.5,
          26.3875,
          8.05,
          14.5,
          7.925,
          26,
          40.125,
          8.7125,
          15,
          79.2,
          8.05,
          8.05,
          7.125,
          7.25,
          26,
          24.15,
          0,
          7.225,
          56.9292,
          7.8958,
          42.4,
          8.05,
          26.55,
          15.55,
          7.8958,
          30.5,
          7.05,
          7.75,
          8.05,
          14.4,
          10.5,
          14.4542,
          52.5542,
          15.7417,
          7.8542,
          16.1,
          32.3208,
          12.35,
          7.8958,
          7.7333,
          30,
          7.0542,
          30.5,
          0,
          7.925,
          26.25,
          16.1,
          7.8542,
          56.4958,
          76.7292,
          7.8958,
          35.5,
          7.55,
          7.8958,
          8.4333,
          73.5,
          7.8958,
          13,
          113.275,
          133.65,
          7.225,
          25.5875,
          7.4958,
          7.925,
          73.5,
          13,
          7.775,
          8.05,
          52,
          10.5,
          13,
          0,
          7.775,
          8.05,
          512.3292,
          76.7292,
          9.225,
          46.9,
          39,
          41.5792,
          39.6875,
          10.1708,
          7.7958,
          57,
          56.4958,
          7.225,
          26.55,
          13.5,
          8.05,
          110.8833,
          7.65,
          26.2875,
          7.7417,
          7.8542,
          26,
          26.2875,
          15.2458,
          26.55,
          52,
          9.4833,
          13,
          7.65,
          15.5,
          7.775,
          7.0542,
          13,
          13,
          53.1,
          8.6625,
          26,
          18.7875,
          0,
          13,
          13,
          16.1,
          512.3292,
          7.8958,
          7.8958,
          30,
          78.85,
          16.1,
          7.925,
          71,
          20.25,
          53.1,
          7.75,
          12.475,
          9.5,
          7.8958,
          14.5,
          7.7958,
          11.5,
          8.05,
          14.5,
          7.125,
          7.2292,
          7.775,
          39.6,
          24.15,
          8.3625,
          9.5,
          7.8542,
          7.225,
          7.75,
          7.75,
          7.7375,
          30,
          23.45,
          7.05,
          7.25,
          29.125,
          20.575,
          79.2,
          7.75,
          26,
          30.6958,
          7.8958,
          13,
          7.2292,
          13,
          120,
          8.5167,
          6.975,
          7.775,
          0,
          13,
          7.8875,
          24.15,
          10.5,
          8.05,
          0,
          37.0042,
          6.45,
          27.9,
          8.6625,
          0,
          39.6875,
          6.95,
          56.4958,
          37.0042,
          7.75,
          18.75,
          7.2292,
          7.8542,
          8.3,
          8.6625,
          8.05,
          56.4958,
          29.7,
          7.925,
          10.5,
          6.4375,
          8.6625,
          7.55,
          69.55,
          7.8958,
          33,
          31.275,
          7.775,
          26.55,
          7.2292,
          14.1083,
          11.5,
          13,
          50.4958,
          9.5,
          11.1333,
          7.8958,
          5,
          9,
          9.8458,
          7.8958,
          7.8958,
          7.8958,
          10.5,
          7.05,
          13,
          30,
          7.75
         ],
         "yaxis": "y"
        },
        {
         "hovertemplate": "Sex=female<br>Age=%{x}<br>Fare=%{y}<extra></extra>",
         "legendgroup": "female",
         "marker": {
          "color": "#EF553B",
          "symbol": "circle"
         },
         "mode": "markers",
         "name": "female",
         "orientation": "v",
         "showlegend": true,
         "type": "scatter",
         "x": [
          38,
          26,
          35,
          27,
          14,
          4,
          58,
          14,
          55,
          31,
          null,
          15,
          8,
          38,
          null,
          null,
          null,
          18,
          14,
          40,
          27,
          3,
          19,
          null,
          18,
          49,
          29,
          21,
          5,
          38,
          29,
          17,
          16,
          30,
          null,
          17,
          33,
          23,
          34,
          28,
          21,
          null,
          14.5,
          20,
          17,
          2,
          32.5,
          null,
          47,
          29,
          19,
          null,
          22,
          24,
          9,
          22,
          16,
          40,
          null,
          45,
          1,
          50,
          null,
          4,
          null,
          32,
          19,
          44,
          58,
          null,
          24,
          2,
          16,
          35,
          31,
          27,
          32,
          null,
          35,
          5,
          null,
          8,
          null,
          null,
          25,
          24,
          29,
          41,
          29,
          null,
          30,
          35,
          50,
          null,
          58,
          35,
          41,
          null,
          63,
          45,
          35,
          22,
          26,
          19,
          24,
          2,
          50,
          null,
          null,
          null,
          17,
          30,
          24,
          18,
          26,
          26,
          24,
          31,
          40,
          30,
          22,
          36,
          36,
          31,
          16,
          null,
          null,
          41,
          24,
          24,
          40,
          null,
          22,
          38,
          null,
          null,
          45,
          60,
          null,
          null,
          24,
          3,
          null,
          22,
          42,
          1,
          35,
          36,
          17,
          23,
          24,
          31,
          28,
          21,
          20,
          null,
          33,
          null,
          34,
          18,
          10,
          28,
          28,
          19,
          null,
          42,
          14,
          21,
          24,
          45,
          28,
          13,
          5,
          null,
          50,
          0.75,
          33,
          23,
          22,
          2,
          63,
          null,
          35,
          54,
          25,
          21,
          null,
          37,
          16,
          33,
          54,
          34,
          36,
          30,
          44,
          50,
          2,
          null,
          30,
          7,
          30,
          22,
          36,
          9,
          11,
          19,
          22,
          48,
          39,
          36,
          null,
          29,
          53,
          null,
          34,
          39,
          null,
          25,
          39,
          18,
          52,
          null,
          null,
          24,
          22,
          40,
          39,
          null,
          24,
          26,
          4,
          21,
          9,
          28,
          41,
          24,
          2,
          0.75,
          23,
          18,
          null,
          18,
          32,
          null,
          40,
          18,
          43,
          null,
          15,
          4,
          null,
          18,
          18,
          45,
          22,
          24,
          38,
          27,
          6,
          30,
          null,
          25,
          29,
          48,
          21,
          30,
          4,
          48,
          33,
          36,
          51,
          30.5,
          57,
          54,
          5,
          43,
          13,
          17,
          18,
          null,
          49,
          31,
          30,
          31,
          18,
          33,
          6,
          23,
          52,
          27,
          62,
          15,
          39,
          30,
          null,
          9,
          16,
          44,
          18,
          45,
          24,
          48,
          null,
          42,
          27,
          47,
          28,
          15,
          56,
          25,
          22,
          39,
          19,
          null
         ],
         "xaxis": "x",
         "y": [
          71.2833,
          7.925,
          53.1,
          11.1333,
          30.0708,
          16.7,
          26.55,
          7.8542,
          16,
          18,
          7.225,
          8.0292,
          21.075,
          31.3875,
          7.8792,
          146.5208,
          7.75,
          18,
          11.2417,
          9.475,
          21,
          41.5792,
          7.8792,
          7.75,
          17.8,
          76.7292,
          26,
          10.5,
          27.75,
          80,
          10.5,
          7.925,
          46.9,
          12.475,
          7.7875,
          10.5,
          15.85,
          263,
          23,
          7.8958,
          7.65,
          24.15,
          14.4542,
          9.825,
          14.4583,
          31.275,
          13,
          22.3583,
          14.5,
          26,
          26.2833,
          15.2458,
          7.75,
          15.85,
          34.375,
          66.6,
          7.7333,
          15.75,
          55,
          27.9,
          11.1333,
          28.7125,
          69.55,
          22.025,
          15.5,
          13,
          7.8542,
          27.7208,
          146.5208,
          7.75,
          13,
          10.4625,
          7.75,
          21,
          113.275,
          7.925,
          76.2917,
          25.4667,
          83.475,
          31.3875,
          7.55,
          26.25,
          14.4542,
          15.5,
          7.775,
          14.5,
          10.4625,
          20.2125,
          15.2458,
          79.2,
          86.5,
          512.3292,
          26,
          7.75,
          153.4625,
          135.6333,
          19.5,
          7.75,
          77.9583,
          7.75,
          20.25,
          7.75,
          78.85,
          91.0792,
          8.85,
          151.55,
          247.5208,
          7.75,
          12.35,
          110.8833,
          108.9,
          56.9292,
          83.1583,
          262.375,
          26,
          7.8542,
          26,
          164.8667,
          134.5,
          12.35,
          29,
          135.6333,
          13,
          20.525,
          57.9792,
          23.25,
          133.65,
          134.5,
          263,
          13,
          13,
          16.1,
          55,
          13,
          7.8792,
          7.8792,
          14.4542,
          75.25,
          7.2292,
          7.75,
          69.3,
          21.075,
          82.1708,
          7.25,
          227.525,
          15.7417,
          52,
          13,
          12,
          113.275,
          16.7,
          7.8542,
          12.65,
          9.825,
          8.6625,
          25.4667,
          90,
          8.05,
          32.5,
          13,
          24.15,
          14.4,
          26,
          26,
          16.1,
          26,
          120,
          34.375,
          18.75,
          26.25,
          13,
          19.5,
          19.2583,
          51.8625,
          10.5,
          19.2583,
          27.75,
          13.7917,
          9.8375,
          12.2875,
          9.5875,
          25.4667,
          90,
          78.2667,
          151.55,
          7.75,
          7.6292,
          9.5875,
          86.5,
          26,
          59.4,
          10.5,
          26,
          93.5,
          57.9792,
          10.5,
          26,
          22.3583,
          8.6625,
          26.25,
          106.425,
          49.5,
          71,
          31.275,
          31.275,
          26,
          7.775,
          39.6,
          79.65,
          17.4,
          8.05,
          21.075,
          51.4792,
          7.75,
          13,
          55.9,
          14.4583,
          30,
          110.8833,
          79.65,
          78.2667,
          7.75,
          33,
          27,
          41.5792,
          153.4625,
          31.275,
          15.5,
          65,
          16.1,
          39,
          77.9583,
          27.9,
          13,
          39.6875,
          69.3,
          27.9,
          19.2583,
          7.55,
          23,
          7.8292,
          6.75,
          15.5,
          52,
          39,
          9.8417,
          46.9,
          8.1375,
          211.3375,
          13.4167,
          7.7333,
          227.525,
          14.4542,
          13.5,
          151.55,
          49.5042,
          227.525,
          10.5,
          33,
          21,
          7.7375,
          7.925,
          211.3375,
          34.375,
          262.375,
          13,
          23,
          65,
          86.5,
          120,
          77.9583,
          7.75,
          10.5,
          23,
          12.475,
          211.3375,
          7.2292,
          57,
          7.4958,
          69.55,
          25.9292,
          8.6833,
          24.15,
          26.25,
          7.775,
          53.1,
          31.275,
          7.925,
          93.5,
          12.475,
          80,
          14.4542,
          83.1583,
          31,
          89.1042,
          15.2458,
          39.4,
          26,
          9.35,
          164.8667,
          19.2583,
          25.9292,
          69.55,
          13,
          13.8583,
          52.5542,
          24,
          7.225,
          83.1583,
          26,
          10.5167,
          29.125,
          30,
          23.45
         ],
         "yaxis": "y"
        }
       ],
       "layout": {
        "autosize": true,
        "legend": {
         "title": {
          "text": "Sex"
         },
         "tracegroupgap": 0
        },
        "margin": {
         "t": 60
        },
        "template": {
         "data": {
          "bar": [
           {
            "error_x": {
             "color": "#2a3f5f"
            },
            "error_y": {
             "color": "#2a3f5f"
            },
            "marker": {
             "line": {
              "color": "#E5ECF6",
              "width": 0.5
             },
             "pattern": {
              "fillmode": "overlay",
              "size": 10,
              "solidity": 0.2
             }
            },
            "type": "bar"
           }
          ],
          "barpolar": [
           {
            "marker": {
             "line": {
              "color": "#E5ECF6",
              "width": 0.5
             },
             "pattern": {
              "fillmode": "overlay",
              "size": 10,
              "solidity": 0.2
             }
            },
            "type": "barpolar"
           }
          ],
          "carpet": [
           {
            "aaxis": {
             "endlinecolor": "#2a3f5f",
             "gridcolor": "white",
             "linecolor": "white",
             "minorgridcolor": "white",
             "startlinecolor": "#2a3f5f"
            },
            "baxis": {
             "endlinecolor": "#2a3f5f",
             "gridcolor": "white",
             "linecolor": "white",
             "minorgridcolor": "white",
             "startlinecolor": "#2a3f5f"
            },
            "type": "carpet"
           }
          ],
          "choropleth": [
           {
            "colorbar": {
             "outlinewidth": 0,
             "ticks": ""
            },
            "type": "choropleth"
           }
          ],
          "contour": [
           {
            "colorbar": {
             "outlinewidth": 0,
             "ticks": ""
            },
            "colorscale": [
             [
              0,
              "#0d0887"
             ],
             [
              0.1111111111111111,
              "#46039f"
             ],
             [
              0.2222222222222222,
              "#7201a8"
             ],
             [
              0.3333333333333333,
              "#9c179e"
             ],
             [
              0.4444444444444444,
              "#bd3786"
             ],
             [
              0.5555555555555556,
              "#d8576b"
             ],
             [
              0.6666666666666666,
              "#ed7953"
             ],
             [
              0.7777777777777778,
              "#fb9f3a"
             ],
             [
              0.8888888888888888,
              "#fdca26"
             ],
             [
              1,
              "#f0f921"
             ]
            ],
            "type": "contour"
           }
          ],
          "contourcarpet": [
           {
            "colorbar": {
             "outlinewidth": 0,
             "ticks": ""
            },
            "type": "contourcarpet"
           }
          ],
          "heatmap": [
           {
            "colorbar": {
             "outlinewidth": 0,
             "ticks": ""
            },
            "colorscale": [
             [
              0,
              "#0d0887"
             ],
             [
              0.1111111111111111,
              "#46039f"
             ],
             [
              0.2222222222222222,
              "#7201a8"
             ],
             [
              0.3333333333333333,
              "#9c179e"
             ],
             [
              0.4444444444444444,
              "#bd3786"
             ],
             [
              0.5555555555555556,
              "#d8576b"
             ],
             [
              0.6666666666666666,
              "#ed7953"
             ],
             [
              0.7777777777777778,
              "#fb9f3a"
             ],
             [
              0.8888888888888888,
              "#fdca26"
             ],
             [
              1,
              "#f0f921"
             ]
            ],
            "type": "heatmap"
           }
          ],
          "heatmapgl": [
           {
            "colorbar": {
             "outlinewidth": 0,
             "ticks": ""
            },
            "colorscale": [
             [
              0,
              "#0d0887"
             ],
             [
              0.1111111111111111,
              "#46039f"
             ],
             [
              0.2222222222222222,
              "#7201a8"
             ],
             [
              0.3333333333333333,
              "#9c179e"
             ],
             [
              0.4444444444444444,
              "#bd3786"
             ],
             [
              0.5555555555555556,
              "#d8576b"
             ],
             [
              0.6666666666666666,
              "#ed7953"
             ],
             [
              0.7777777777777778,
              "#fb9f3a"
             ],
             [
              0.8888888888888888,
              "#fdca26"
             ],
             [
              1,
              "#f0f921"
             ]
            ],
            "type": "heatmapgl"
           }
          ],
          "histogram": [
           {
            "marker": {
             "pattern": {
              "fillmode": "overlay",
              "size": 10,
              "solidity": 0.2
             }
            },
            "type": "histogram"
           }
          ],
          "histogram2d": [
           {
            "colorbar": {
             "outlinewidth": 0,
             "ticks": ""
            },
            "colorscale": [
             [
              0,
              "#0d0887"
             ],
             [
              0.1111111111111111,
              "#46039f"
             ],
             [
              0.2222222222222222,
              "#7201a8"
             ],
             [
              0.3333333333333333,
              "#9c179e"
             ],
             [
              0.4444444444444444,
              "#bd3786"
             ],
             [
              0.5555555555555556,
              "#d8576b"
             ],
             [
              0.6666666666666666,
              "#ed7953"
             ],
             [
              0.7777777777777778,
              "#fb9f3a"
             ],
             [
              0.8888888888888888,
              "#fdca26"
             ],
             [
              1,
              "#f0f921"
             ]
            ],
            "type": "histogram2d"
           }
          ],
          "histogram2dcontour": [
           {
            "colorbar": {
             "outlinewidth": 0,
             "ticks": ""
            },
            "colorscale": [
             [
              0,
              "#0d0887"
             ],
             [
              0.1111111111111111,
              "#46039f"
             ],
             [
              0.2222222222222222,
              "#7201a8"
             ],
             [
              0.3333333333333333,
              "#9c179e"
             ],
             [
              0.4444444444444444,
              "#bd3786"
             ],
             [
              0.5555555555555556,
              "#d8576b"
             ],
             [
              0.6666666666666666,
              "#ed7953"
             ],
             [
              0.7777777777777778,
              "#fb9f3a"
             ],
             [
              0.8888888888888888,
              "#fdca26"
             ],
             [
              1,
              "#f0f921"
             ]
            ],
            "type": "histogram2dcontour"
           }
          ],
          "mesh3d": [
           {
            "colorbar": {
             "outlinewidth": 0,
             "ticks": ""
            },
            "type": "mesh3d"
           }
          ],
          "parcoords": [
           {
            "line": {
             "colorbar": {
              "outlinewidth": 0,
              "ticks": ""
             }
            },
            "type": "parcoords"
           }
          ],
          "pie": [
           {
            "automargin": true,
            "type": "pie"
           }
          ],
          "scatter": [
           {
            "marker": {
             "colorbar": {
              "outlinewidth": 0,
              "ticks": ""
             }
            },
            "type": "scatter"
           }
          ],
          "scatter3d": [
           {
            "line": {
             "colorbar": {
              "outlinewidth": 0,
              "ticks": ""
             }
            },
            "marker": {
             "colorbar": {
              "outlinewidth": 0,
              "ticks": ""
             }
            },
            "type": "scatter3d"
           }
          ],
          "scattercarpet": [
           {
            "marker": {
             "colorbar": {
              "outlinewidth": 0,
              "ticks": ""
             }
            },
            "type": "scattercarpet"
           }
          ],
          "scattergeo": [
           {
            "marker": {
             "colorbar": {
              "outlinewidth": 0,
              "ticks": ""
             }
            },
            "type": "scattergeo"
           }
          ],
          "scattergl": [
           {
            "marker": {
             "colorbar": {
              "outlinewidth": 0,
              "ticks": ""
             }
            },
            "type": "scattergl"
           }
          ],
          "scattermapbox": [
           {
            "marker": {
             "colorbar": {
              "outlinewidth": 0,
              "ticks": ""
             }
            },
            "type": "scattermapbox"
           }
          ],
          "scatterpolar": [
           {
            "marker": {
             "colorbar": {
              "outlinewidth": 0,
              "ticks": ""
             }
            },
            "type": "scatterpolar"
           }
          ],
          "scatterpolargl": [
           {
            "marker": {
             "colorbar": {
              "outlinewidth": 0,
              "ticks": ""
             }
            },
            "type": "scatterpolargl"
           }
          ],
          "scatterternary": [
           {
            "marker": {
             "colorbar": {
              "outlinewidth": 0,
              "ticks": ""
             }
            },
            "type": "scatterternary"
           }
          ],
          "surface": [
           {
            "colorbar": {
             "outlinewidth": 0,
             "ticks": ""
            },
            "colorscale": [
             [
              0,
              "#0d0887"
             ],
             [
              0.1111111111111111,
              "#46039f"
             ],
             [
              0.2222222222222222,
              "#7201a8"
             ],
             [
              0.3333333333333333,
              "#9c179e"
             ],
             [
              0.4444444444444444,
              "#bd3786"
             ],
             [
              0.5555555555555556,
              "#d8576b"
             ],
             [
              0.6666666666666666,
              "#ed7953"
             ],
             [
              0.7777777777777778,
              "#fb9f3a"
             ],
             [
              0.8888888888888888,
              "#fdca26"
             ],
             [
              1,
              "#f0f921"
             ]
            ],
            "type": "surface"
           }
          ],
          "table": [
           {
            "cells": {
             "fill": {
              "color": "#EBF0F8"
             },
             "line": {
              "color": "white"
             }
            },
            "header": {
             "fill": {
              "color": "#C8D4E3"
             },
             "line": {
              "color": "white"
             }
            },
            "type": "table"
           }
          ]
         },
         "layout": {
          "annotationdefaults": {
           "arrowcolor": "#2a3f5f",
           "arrowhead": 0,
           "arrowwidth": 1
          },
          "autotypenumbers": "strict",
          "coloraxis": {
           "colorbar": {
            "outlinewidth": 0,
            "ticks": ""
           }
          },
          "colorscale": {
           "diverging": [
            [
             0,
             "#8e0152"
            ],
            [
             0.1,
             "#c51b7d"
            ],
            [
             0.2,
             "#de77ae"
            ],
            [
             0.3,
             "#f1b6da"
            ],
            [
             0.4,
             "#fde0ef"
            ],
            [
             0.5,
             "#f7f7f7"
            ],
            [
             0.6,
             "#e6f5d0"
            ],
            [
             0.7,
             "#b8e186"
            ],
            [
             0.8,
             "#7fbc41"
            ],
            [
             0.9,
             "#4d9221"
            ],
            [
             1,
             "#276419"
            ]
           ],
           "sequential": [
            [
             0,
             "#0d0887"
            ],
            [
             0.1111111111111111,
             "#46039f"
            ],
            [
             0.2222222222222222,
             "#7201a8"
            ],
            [
             0.3333333333333333,
             "#9c179e"
            ],
            [
             0.4444444444444444,
             "#bd3786"
            ],
            [
             0.5555555555555556,
             "#d8576b"
            ],
            [
             0.6666666666666666,
             "#ed7953"
            ],
            [
             0.7777777777777778,
             "#fb9f3a"
            ],
            [
             0.8888888888888888,
             "#fdca26"
            ],
            [
             1,
             "#f0f921"
            ]
           ],
           "sequentialminus": [
            [
             0,
             "#0d0887"
            ],
            [
             0.1111111111111111,
             "#46039f"
            ],
            [
             0.2222222222222222,
             "#7201a8"
            ],
            [
             0.3333333333333333,
             "#9c179e"
            ],
            [
             0.4444444444444444,
             "#bd3786"
            ],
            [
             0.5555555555555556,
             "#d8576b"
            ],
            [
             0.6666666666666666,
             "#ed7953"
            ],
            [
             0.7777777777777778,
             "#fb9f3a"
            ],
            [
             0.8888888888888888,
             "#fdca26"
            ],
            [
             1,
             "#f0f921"
            ]
           ]
          },
          "colorway": [
           "#636efa",
           "#EF553B",
           "#00cc96",
           "#ab63fa",
           "#FFA15A",
           "#19d3f3",
           "#FF6692",
           "#B6E880",
           "#FF97FF",
           "#FECB52"
          ],
          "font": {
           "color": "#2a3f5f"
          },
          "geo": {
           "bgcolor": "white",
           "lakecolor": "white",
           "landcolor": "#E5ECF6",
           "showlakes": true,
           "showland": true,
           "subunitcolor": "white"
          },
          "hoverlabel": {
           "align": "left"
          },
          "hovermode": "closest",
          "mapbox": {
           "style": "light"
          },
          "paper_bgcolor": "white",
          "plot_bgcolor": "#E5ECF6",
          "polar": {
           "angularaxis": {
            "gridcolor": "white",
            "linecolor": "white",
            "ticks": ""
           },
           "bgcolor": "#E5ECF6",
           "radialaxis": {
            "gridcolor": "white",
            "linecolor": "white",
            "ticks": ""
           }
          },
          "scene": {
           "xaxis": {
            "backgroundcolor": "#E5ECF6",
            "gridcolor": "white",
            "gridwidth": 2,
            "linecolor": "white",
            "showbackground": true,
            "ticks": "",
            "zerolinecolor": "white"
           },
           "yaxis": {
            "backgroundcolor": "#E5ECF6",
            "gridcolor": "white",
            "gridwidth": 2,
            "linecolor": "white",
            "showbackground": true,
            "ticks": "",
            "zerolinecolor": "white"
           },
           "zaxis": {
            "backgroundcolor": "#E5ECF6",
            "gridcolor": "white",
            "gridwidth": 2,
            "linecolor": "white",
            "showbackground": true,
            "ticks": "",
            "zerolinecolor": "white"
           }
          },
          "shapedefaults": {
           "line": {
            "color": "#2a3f5f"
           }
          },
          "ternary": {
           "aaxis": {
            "gridcolor": "white",
            "linecolor": "white",
            "ticks": ""
           },
           "baxis": {
            "gridcolor": "white",
            "linecolor": "white",
            "ticks": ""
           },
           "bgcolor": "#E5ECF6",
           "caxis": {
            "gridcolor": "white",
            "linecolor": "white",
            "ticks": ""
           }
          },
          "title": {
           "x": 0.05
          },
          "xaxis": {
           "automargin": true,
           "gridcolor": "white",
           "linecolor": "white",
           "ticks": "",
           "title": {
            "standoff": 15
           },
           "zerolinecolor": "white",
           "zerolinewidth": 2
          },
          "yaxis": {
           "automargin": true,
           "gridcolor": "white",
           "linecolor": "white",
           "ticks": "",
           "title": {
            "standoff": 15
           },
           "zerolinecolor": "white",
           "zerolinewidth": 2
          }
         }
        },
        "xaxis": {
         "anchor": "y",
         "autorange": true,
         "domain": [
          0,
          1
         ],
         "range": [
          -4.237787294789436,
          84.65778729478944
         ],
         "title": {
          "text": "Age"
         },
         "type": "linear"
        },
        "yaxis": {
         "anchor": "x",
         "autorange": true,
         "domain": [
          0,
          1
         ],
         "range": [
          -32.10246905370844,
          544.4316690537084
         ],
         "title": {
          "text": "Fare"
         },
         "type": "linear"
        }
       }
      },
      "image/png": "[encoded data removed]",
      "text/html": [
       "<div>                            <div id=\"ab152328-2128-41ee-8cc6-097c4eee807d\" class=\"plotly-graph-div\" style=\"height:800px; width:100%;\"></div>            <script type=\"text/javascript\">                require([\"plotly\"], function(Plotly) {                    window.PLOTLYENV=window.PLOTLYENV || {};                                    if (document.getElementById(\"ab152328-2128-41ee-8cc6-097c4eee807d\")) {                    Plotly.newPlot(                        \"ab152328-2128-41ee-8cc6-097c4eee807d\",                        [{\"hovertemplate\":\"Sex=male<br>Age=%{x}<br>Fare=%{y}<extra></extra>\",\"legendgroup\":\"male\",\"marker\":{\"color\":\"#636efa\",\"symbol\":\"circle\"},\"mode\":\"markers\",\"name\":\"male\",\"orientation\":\"v\",\"showlegend\":true,\"type\":\"scatter\",\"x\":[22.0,35.0,null,54.0,2.0,20.0,39.0,2.0,null,35.0,34.0,28.0,null,19.0,null,40.0,66.0,28.0,42.0,null,21.0,null,null,null,null,7.0,21.0,65.0,null,28.5,11.0,22.0,45.0,4.0,null,null,19.0,26.0,32.0,21.0,26.0,32.0,25.0,null,null,0.83,22.0,29.0,28.0,16.0,null,24.0,29.0,20.0,46.0,26.0,59.0,null,71.0,23.0,34.0,null,21.0,33.0,37.0,28.0,null,38.0,47.0,22.0,21.0,70.5,29.0,24.0,21.0,null,32.5,54.0,12.0,null,24.0,45.0,33.0,20.0,25.0,23.0,37.0,16.0,24.0,19.0,18.0,19.0,27.0,36.5,42.0,51.0,55.5,40.5,null,51.0,30.0,null,null,44.0,26.0,17.0,1.0,9.0,null,28.0,61.0,4.0,21.0,56.0,18.0,null,30.0,36.0,null,9.0,1.0,null,45.0,40.0,36.0,19.0,3.0,null,42.0,28.0,null,34.0,45.5,18.0,32.0,26.0,40.0,24.0,22.0,30.0,null,42.0,30.0,16.0,27.0,51.0,null,38.0,22.0,19.0,20.5,18.0,29.0,59.0,24.0,44.0,19.0,33.0,29.0,22.0,30.0,44.0,37.0,54.0,null,62.0,30.0,null,3.0,52.0,40.0,36.0,16.0,25.0,null,25.0,37.0,null,7.0,65.0,28.0,16.0,19.0,null,33.0,30.0,22.0,42.0,36.0,24.0,null,23.5,null,null,19.0,null,0.92,30.0,28.0,43.0,54.0,22.0,27.0,null,61.0,45.5,38.0,16.0,null,29.0,45.0,45.0,2.0,28.0,25.0,36.0,3.0,42.0,23.0,null,15.0,25.0,null,28.0,40.0,29.0,35.0,null,30.0,25.0,18.0,19.0,22.0,27.0,20.0,19.0,32.0,null,18.0,1.0,null,36.0,21.0,28.0,22.0,46.0,23.0,39.0,26.0,28.0,34.0,51.0,3.0,21.0,null,null,null,44.0,30.0,null,21.0,29.0,18.0,null,null,32.0,28.0,17.0,50.0,64.0,31.0,20.0,25.0,null,4.0,34.0,52.0,36.0,null,30.0,49.0,null,29.0,65.0,null,48.0,34.0,47.0,48.0,null,38.0,null,56.0,null,null,38.0,null,34.0,29.0,22.0,9.0,null,50.0,25.0,58.0,30.0,9.0,null,21.0,55.0,71.0,21.0,null,null,24.0,17.0,18.0,null,28.0,26.0,29.0,null,36.0,24.0,47.0,null,32.0,22.0,null,null,40.5,null,39.0,23.0,null,17.0,45.0,null,32.0,50.0,64.0,null,33.0,8.0,17.0,27.0,null,22.0,62.0,null,null,40.0,28.0,null,24.0,19.0,null,32.0,62.0,36.0,16.0,19.0,32.0,54.0,36.0,null,47.0,60.0,22.0,null,35.0,47.0,37.0,36.0,49.0,null,49.0,null,null,44.0,35.0,36.0,30.0,27.0,null,null,35.0,34.0,26.0,27.0,42.0,20.0,21.0,21.0,61.0,57.0,26.0,null,80.0,51.0,32.0,null,32.0,31.0,null,20.0,null,48.0,19.0,56.0,null,null,21.0,24.0,null,23.0,58.0,50.0,40.0,47.0,36.0,20.0,32.0,25.0,null,43.0,31.0,70.0,31.0,null,18.0,24.5,36.0,27.0,20.0,14.0,60.0,25.0,14.0,19.0,18.0,31.0,null,25.0,60.0,52.0,44.0,49.0,42.0,35.0,25.0,26.0,39.0,42.0,null,null,48.0,29.0,52.0,19.0,null,33.0,17.0,34.0,50.0,27.0,20.0,25.0,11.0,null,23.0,23.0,28.5,35.0,null,null,null,36.0,24.0,31.0,70.0,16.0,19.0,31.0,6.0,33.0,23.0,0.67,28.0,18.0,34.0,null,41.0,20.0,16.0,null,null,32.0,24.0,48.0,null,18.0,null,null,29.0,null,25.0,25.0,8.0,1.0,46.0,null,16.0,null,25.0,39.0,30.0,34.0,11.0,0.42,27.0,31.0,39.0,39.0,26.0,39.0,35.0,30.5,null,31.0,43.0,10.0,27.0,38.0,2.0,null,null,1.0,null,0.83,null,23.0,18.0,21.0,null,32.0,null,20.0,16.0,34.5,17.0,42.0,null,35.0,28.0,4.0,74.0,51.0,null,41.0,21.0,24.0,31.0,null,4.0,26.0,33.0,47.0,20.0,19.0,null,33.0,28.0,25.0,27.0,26.0,32.0],\"xaxis\":\"x\",\"y\":[7.25,8.05,8.4583,51.8625,21.075,8.05,31.275,29.125,13.0,26.0,13.0,35.5,7.225,263.0,7.8958,27.7208,10.5,82.1708,52.0,7.2292,8.05,7.8958,8.05,15.5,21.6792,39.6875,7.8,61.9792,35.5,7.2292,46.9,7.2292,83.475,27.9,27.7208,15.2458,8.1583,8.6625,10.5,73.5,14.4542,56.4958,7.65,7.8958,8.05,29.0,9.0,9.5,47.1,34.375,8.05,8.05,8.05,7.8542,61.175,20.575,7.25,8.05,34.6542,63.3583,26.0,7.8958,77.2875,8.6542,7.925,7.8958,7.775,7.8958,52.0,8.05,7.925,7.75,21.0,247.5208,73.5,8.05,30.0708,77.2875,11.2417,7.75,7.1417,6.975,7.8958,7.05,13.0,15.0458,53.1,9.2167,79.2,6.75,11.5,36.75,7.7958,26.0,13.0,12.525,8.05,14.5,7.3125,61.3792,8.05,8.6625,69.55,16.1,7.775,8.6625,39.6875,20.525,25.925,56.4958,33.5,29.125,7.925,30.6958,7.8542,25.4667,13.0,0.0,15.05,31.3875,39.0,50.0,26.55,15.5,7.8958,13.0,26.0,7.75,8.4042,9.5,69.55,6.4958,7.225,8.05,15.85,18.7875,31.0,7.05,7.25,13.0,7.75,27.0,10.5,8.05,13.0,8.05,7.8958,90.0,9.35,10.5,7.25,13.0,7.775,13.5,10.5,26.0,10.5,12.275,10.5,7.125,7.225,90.0,52.5542,26.0,7.25,26.55,16.1,7.75,31.3875,79.65,0.0,10.5,39.6875,7.775,31.0,0.0,29.7,0.0,29.125,7.75,7.8542,9.5,8.05,26.0,8.6625,9.5,7.8958,13.0,12.875,7.8958,27.7208,7.2292,30.5,23.25,0.0,8.05,151.55,24.0,7.8958,26.25,14.0,7.25,7.8958,69.55,6.2375,28.5,153.4625,18.0,7.8958,66.6,8.05,35.5,26.0,13.0,13.0,13.0,15.9,8.6625,9.225,35.0,7.2292,17.8,7.225,9.5,27.9,27.7208,7.05,15.5,7.25,55.4417,6.4958,8.05,135.6333,211.5,4.0125,7.775,7.925,7.8958,73.5,46.9,7.7292,120.0,7.7958,7.925,7.7958,26.0,10.5,7.925,8.05,15.85,21.0,7.75,18.75,7.775,7.8958,6.8583,0.0,7.925,13.0,7.8958,7.7333,7.875,20.2125,7.25,7.75,8.05,26.55,7.125,55.9,263.0,10.5,9.5,7.775,8.1125,81.8583,26.55,30.5,27.75,19.9667,27.75,89.1042,8.05,7.8958,26.55,7.75,26.55,8.05,38.5,13.0,8.05,7.05,0.0,26.55,7.725,7.25,8.6625,52.0,21.0,7.0458,7.5208,46.9,0.0,8.05,91.0792,29.7,8.05,15.9,19.9667,7.25,30.5,49.5042,8.05,14.4583,15.1,7.7958,8.6625,108.9,26.55,22.525,56.4958,7.75,8.05,26.2875,7.4958,34.0208,24.15,7.8958,7.8958,7.225,7.2292,7.75,221.7792,7.925,11.5,7.2292,7.2292,26.55,14.5,26.0,106.425,26.0,13.8625,20.525,36.75,110.8833,26.0,7.8292,7.225,26.55,227.525,7.75,7.8958,13.5,8.05,24.15,7.8958,7.2292,7.8542,10.5,26.3875,8.05,14.5,7.925,26.0,40.125,8.7125,15.0,79.2,8.05,8.05,7.125,7.25,26.0,24.15,0.0,7.225,56.9292,7.8958,42.4,8.05,26.55,15.55,7.8958,30.5,7.05,7.75,8.05,14.4,10.5,14.4542,52.5542,15.7417,7.8542,16.1,32.3208,12.35,7.8958,7.7333,30.0,7.0542,30.5,0.0,7.925,26.25,16.1,7.8542,56.4958,76.7292,7.8958,35.5,7.55,7.8958,8.4333,73.5,7.8958,13.0,113.275,133.65,7.225,25.5875,7.4958,7.925,73.5,13.0,7.775,8.05,52.0,10.5,13.0,0.0,7.775,8.05,512.3292,76.7292,9.225,46.9,39.0,41.5792,39.6875,10.1708,7.7958,57.0,56.4958,7.225,26.55,13.5,8.05,110.8833,7.65,26.2875,7.7417,7.8542,26.0,26.2875,15.2458,26.55,52.0,9.4833,13.0,7.65,15.5,7.775,7.0542,13.0,13.0,53.1,8.6625,26.0,18.7875,0.0,13.0,13.0,16.1,512.3292,7.8958,7.8958,30.0,78.85,16.1,7.925,71.0,20.25,53.1,7.75,12.475,9.5,7.8958,14.5,7.7958,11.5,8.05,14.5,7.125,7.2292,7.775,39.6,24.15,8.3625,9.5,7.8542,7.225,7.75,7.75,7.7375,30.0,23.45,7.05,7.25,29.125,20.575,79.2,7.75,26.0,30.6958,7.8958,13.0,7.2292,13.0,120.0,8.5167,6.975,7.775,0.0,13.0,7.8875,24.15,10.5,8.05,0.0,37.0042,6.45,27.9,8.6625,0.0,39.6875,6.95,56.4958,37.0042,7.75,18.75,7.2292,7.8542,8.3,8.6625,8.05,56.4958,29.7,7.925,10.5,6.4375,8.6625,7.55,69.55,7.8958,33.0,31.275,7.775,26.55,7.2292,14.1083,11.5,13.0,50.4958,9.5,11.1333,7.8958,5.0,9.0,9.8458,7.8958,7.8958,7.8958,10.5,7.05,13.0,30.0,7.75],\"yaxis\":\"y\"},{\"hovertemplate\":\"Sex=female<br>Age=%{x}<br>Fare=%{y}<extra></extra>\",\"legendgroup\":\"female\",\"marker\":{\"color\":\"#EF553B\",\"symbol\":\"circle\"},\"mode\":\"markers\",\"name\":\"female\",\"orientation\":\"v\",\"showlegend\":true,\"type\":\"scatter\",\"x\":[38.0,26.0,35.0,27.0,14.0,4.0,58.0,14.0,55.0,31.0,null,15.0,8.0,38.0,null,null,null,18.0,14.0,40.0,27.0,3.0,19.0,null,18.0,49.0,29.0,21.0,5.0,38.0,29.0,17.0,16.0,30.0,null,17.0,33.0,23.0,34.0,28.0,21.0,null,14.5,20.0,17.0,2.0,32.5,null,47.0,29.0,19.0,null,22.0,24.0,9.0,22.0,16.0,40.0,null,45.0,1.0,50.0,null,4.0,null,32.0,19.0,44.0,58.0,null,24.0,2.0,16.0,35.0,31.0,27.0,32.0,null,35.0,5.0,null,8.0,null,null,25.0,24.0,29.0,41.0,29.0,null,30.0,35.0,50.0,null,58.0,35.0,41.0,null,63.0,45.0,35.0,22.0,26.0,19.0,24.0,2.0,50.0,null,null,null,17.0,30.0,24.0,18.0,26.0,26.0,24.0,31.0,40.0,30.0,22.0,36.0,36.0,31.0,16.0,null,null,41.0,24.0,24.0,40.0,null,22.0,38.0,null,null,45.0,60.0,null,null,24.0,3.0,null,22.0,42.0,1.0,35.0,36.0,17.0,23.0,24.0,31.0,28.0,21.0,20.0,null,33.0,null,34.0,18.0,10.0,28.0,28.0,19.0,null,42.0,14.0,21.0,24.0,45.0,28.0,13.0,5.0,null,50.0,0.75,33.0,23.0,22.0,2.0,63.0,null,35.0,54.0,25.0,21.0,null,37.0,16.0,33.0,54.0,34.0,36.0,30.0,44.0,50.0,2.0,null,30.0,7.0,30.0,22.0,36.0,9.0,11.0,19.0,22.0,48.0,39.0,36.0,null,29.0,53.0,null,34.0,39.0,null,25.0,39.0,18.0,52.0,null,null,24.0,22.0,40.0,39.0,null,24.0,26.0,4.0,21.0,9.0,28.0,41.0,24.0,2.0,0.75,23.0,18.0,null,18.0,32.0,null,40.0,18.0,43.0,null,15.0,4.0,null,18.0,18.0,45.0,22.0,24.0,38.0,27.0,6.0,30.0,null,25.0,29.0,48.0,21.0,30.0,4.0,48.0,33.0,36.0,51.0,30.5,57.0,54.0,5.0,43.0,13.0,17.0,18.0,null,49.0,31.0,30.0,31.0,18.0,33.0,6.0,23.0,52.0,27.0,62.0,15.0,39.0,30.0,null,9.0,16.0,44.0,18.0,45.0,24.0,48.0,null,42.0,27.0,47.0,28.0,15.0,56.0,25.0,22.0,39.0,19.0,null],\"xaxis\":\"x\",\"y\":[71.2833,7.925,53.1,11.1333,30.0708,16.7,26.55,7.8542,16.0,18.0,7.225,8.0292,21.075,31.3875,7.8792,146.5208,7.75,18.0,11.2417,9.475,21.0,41.5792,7.8792,7.75,17.8,76.7292,26.0,10.5,27.75,80.0,10.5,7.925,46.9,12.475,7.7875,10.5,15.85,263.0,23.0,7.8958,7.65,24.15,14.4542,9.825,14.4583,31.275,13.0,22.3583,14.5,26.0,26.2833,15.2458,7.75,15.85,34.375,66.6,7.7333,15.75,55.0,27.9,11.1333,28.7125,69.55,22.025,15.5,13.0,7.8542,27.7208,146.5208,7.75,13.0,10.4625,7.75,21.0,113.275,7.925,76.2917,25.4667,83.475,31.3875,7.55,26.25,14.4542,15.5,7.775,14.5,10.4625,20.2125,15.2458,79.2,86.5,512.3292,26.0,7.75,153.4625,135.6333,19.5,7.75,77.9583,7.75,20.25,7.75,78.85,91.0792,8.85,151.55,247.5208,7.75,12.35,110.8833,108.9,56.9292,83.1583,262.375,26.0,7.8542,26.0,164.8667,134.5,12.35,29.0,135.6333,13.0,20.525,57.9792,23.25,133.65,134.5,263.0,13.0,13.0,16.1,55.0,13.0,7.8792,7.8792,14.4542,75.25,7.2292,7.75,69.3,21.075,82.1708,7.25,227.525,15.7417,52.0,13.0,12.0,113.275,16.7,7.8542,12.65,9.825,8.6625,25.4667,90.0,8.05,32.5,13.0,24.15,14.4,26.0,26.0,16.1,26.0,120.0,34.375,18.75,26.25,13.0,19.5,19.2583,51.8625,10.5,19.2583,27.75,13.7917,9.8375,12.2875,9.5875,25.4667,90.0,78.2667,151.55,7.75,7.6292,9.5875,86.5,26.0,59.4,10.5,26.0,93.5,57.9792,10.5,26.0,22.3583,8.6625,26.25,106.425,49.5,71.0,31.275,31.275,26.0,7.775,39.6,79.65,17.4,8.05,21.075,51.4792,7.75,13.0,55.9,14.4583,30.0,110.8833,79.65,78.2667,7.75,33.0,27.0,41.5792,153.4625,31.275,15.5,65.0,16.1,39.0,77.9583,27.9,13.0,39.6875,69.3,27.9,19.2583,7.55,23.0,7.8292,6.75,15.5,52.0,39.0,9.8417,46.9,8.1375,211.3375,13.4167,7.7333,227.525,14.4542,13.5,151.55,49.5042,227.525,10.5,33.0,21.0,7.7375,7.925,211.3375,34.375,262.375,13.0,23.0,65.0,86.5,120.0,77.9583,7.75,10.5,23.0,12.475,211.3375,7.2292,57.0,7.4958,69.55,25.9292,8.6833,24.15,26.25,7.775,53.1,31.275,7.925,93.5,12.475,80.0,14.4542,83.1583,31.0,89.1042,15.2458,39.4,26.0,9.35,164.8667,19.2583,25.9292,69.55,13.0,13.8583,52.5542,24.0,7.225,83.1583,26.0,10.5167,29.125,30.0,23.45],\"yaxis\":\"y\"}],                        {\"height\":800,\"legend\":{\"title\":{\"text\":\"Sex\"},\"tracegroupgap\":0},\"margin\":{\"t\":60},\"template\":{\"data\":{\"bar\":[{\"error_x\":{\"color\":\"#2a3f5f\"},\"error_y\":{\"color\":\"#2a3f5f\"},\"marker\":{\"line\":{\"color\":\"#E5ECF6\",\"width\":0.5},\"pattern\":{\"fillmode\":\"overlay\",\"size\":10,\"solidity\":0.2}},\"type\":\"bar\"}],\"barpolar\":[{\"marker\":{\"line\":{\"color\":\"#E5ECF6\",\"width\":0.5},\"pattern\":{\"fillmode\":\"overlay\",\"size\":10,\"solidity\":0.2}},\"type\":\"barpolar\"}],\"carpet\":[{\"aaxis\":{\"endlinecolor\":\"#2a3f5f\",\"gridcolor\":\"white\",\"linecolor\":\"white\",\"minorgridcolor\":\"white\",\"startlinecolor\":\"#2a3f5f\"},\"baxis\":{\"endlinecolor\":\"#2a3f5f\",\"gridcolor\":\"white\",\"linecolor\":\"white\",\"minorgridcolor\":\"white\",\"startlinecolor\":\"#2a3f5f\"},\"type\":\"carpet\"}],\"choropleth\":[{\"colorbar\":{\"outlinewidth\":0,\"ticks\":\"\"},\"type\":\"choropleth\"}],\"contour\":[{\"colorbar\":{\"outlinewidth\":0,\"ticks\":\"\"},\"colorscale\":[[0.0,\"#0d0887\"],[0.1111111111111111,\"#46039f\"],[0.2222222222222222,\"#7201a8\"],[0.3333333333333333,\"#9c179e\"],[0.4444444444444444,\"#bd3786\"],[0.5555555555555556,\"#d8576b\"],[0.6666666666666666,\"#ed7953\"],[0.7777777777777778,\"#fb9f3a\"],[0.8888888888888888,\"#fdca26\"],[1.0,\"#f0f921\"]],\"type\":\"contour\"}],\"contourcarpet\":[{\"colorbar\":{\"outlinewidth\":0,\"ticks\":\"\"},\"type\":\"contourcarpet\"}],\"heatmap\":[{\"colorbar\":{\"outlinewidth\":0,\"ticks\":\"\"},\"colorscale\":[[0.0,\"#0d0887\"],[0.1111111111111111,\"#46039f\"],[0.2222222222222222,\"#7201a8\"],[0.3333333333333333,\"#9c179e\"],[0.4444444444444444,\"#bd3786\"],[0.5555555555555556,\"#d8576b\"],[0.6666666666666666,\"#ed7953\"],[0.7777777777777778,\"#fb9f3a\"],[0.8888888888888888,\"#fdca26\"],[1.0,\"#f0f921\"]],\"type\":\"heatmap\"}],\"heatmapgl\":[{\"colorbar\":{\"outlinewidth\":0,\"ticks\":\"\"},\"colorscale\":[[0.0,\"#0d0887\"],[0.1111111111111111,\"#46039f\"],[0.2222222222222222,\"#7201a8\"],[0.3333333333333333,\"#9c179e\"],[0.4444444444444444,\"#bd3786\"],[0.5555555555555556,\"#d8576b\"],[0.6666666666666666,\"#ed7953\"],[0.7777777777777778,\"#fb9f3a\"],[0.8888888888888888,\"#fdca26\"],[1.0,\"#f0f921\"]],\"type\":\"heatmapgl\"}],\"histogram\":[{\"marker\":{\"pattern\":{\"fillmode\":\"overlay\",\"size\":10,\"solidity\":0.2}},\"type\":\"histogram\"}],\"histogram2d\":[{\"colorbar\":{\"outlinewidth\":0,\"ticks\":\"\"},\"colorscale\":[[0.0,\"#0d0887\"],[0.1111111111111111,\"#46039f\"],[0.2222222222222222,\"#7201a8\"],[0.3333333333333333,\"#9c179e\"],[0.4444444444444444,\"#bd3786\"],[0.5555555555555556,\"#d8576b\"],[0.6666666666666666,\"#ed7953\"],[0.7777777777777778,\"#fb9f3a\"],[0.8888888888888888,\"#fdca26\"],[1.0,\"#f0f921\"]],\"type\":\"histogram2d\"}],\"histogram2dcontour\":[{\"colorbar\":{\"outlinewidth\":0,\"ticks\":\"\"},\"colorscale\":[[0.0,\"#0d0887\"],[0.1111111111111111,\"#46039f\"],[0.2222222222222222,\"#7201a8\"],[0.3333333333333333,\"#9c179e\"],[0.4444444444444444,\"#bd3786\"],[0.5555555555555556,\"#d8576b\"],[0.6666666666666666,\"#ed7953\"],[0.7777777777777778,\"#fb9f3a\"],[0.8888888888888888,\"#fdca26\"],[1.0,\"#f0f921\"]],\"type\":\"histogram2dcontour\"}],\"mesh3d\":[{\"colorbar\":{\"outlinewidth\":0,\"ticks\":\"\"},\"type\":\"mesh3d\"}],\"parcoords\":[{\"line\":{\"colorbar\":{\"outlinewidth\":0,\"ticks\":\"\"}},\"type\":\"parcoords\"}],\"pie\":[{\"automargin\":true,\"type\":\"pie\"}],\"scatter\":[{\"marker\":{\"colorbar\":{\"outlinewidth\":0,\"ticks\":\"\"}},\"type\":\"scatter\"}],\"scatter3d\":[{\"line\":{\"colorbar\":{\"outlinewidth\":0,\"ticks\":\"\"}},\"marker\":{\"colorbar\":{\"outlinewidth\":0,\"ticks\":\"\"}},\"type\":\"scatter3d\"}],\"scattercarpet\":[{\"marker\":{\"colorbar\":{\"outlinewidth\":0,\"ticks\":\"\"}},\"type\":\"scattercarpet\"}],\"scattergeo\":[{\"marker\":{\"colorbar\":{\"outlinewidth\":0,\"ticks\":\"\"}},\"type\":\"scattergeo\"}],\"scattergl\":[{\"marker\":{\"colorbar\":{\"outlinewidth\":0,\"ticks\":\"\"}},\"type\":\"scattergl\"}],\"scattermapbox\":[{\"marker\":{\"colorbar\":{\"outlinewidth\":0,\"ticks\":\"\"}},\"type\":\"scattermapbox\"}],\"scatterpolar\":[{\"marker\":{\"colorbar\":{\"outlinewidth\":0,\"ticks\":\"\"}},\"type\":\"scatterpolar\"}],\"scatterpolargl\":[{\"marker\":{\"colorbar\":{\"outlinewidth\":0,\"ticks\":\"\"}},\"type\":\"scatterpolargl\"}],\"scatterternary\":[{\"marker\":{\"colorbar\":{\"outlinewidth\":0,\"ticks\":\"\"}},\"type\":\"scatterternary\"}],\"surface\":[{\"colorbar\":{\"outlinewidth\":0,\"ticks\":\"\"},\"colorscale\":[[0.0,\"#0d0887\"],[0.1111111111111111,\"#46039f\"],[0.2222222222222222,\"#7201a8\"],[0.3333333333333333,\"#9c179e\"],[0.4444444444444444,\"#bd3786\"],[0.5555555555555556,\"#d8576b\"],[0.6666666666666666,\"#ed7953\"],[0.7777777777777778,\"#fb9f3a\"],[0.8888888888888888,\"#fdca26\"],[1.0,\"#f0f921\"]],\"type\":\"surface\"}],\"table\":[{\"cells\":{\"fill\":{\"color\":\"#EBF0F8\"},\"line\":{\"color\":\"white\"}},\"header\":{\"fill\":{\"color\":\"#C8D4E3\"},\"line\":{\"color\":\"white\"}},\"type\":\"table\"}]},\"layout\":{\"annotationdefaults\":{\"arrowcolor\":\"#2a3f5f\",\"arrowhead\":0,\"arrowwidth\":1},\"autotypenumbers\":\"strict\",\"coloraxis\":{\"colorbar\":{\"outlinewidth\":0,\"ticks\":\"\"}},\"colorscale\":{\"diverging\":[[0,\"#8e0152\"],[0.1,\"#c51b7d\"],[0.2,\"#de77ae\"],[0.3,\"#f1b6da\"],[0.4,\"#fde0ef\"],[0.5,\"#f7f7f7\"],[0.6,\"#e6f5d0\"],[0.7,\"#b8e186\"],[0.8,\"#7fbc41\"],[0.9,\"#4d9221\"],[1,\"#276419\"]],\"sequential\":[[0.0,\"#0d0887\"],[0.1111111111111111,\"#46039f\"],[0.2222222222222222,\"#7201a8\"],[0.3333333333333333,\"#9c179e\"],[0.4444444444444444,\"#bd3786\"],[0.5555555555555556,\"#d8576b\"],[0.6666666666666666,\"#ed7953\"],[0.7777777777777778,\"#fb9f3a\"],[0.8888888888888888,\"#fdca26\"],[1.0,\"#f0f921\"]],\"sequentialminus\":[[0.0,\"#0d0887\"],[0.1111111111111111,\"#46039f\"],[0.2222222222222222,\"#7201a8\"],[0.3333333333333333,\"#9c179e\"],[0.4444444444444444,\"#bd3786\"],[0.5555555555555556,\"#d8576b\"],[0.6666666666666666,\"#ed7953\"],[0.7777777777777778,\"#fb9f3a\"],[0.8888888888888888,\"#fdca26\"],[1.0,\"#f0f921\"]]},\"colorway\":[\"#636efa\",\"#EF553B\",\"#00cc96\",\"#ab63fa\",\"#FFA15A\",\"#19d3f3\",\"#FF6692\",\"#B6E880\",\"#FF97FF\",\"#FECB52\"],\"font\":{\"color\":\"#2a3f5f\"},\"geo\":{\"bgcolor\":\"white\",\"lakecolor\":\"white\",\"landcolor\":\"#E5ECF6\",\"showlakes\":true,\"showland\":true,\"subunitcolor\":\"white\"},\"hoverlabel\":{\"align\":\"left\"},\"hovermode\":\"closest\",\"mapbox\":{\"style\":\"light\"},\"paper_bgcolor\":\"white\",\"plot_bgcolor\":\"#E5ECF6\",\"polar\":{\"angularaxis\":{\"gridcolor\":\"white\",\"linecolor\":\"white\",\"ticks\":\"\"},\"bgcolor\":\"#E5ECF6\",\"radialaxis\":{\"gridcolor\":\"white\",\"linecolor\":\"white\",\"ticks\":\"\"}},\"scene\":{\"xaxis\":{\"backgroundcolor\":\"#E5ECF6\",\"gridcolor\":\"white\",\"gridwidth\":2,\"linecolor\":\"white\",\"showbackground\":true,\"ticks\":\"\",\"zerolinecolor\":\"white\"},\"yaxis\":{\"backgroundcolor\":\"#E5ECF6\",\"gridcolor\":\"white\",\"gridwidth\":2,\"linecolor\":\"white\",\"showbackground\":true,\"ticks\":\"\",\"zerolinecolor\":\"white\"},\"zaxis\":{\"backgroundcolor\":\"#E5ECF6\",\"gridcolor\":\"white\",\"gridwidth\":2,\"linecolor\":\"white\",\"showbackground\":true,\"ticks\":\"\",\"zerolinecolor\":\"white\"}},\"shapedefaults\":{\"line\":{\"color\":\"#2a3f5f\"}},\"ternary\":{\"aaxis\":{\"gridcolor\":\"white\",\"linecolor\":\"white\",\"ticks\":\"\"},\"baxis\":{\"gridcolor\":\"white\",\"linecolor\":\"white\",\"ticks\":\"\"},\"bgcolor\":\"#E5ECF6\",\"caxis\":{\"gridcolor\":\"white\",\"linecolor\":\"white\",\"ticks\":\"\"}},\"title\":{\"x\":0.05},\"xaxis\":{\"automargin\":true,\"gridcolor\":\"white\",\"linecolor\":\"white\",\"ticks\":\"\",\"title\":{\"standoff\":15},\"zerolinecolor\":\"white\",\"zerolinewidth\":2},\"yaxis\":{\"automargin\":true,\"gridcolor\":\"white\",\"linecolor\":\"white\",\"ticks\":\"\",\"title\":{\"standoff\":15},\"zerolinecolor\":\"white\",\"zerolinewidth\":2}}},\"xaxis\":{\"anchor\":\"y\",\"domain\":[0.0,1.0],\"title\":{\"text\":\"Age\"}},\"yaxis\":{\"anchor\":\"x\",\"domain\":[0.0,1.0],\"title\":{\"text\":\"Fare\"}}},                        {\"responsive\": true}                    ).then(function(){\n",
       "                            \n",
       "var gd = document.getElementById('ab152328-2128-41ee-8cc6-097c4eee807d');\n",
       "var x = new MutationObserver(function (mutations, observer) {{\n",
       "        var display = window.getComputedStyle(gd).display;\n",
       "        if (!display || display === 'none') {{\n",
       "            console.log([gd, 'removed!']);\n",
       "            Plotly.purge(gd);\n",
       "            observer.disconnect();\n",
       "        }}\n",
       "}});\n",
       "\n",
       "// Listen for the removal of the full notebook cells\n",
       "var notebookContainer = gd.closest('#notebook-container');\n",
       "if (notebookContainer) {{\n",
       "    x.observe(notebookContainer, {childList: true});\n",
       "}}\n",
       "\n",
       "// Listen for the clearing of the current output cell\n",
       "var outputEl = gd.closest('.output');\n",
       "if (outputEl) {{\n",
       "    x.observe(outputEl, {childList: true});\n",
       "}}\n",
       "\n",
       "                        })                };                });            </script>        </div>"
      ]
     },
     "metadata": {},
     "output_type": "display_data"
    }
   ],
   "source": [
    "px.scatter(data_frame=titanic, x='Age', y='Fare', color='Sex', height=800)"
   ]
  },
  {
   "cell_type": "markdown",
   "metadata": {},
   "source": [
    "### Step 7. How many people survived?"
   ]
  },
  {
   "cell_type": "code",
   "execution_count": 11,
   "metadata": {},
   "outputs": [
    {
     "data": {
      "text/plain": [
       "891"
      ]
     },
     "execution_count": 11,
     "metadata": {},
     "output_type": "execute_result"
    }
   ],
   "source": [
    "# total\n",
    "titanic.shape[0]"
   ]
  },
  {
   "cell_type": "code",
   "execution_count": 12,
   "metadata": {},
   "outputs": [
    {
     "data": {
      "text/plain": [
       "342"
      ]
     },
     "execution_count": 12,
     "metadata": {},
     "output_type": "execute_result"
    }
   ],
   "source": [
    "# survived\n",
    "titanic.Survived.sum()"
   ]
  },
  {
   "cell_type": "markdown",
   "metadata": {},
   "source": [
    "### Step 8. Create a histogram with the Fare payed"
   ]
  },
  {
   "cell_type": "code",
   "execution_count": 13,
   "metadata": {},
   "outputs": [
    {
     "data": {
      "application/vnd.plotly.v1+json": {
       "config": {
        "plotlyServerURL": "https://plot.ly"
       },
       "data": [
        {
         "alignmentgroup": "True",
         "bingroup": "x",
         "hovertemplate": "Fare=%{x}<br>count=%{y}<extra></extra>",
         "legendgroup": "",
         "marker": {
          "color": "#636efa",
          "pattern": {
           "shape": ""
          }
         },
         "name": "",
         "offsetgroup": "",
         "orientation": "v",
         "showlegend": false,
         "type": "histogram",
         "x": [
          7.25,
          71.2833,
          7.925,
          53.1,
          8.05,
          8.4583,
          51.8625,
          21.075,
          11.1333,
          30.0708,
          16.7,
          26.55,
          8.05,
          31.275,
          7.8542,
          16,
          29.125,
          13,
          18,
          7.225,
          26,
          13,
          8.0292,
          35.5,
          21.075,
          31.3875,
          7.225,
          263,
          7.8792,
          7.8958,
          27.7208,
          146.5208,
          7.75,
          10.5,
          82.1708,
          52,
          7.2292,
          8.05,
          18,
          11.2417,
          9.475,
          21,
          7.8958,
          41.5792,
          7.8792,
          8.05,
          15.5,
          7.75,
          21.6792,
          17.8,
          39.6875,
          7.8,
          76.7292,
          26,
          61.9792,
          35.5,
          10.5,
          7.2292,
          27.75,
          46.9,
          7.2292,
          80,
          83.475,
          27.9,
          27.7208,
          15.2458,
          10.5,
          8.1583,
          7.925,
          8.6625,
          10.5,
          46.9,
          73.5,
          14.4542,
          56.4958,
          7.65,
          7.8958,
          8.05,
          29,
          12.475,
          9,
          9.5,
          7.7875,
          47.1,
          10.5,
          15.85,
          34.375,
          8.05,
          263,
          8.05,
          8.05,
          7.8542,
          61.175,
          20.575,
          7.25,
          8.05,
          34.6542,
          63.3583,
          23,
          26,
          7.8958,
          7.8958,
          77.2875,
          8.6542,
          7.925,
          7.8958,
          7.65,
          7.775,
          7.8958,
          24.15,
          52,
          14.4542,
          8.05,
          9.825,
          14.4583,
          7.925,
          7.75,
          21,
          247.5208,
          31.275,
          73.5,
          8.05,
          30.0708,
          13,
          77.2875,
          11.2417,
          7.75,
          7.1417,
          22.3583,
          6.975,
          7.8958,
          7.05,
          14.5,
          26,
          13,
          15.0458,
          26.2833,
          53.1,
          9.2167,
          79.2,
          15.2458,
          7.75,
          15.85,
          6.75,
          11.5,
          36.75,
          7.7958,
          34.375,
          26,
          13,
          12.525,
          66.6,
          8.05,
          14.5,
          7.3125,
          61.3792,
          7.7333,
          8.05,
          8.6625,
          69.55,
          16.1,
          15.75,
          7.775,
          8.6625,
          39.6875,
          20.525,
          55,
          27.9,
          25.925,
          56.4958,
          33.5,
          29.125,
          11.1333,
          7.925,
          30.6958,
          7.8542,
          25.4667,
          28.7125,
          13,
          0,
          69.55,
          15.05,
          31.3875,
          39,
          22.025,
          50,
          15.5,
          26.55,
          15.5,
          7.8958,
          13,
          13,
          7.8542,
          26,
          27.7208,
          146.5208,
          7.75,
          8.4042,
          7.75,
          13,
          9.5,
          69.55,
          6.4958,
          7.225,
          8.05,
          10.4625,
          15.85,
          18.7875,
          7.75,
          31,
          7.05,
          21,
          7.25,
          13,
          7.75,
          113.275,
          7.925,
          27,
          76.2917,
          10.5,
          8.05,
          13,
          8.05,
          7.8958,
          90,
          9.35,
          10.5,
          7.25,
          13,
          25.4667,
          83.475,
          7.775,
          13.5,
          31.3875,
          10.5,
          7.55,
          26,
          26.25,
          10.5,
          12.275,
          14.4542,
          15.5,
          10.5,
          7.125,
          7.225,
          90,
          7.775,
          14.5,
          52.5542,
          26,
          7.25,
          10.4625,
          26.55,
          16.1,
          20.2125,
          15.2458,
          79.2,
          86.5,
          512.3292,
          26,
          7.75,
          31.3875,
          79.65,
          0,
          7.75,
          10.5,
          39.6875,
          7.775,
          153.4625,
          135.6333,
          31,
          0,
          19.5,
          29.7,
          7.75,
          77.9583,
          7.75,
          0,
          29.125,
          20.25,
          7.75,
          7.8542,
          9.5,
          8.05,
          26,
          8.6625,
          9.5,
          7.8958,
          13,
          7.75,
          78.85,
          91.0792,
          12.875,
          8.85,
          7.8958,
          27.7208,
          7.2292,
          151.55,
          30.5,
          247.5208,
          7.75,
          23.25,
          0,
          12.35,
          8.05,
          151.55,
          110.8833,
          108.9,
          24,
          56.9292,
          83.1583,
          262.375,
          26,
          7.8958,
          26.25,
          7.8542,
          26,
          14,
          164.8667,
          134.5,
          7.25,
          7.8958,
          12.35,
          29,
          69.55,
          135.6333,
          6.2375,
          13,
          20.525,
          57.9792,
          23.25,
          28.5,
          153.4625,
          18,
          133.65,
          7.8958,
          66.6,
          134.5,
          8.05,
          35.5,
          26,
          263,
          13,
          13,
          13,
          13,
          13,
          16.1,
          15.9,
          8.6625,
          9.225,
          35,
          7.2292,
          17.8,
          7.225,
          9.5,
          55,
          13,
          7.8792,
          7.8792,
          27.9,
          27.7208,
          14.4542,
          7.05,
          15.5,
          7.25,
          75.25,
          7.2292,
          7.75,
          69.3,
          55.4417,
          6.4958,
          8.05,
          135.6333,
          21.075,
          82.1708,
          7.25,
          211.5,
          4.0125,
          7.775,
          227.525,
          15.7417,
          7.925,
          52,
          7.8958,
          73.5,
          46.9,
          13,
          7.7292,
          12,
          120,
          7.7958,
          7.925,
          113.275,
          16.7,
          7.7958,
          7.8542,
          26,
          10.5,
          12.65,
          7.925,
          8.05,
          9.825,
          15.85,
          8.6625,
          21,
          7.75,
          18.75,
          7.775,
          25.4667,
          7.8958,
          6.8583,
          90,
          0,
          7.925,
          8.05,
          32.5,
          13,
          13,
          24.15,
          7.8958,
          7.7333,
          7.875,
          14.4,
          20.2125,
          7.25,
          26,
          26,
          7.75,
          8.05,
          26.55,
          16.1,
          26,
          7.125,
          55.9,
          120,
          34.375,
          18.75,
          263,
          10.5,
          26.25,
          9.5,
          7.775,
          13,
          8.1125,
          81.8583,
          19.5,
          26.55,
          19.2583,
          30.5,
          27.75,
          19.9667,
          27.75,
          89.1042,
          8.05,
          7.8958,
          26.55,
          51.8625,
          10.5,
          7.75,
          26.55,
          8.05,
          38.5,
          13,
          8.05,
          7.05,
          0,
          26.55,
          7.725,
          19.2583,
          7.25,
          8.6625,
          27.75,
          13.7917,
          9.8375,
          52,
          21,
          7.0458,
          7.5208,
          12.2875,
          46.9,
          0,
          8.05,
          9.5875,
          91.0792,
          25.4667,
          90,
          29.7,
          8.05,
          15.9,
          19.9667,
          7.25,
          30.5,
          49.5042,
          8.05,
          14.4583,
          78.2667,
          15.1,
          151.55,
          7.7958,
          8.6625,
          7.75,
          7.6292,
          9.5875,
          86.5,
          108.9,
          26,
          26.55,
          22.525,
          56.4958,
          7.75,
          8.05,
          26.2875,
          59.4,
          7.4958,
          34.0208,
          10.5,
          24.15,
          26,
          7.8958,
          93.5,
          7.8958,
          7.225,
          57.9792,
          7.2292,
          7.75,
          10.5,
          221.7792,
          7.925,
          11.5,
          26,
          7.2292,
          7.2292,
          22.3583,
          8.6625,
          26.25,
          26.55,
          106.425,
          14.5,
          49.5,
          71,
          31.275,
          31.275,
          26,
          106.425,
          26,
          26,
          13.8625,
          20.525,
          36.75,
          110.8833,
          26,
          7.8292,
          7.225,
          7.775,
          26.55,
          39.6,
          227.525,
          79.65,
          17.4,
          7.75,
          7.8958,
          13.5,
          8.05,
          8.05,
          24.15,
          7.8958,
          21.075,
          7.2292,
          7.8542,
          10.5,
          51.4792,
          26.3875,
          7.75,
          8.05,
          14.5,
          13,
          55.9,
          14.4583,
          7.925,
          30,
          110.8833,
          26,
          40.125,
          8.7125,
          79.65,
          15,
          79.2,
          8.05,
          8.05,
          7.125,
          78.2667,
          7.25,
          7.75,
          26,
          24.15,
          33,
          0,
          7.225,
          56.9292,
          27,
          7.8958,
          42.4,
          8.05,
          26.55,
          15.55,
          7.8958,
          30.5,
          41.5792,
          153.4625,
          31.275,
          7.05,
          15.5,
          7.75,
          8.05,
          65,
          14.4,
          16.1,
          39,
          10.5,
          14.4542,
          52.5542,
          15.7417,
          7.8542,
          16.1,
          32.3208,
          12.35,
          77.9583,
          7.8958,
          7.7333,
          30,
          7.0542,
          30.5,
          0,
          27.9,
          13,
          7.925,
          26.25,
          39.6875,
          16.1,
          7.8542,
          69.3,
          27.9,
          56.4958,
          19.2583,
          76.7292,
          7.8958,
          35.5,
          7.55,
          7.55,
          7.8958,
          23,
          8.4333,
          7.8292,
          6.75,
          73.5,
          7.8958,
          15.5,
          13,
          113.275,
          133.65,
          7.225,
          25.5875,
          7.4958,
          7.925,
          73.5,
          13,
          7.775,
          8.05,
          52,
          39,
          52,
          10.5,
          13,
          0,
          7.775,
          8.05,
          9.8417,
          46.9,
          512.3292,
          8.1375,
          76.7292,
          9.225,
          46.9,
          39,
          41.5792,
          39.6875,
          10.1708,
          7.7958,
          211.3375,
          57,
          13.4167,
          56.4958,
          7.225,
          26.55,
          13.5,
          8.05,
          7.7333,
          110.8833,
          7.65,
          227.525,
          26.2875,
          14.4542,
          7.7417,
          7.8542,
          26,
          13.5,
          26.2875,
          151.55,
          15.2458,
          49.5042,
          26.55,
          52,
          9.4833,
          13,
          7.65,
          227.525,
          10.5,
          15.5,
          7.775,
          33,
          7.0542,
          13,
          13,
          53.1,
          8.6625,
          21,
          7.7375,
          26,
          7.925,
          211.3375,
          18.7875,
          0,
          13,
          13,
          16.1,
          34.375,
          512.3292,
          7.8958,
          7.8958,
          30,
          78.85,
          262.375,
          16.1,
          7.925,
          71,
          20.25,
          13,
          53.1,
          7.75,
          23,
          12.475,
          9.5,
          7.8958,
          65,
          14.5,
          7.7958,
          11.5,
          8.05,
          86.5,
          14.5,
          7.125,
          7.2292,
          120,
          7.775,
          77.9583,
          39.6,
          7.75,
          24.15,
          8.3625,
          9.5,
          7.8542,
          10.5,
          7.225,
          23,
          7.75,
          7.75,
          12.475,
          7.7375,
          211.3375,
          7.2292,
          57,
          30,
          23.45,
          7.05,
          7.25,
          7.4958,
          29.125,
          20.575,
          79.2,
          7.75,
          26,
          69.55,
          30.6958,
          7.8958,
          13,
          25.9292,
          8.6833,
          7.2292,
          24.15,
          13,
          26.25,
          120,
          8.5167,
          6.975,
          7.775,
          0,
          7.775,
          13,
          53.1,
          7.8875,
          24.15,
          10.5,
          31.275,
          8.05,
          0,
          7.925,
          37.0042,
          6.45,
          27.9,
          93.5,
          8.6625,
          0,
          12.475,
          39.6875,
          6.95,
          56.4958,
          37.0042,
          7.75,
          80,
          14.4542,
          18.75,
          7.2292,
          7.8542,
          8.3,
          83.1583,
          8.6625,
          8.05,
          56.4958,
          29.7,
          7.925,
          10.5,
          31,
          6.4375,
          8.6625,
          7.55,
          69.55,
          7.8958,
          33,
          89.1042,
          31.275,
          7.775,
          15.2458,
          39.4,
          26,
          9.35,
          164.8667,
          26.55,
          19.2583,
          7.2292,
          14.1083,
          11.5,
          25.9292,
          69.55,
          13,
          13,
          13.8583,
          50.4958,
          9.5,
          11.1333,
          7.8958,
          52.5542,
          5,
          9,
          24,
          7.225,
          9.8458,
          7.8958,
          7.8958,
          83.1583,
          26,
          7.8958,
          10.5167,
          10.5,
          7.05,
          29.125,
          13,
          30,
          23.45,
          30,
          7.75
         ],
         "xaxis": "x",
         "yaxis": "y"
        }
       ],
       "layout": {
        "autosize": true,
        "barmode": "relative",
        "legend": {
         "tracegroupgap": 0
        },
        "margin": {
         "t": 60
        },
        "template": {
         "data": {
          "bar": [
           {
            "error_x": {
             "color": "#2a3f5f"
            },
            "error_y": {
             "color": "#2a3f5f"
            },
            "marker": {
             "line": {
              "color": "#E5ECF6",
              "width": 0.5
             },
             "pattern": {
              "fillmode": "overlay",
              "size": 10,
              "solidity": 0.2
             }
            },
            "type": "bar"
           }
          ],
          "barpolar": [
           {
            "marker": {
             "line": {
              "color": "#E5ECF6",
              "width": 0.5
             },
             "pattern": {
              "fillmode": "overlay",
              "size": 10,
              "solidity": 0.2
             }
            },
            "type": "barpolar"
           }
          ],
          "carpet": [
           {
            "aaxis": {
             "endlinecolor": "#2a3f5f",
             "gridcolor": "white",
             "linecolor": "white",
             "minorgridcolor": "white",
             "startlinecolor": "#2a3f5f"
            },
            "baxis": {
             "endlinecolor": "#2a3f5f",
             "gridcolor": "white",
             "linecolor": "white",
             "minorgridcolor": "white",
             "startlinecolor": "#2a3f5f"
            },
            "type": "carpet"
           }
          ],
          "choropleth": [
           {
            "colorbar": {
             "outlinewidth": 0,
             "ticks": ""
            },
            "type": "choropleth"
           }
          ],
          "contour": [
           {
            "colorbar": {
             "outlinewidth": 0,
             "ticks": ""
            },
            "colorscale": [
             [
              0,
              "#0d0887"
             ],
             [
              0.1111111111111111,
              "#46039f"
             ],
             [
              0.2222222222222222,
              "#7201a8"
             ],
             [
              0.3333333333333333,
              "#9c179e"
             ],
             [
              0.4444444444444444,
              "#bd3786"
             ],
             [
              0.5555555555555556,
              "#d8576b"
             ],
             [
              0.6666666666666666,
              "#ed7953"
             ],
             [
              0.7777777777777778,
              "#fb9f3a"
             ],
             [
              0.8888888888888888,
              "#fdca26"
             ],
             [
              1,
              "#f0f921"
             ]
            ],
            "type": "contour"
           }
          ],
          "contourcarpet": [
           {
            "colorbar": {
             "outlinewidth": 0,
             "ticks": ""
            },
            "type": "contourcarpet"
           }
          ],
          "heatmap": [
           {
            "colorbar": {
             "outlinewidth": 0,
             "ticks": ""
            },
            "colorscale": [
             [
              0,
              "#0d0887"
             ],
             [
              0.1111111111111111,
              "#46039f"
             ],
             [
              0.2222222222222222,
              "#7201a8"
             ],
             [
              0.3333333333333333,
              "#9c179e"
             ],
             [
              0.4444444444444444,
              "#bd3786"
             ],
             [
              0.5555555555555556,
              "#d8576b"
             ],
             [
              0.6666666666666666,
              "#ed7953"
             ],
             [
              0.7777777777777778,
              "#fb9f3a"
             ],
             [
              0.8888888888888888,
              "#fdca26"
             ],
             [
              1,
              "#f0f921"
             ]
            ],
            "type": "heatmap"
           }
          ],
          "heatmapgl": [
           {
            "colorbar": {
             "outlinewidth": 0,
             "ticks": ""
            },
            "colorscale": [
             [
              0,
              "#0d0887"
             ],
             [
              0.1111111111111111,
              "#46039f"
             ],
             [
              0.2222222222222222,
              "#7201a8"
             ],
             [
              0.3333333333333333,
              "#9c179e"
             ],
             [
              0.4444444444444444,
              "#bd3786"
             ],
             [
              0.5555555555555556,
              "#d8576b"
             ],
             [
              0.6666666666666666,
              "#ed7953"
             ],
             [
              0.7777777777777778,
              "#fb9f3a"
             ],
             [
              0.8888888888888888,
              "#fdca26"
             ],
             [
              1,
              "#f0f921"
             ]
            ],
            "type": "heatmapgl"
           }
          ],
          "histogram": [
           {
            "marker": {
             "pattern": {
              "fillmode": "overlay",
              "size": 10,
              "solidity": 0.2
             }
            },
            "type": "histogram"
           }
          ],
          "histogram2d": [
           {
            "colorbar": {
             "outlinewidth": 0,
             "ticks": ""
            },
            "colorscale": [
             [
              0,
              "#0d0887"
             ],
             [
              0.1111111111111111,
              "#46039f"
             ],
             [
              0.2222222222222222,
              "#7201a8"
             ],
             [
              0.3333333333333333,
              "#9c179e"
             ],
             [
              0.4444444444444444,
              "#bd3786"
             ],
             [
              0.5555555555555556,
              "#d8576b"
             ],
             [
              0.6666666666666666,
              "#ed7953"
             ],
             [
              0.7777777777777778,
              "#fb9f3a"
             ],
             [
              0.8888888888888888,
              "#fdca26"
             ],
             [
              1,
              "#f0f921"
             ]
            ],
            "type": "histogram2d"
           }
          ],
          "histogram2dcontour": [
           {
            "colorbar": {
             "outlinewidth": 0,
             "ticks": ""
            },
            "colorscale": [
             [
              0,
              "#0d0887"
             ],
             [
              0.1111111111111111,
              "#46039f"
             ],
             [
              0.2222222222222222,
              "#7201a8"
             ],
             [
              0.3333333333333333,
              "#9c179e"
             ],
             [
              0.4444444444444444,
              "#bd3786"
             ],
             [
              0.5555555555555556,
              "#d8576b"
             ],
             [
              0.6666666666666666,
              "#ed7953"
             ],
             [
              0.7777777777777778,
              "#fb9f3a"
             ],
             [
              0.8888888888888888,
              "#fdca26"
             ],
             [
              1,
              "#f0f921"
             ]
            ],
            "type": "histogram2dcontour"
           }
          ],
          "mesh3d": [
           {
            "colorbar": {
             "outlinewidth": 0,
             "ticks": ""
            },
            "type": "mesh3d"
           }
          ],
          "parcoords": [
           {
            "line": {
             "colorbar": {
              "outlinewidth": 0,
              "ticks": ""
             }
            },
            "type": "parcoords"
           }
          ],
          "pie": [
           {
            "automargin": true,
            "type": "pie"
           }
          ],
          "scatter": [
           {
            "marker": {
             "colorbar": {
              "outlinewidth": 0,
              "ticks": ""
             }
            },
            "type": "scatter"
           }
          ],
          "scatter3d": [
           {
            "line": {
             "colorbar": {
              "outlinewidth": 0,
              "ticks": ""
             }
            },
            "marker": {
             "colorbar": {
              "outlinewidth": 0,
              "ticks": ""
             }
            },
            "type": "scatter3d"
           }
          ],
          "scattercarpet": [
           {
            "marker": {
             "colorbar": {
              "outlinewidth": 0,
              "ticks": ""
             }
            },
            "type": "scattercarpet"
           }
          ],
          "scattergeo": [
           {
            "marker": {
             "colorbar": {
              "outlinewidth": 0,
              "ticks": ""
             }
            },
            "type": "scattergeo"
           }
          ],
          "scattergl": [
           {
            "marker": {
             "colorbar": {
              "outlinewidth": 0,
              "ticks": ""
             }
            },
            "type": "scattergl"
           }
          ],
          "scattermapbox": [
           {
            "marker": {
             "colorbar": {
              "outlinewidth": 0,
              "ticks": ""
             }
            },
            "type": "scattermapbox"
           }
          ],
          "scatterpolar": [
           {
            "marker": {
             "colorbar": {
              "outlinewidth": 0,
              "ticks": ""
             }
            },
            "type": "scatterpolar"
           }
          ],
          "scatterpolargl": [
           {
            "marker": {
             "colorbar": {
              "outlinewidth": 0,
              "ticks": ""
             }
            },
            "type": "scatterpolargl"
           }
          ],
          "scatterternary": [
           {
            "marker": {
             "colorbar": {
              "outlinewidth": 0,
              "ticks": ""
             }
            },
            "type": "scatterternary"
           }
          ],
          "surface": [
           {
            "colorbar": {
             "outlinewidth": 0,
             "ticks": ""
            },
            "colorscale": [
             [
              0,
              "#0d0887"
             ],
             [
              0.1111111111111111,
              "#46039f"
             ],
             [
              0.2222222222222222,
              "#7201a8"
             ],
             [
              0.3333333333333333,
              "#9c179e"
             ],
             [
              0.4444444444444444,
              "#bd3786"
             ],
             [
              0.5555555555555556,
              "#d8576b"
             ],
             [
              0.6666666666666666,
              "#ed7953"
             ],
             [
              0.7777777777777778,
              "#fb9f3a"
             ],
             [
              0.8888888888888888,
              "#fdca26"
             ],
             [
              1,
              "#f0f921"
             ]
            ],
            "type": "surface"
           }
          ],
          "table": [
           {
            "cells": {
             "fill": {
              "color": "#EBF0F8"
             },
             "line": {
              "color": "white"
             }
            },
            "header": {
             "fill": {
              "color": "#C8D4E3"
             },
             "line": {
              "color": "white"
             }
            },
            "type": "table"
           }
          ]
         },
         "layout": {
          "annotationdefaults": {
           "arrowcolor": "#2a3f5f",
           "arrowhead": 0,
           "arrowwidth": 1
          },
          "autotypenumbers": "strict",
          "coloraxis": {
           "colorbar": {
            "outlinewidth": 0,
            "ticks": ""
           }
          },
          "colorscale": {
           "diverging": [
            [
             0,
             "#8e0152"
            ],
            [
             0.1,
             "#c51b7d"
            ],
            [
             0.2,
             "#de77ae"
            ],
            [
             0.3,
             "#f1b6da"
            ],
            [
             0.4,
             "#fde0ef"
            ],
            [
             0.5,
             "#f7f7f7"
            ],
            [
             0.6,
             "#e6f5d0"
            ],
            [
             0.7,
             "#b8e186"
            ],
            [
             0.8,
             "#7fbc41"
            ],
            [
             0.9,
             "#4d9221"
            ],
            [
             1,
             "#276419"
            ]
           ],
           "sequential": [
            [
             0,
             "#0d0887"
            ],
            [
             0.1111111111111111,
             "#46039f"
            ],
            [
             0.2222222222222222,
             "#7201a8"
            ],
            [
             0.3333333333333333,
             "#9c179e"
            ],
            [
             0.4444444444444444,
             "#bd3786"
            ],
            [
             0.5555555555555556,
             "#d8576b"
            ],
            [
             0.6666666666666666,
             "#ed7953"
            ],
            [
             0.7777777777777778,
             "#fb9f3a"
            ],
            [
             0.8888888888888888,
             "#fdca26"
            ],
            [
             1,
             "#f0f921"
            ]
           ],
           "sequentialminus": [
            [
             0,
             "#0d0887"
            ],
            [
             0.1111111111111111,
             "#46039f"
            ],
            [
             0.2222222222222222,
             "#7201a8"
            ],
            [
             0.3333333333333333,
             "#9c179e"
            ],
            [
             0.4444444444444444,
             "#bd3786"
            ],
            [
             0.5555555555555556,
             "#d8576b"
            ],
            [
             0.6666666666666666,
             "#ed7953"
            ],
            [
             0.7777777777777778,
             "#fb9f3a"
            ],
            [
             0.8888888888888888,
             "#fdca26"
            ],
            [
             1,
             "#f0f921"
            ]
           ]
          },
          "colorway": [
           "#636efa",
           "#EF553B",
           "#00cc96",
           "#ab63fa",
           "#FFA15A",
           "#19d3f3",
           "#FF6692",
           "#B6E880",
           "#FF97FF",
           "#FECB52"
          ],
          "font": {
           "color": "#2a3f5f"
          },
          "geo": {
           "bgcolor": "white",
           "lakecolor": "white",
           "landcolor": "#E5ECF6",
           "showlakes": true,
           "showland": true,
           "subunitcolor": "white"
          },
          "hoverlabel": {
           "align": "left"
          },
          "hovermode": "closest",
          "mapbox": {
           "style": "light"
          },
          "paper_bgcolor": "white",
          "plot_bgcolor": "#E5ECF6",
          "polar": {
           "angularaxis": {
            "gridcolor": "white",
            "linecolor": "white",
            "ticks": ""
           },
           "bgcolor": "#E5ECF6",
           "radialaxis": {
            "gridcolor": "white",
            "linecolor": "white",
            "ticks": ""
           }
          },
          "scene": {
           "xaxis": {
            "backgroundcolor": "#E5ECF6",
            "gridcolor": "white",
            "gridwidth": 2,
            "linecolor": "white",
            "showbackground": true,
            "ticks": "",
            "zerolinecolor": "white"
           },
           "yaxis": {
            "backgroundcolor": "#E5ECF6",
            "gridcolor": "white",
            "gridwidth": 2,
            "linecolor": "white",
            "showbackground": true,
            "ticks": "",
            "zerolinecolor": "white"
           },
           "zaxis": {
            "backgroundcolor": "#E5ECF6",
            "gridcolor": "white",
            "gridwidth": 2,
            "linecolor": "white",
            "showbackground": true,
            "ticks": "",
            "zerolinecolor": "white"
           }
          },
          "shapedefaults": {
           "line": {
            "color": "#2a3f5f"
           }
          },
          "ternary": {
           "aaxis": {
            "gridcolor": "white",
            "linecolor": "white",
            "ticks": ""
           },
           "baxis": {
            "gridcolor": "white",
            "linecolor": "white",
            "ticks": ""
           },
           "bgcolor": "#E5ECF6",
           "caxis": {
            "gridcolor": "white",
            "linecolor": "white",
            "ticks": ""
           }
          },
          "title": {
           "x": 0.05
          },
          "xaxis": {
           "automargin": true,
           "gridcolor": "white",
           "linecolor": "white",
           "ticks": "",
           "title": {
            "standoff": 15
           },
           "zerolinecolor": "white",
           "zerolinewidth": 2
          },
          "yaxis": {
           "automargin": true,
           "gridcolor": "white",
           "linecolor": "white",
           "ticks": "",
           "title": {
            "standoff": 15
           },
           "zerolinecolor": "white",
           "zerolinewidth": 2
          }
         }
        },
        "xaxis": {
         "anchor": "y",
         "autorange": true,
         "domain": [
          0,
          1
         ],
         "range": [
          -5,
          515
         ],
         "title": {
          "text": "Fare"
         },
         "type": "linear"
        },
        "yaxis": {
         "anchor": "x",
         "autorange": true,
         "domain": [
          0,
          1
         ],
         "range": [
          0,
          464.2105263157895
         ],
         "title": {
          "text": "count"
         }
        }
       }
      },
      "image/png": "[encoded data removed]",
      "text/html": [
       "<div>                            <div id=\"48abbdc0-59fd-48ef-8977-d7175fb4f894\" class=\"plotly-graph-div\" style=\"height:525px; width:100%;\"></div>            <script type=\"text/javascript\">                require([\"plotly\"], function(Plotly) {                    window.PLOTLYENV=window.PLOTLYENV || {};                                    if (document.getElementById(\"48abbdc0-59fd-48ef-8977-d7175fb4f894\")) {                    Plotly.newPlot(                        \"48abbdc0-59fd-48ef-8977-d7175fb4f894\",                        [{\"alignmentgroup\":\"True\",\"bingroup\":\"x\",\"hovertemplate\":\"Fare=%{x}<br>count=%{y}<extra></extra>\",\"legendgroup\":\"\",\"marker\":{\"color\":\"#636efa\",\"pattern\":{\"shape\":\"\"}},\"name\":\"\",\"offsetgroup\":\"\",\"orientation\":\"v\",\"showlegend\":false,\"type\":\"histogram\",\"x\":[7.25,71.2833,7.925,53.1,8.05,8.4583,51.8625,21.075,11.1333,30.0708,16.7,26.55,8.05,31.275,7.8542,16.0,29.125,13.0,18.0,7.225,26.0,13.0,8.0292,35.5,21.075,31.3875,7.225,263.0,7.8792,7.8958,27.7208,146.5208,7.75,10.5,82.1708,52.0,7.2292,8.05,18.0,11.2417,9.475,21.0,7.8958,41.5792,7.8792,8.05,15.5,7.75,21.6792,17.8,39.6875,7.8,76.7292,26.0,61.9792,35.5,10.5,7.2292,27.75,46.9,7.2292,80.0,83.475,27.9,27.7208,15.2458,10.5,8.1583,7.925,8.6625,10.5,46.9,73.5,14.4542,56.4958,7.65,7.8958,8.05,29.0,12.475,9.0,9.5,7.7875,47.1,10.5,15.85,34.375,8.05,263.0,8.05,8.05,7.8542,61.175,20.575,7.25,8.05,34.6542,63.3583,23.0,26.0,7.8958,7.8958,77.2875,8.6542,7.925,7.8958,7.65,7.775,7.8958,24.15,52.0,14.4542,8.05,9.825,14.4583,7.925,7.75,21.0,247.5208,31.275,73.5,8.05,30.0708,13.0,77.2875,11.2417,7.75,7.1417,22.3583,6.975,7.8958,7.05,14.5,26.0,13.0,15.0458,26.2833,53.1,9.2167,79.2,15.2458,7.75,15.85,6.75,11.5,36.75,7.7958,34.375,26.0,13.0,12.525,66.6,8.05,14.5,7.3125,61.3792,7.7333,8.05,8.6625,69.55,16.1,15.75,7.775,8.6625,39.6875,20.525,55.0,27.9,25.925,56.4958,33.5,29.125,11.1333,7.925,30.6958,7.8542,25.4667,28.7125,13.0,0.0,69.55,15.05,31.3875,39.0,22.025,50.0,15.5,26.55,15.5,7.8958,13.0,13.0,7.8542,26.0,27.7208,146.5208,7.75,8.4042,7.75,13.0,9.5,69.55,6.4958,7.225,8.05,10.4625,15.85,18.7875,7.75,31.0,7.05,21.0,7.25,13.0,7.75,113.275,7.925,27.0,76.2917,10.5,8.05,13.0,8.05,7.8958,90.0,9.35,10.5,7.25,13.0,25.4667,83.475,7.775,13.5,31.3875,10.5,7.55,26.0,26.25,10.5,12.275,14.4542,15.5,10.5,7.125,7.225,90.0,7.775,14.5,52.5542,26.0,7.25,10.4625,26.55,16.1,20.2125,15.2458,79.2,86.5,512.3292,26.0,7.75,31.3875,79.65,0.0,7.75,10.5,39.6875,7.775,153.4625,135.6333,31.0,0.0,19.5,29.7,7.75,77.9583,7.75,0.0,29.125,20.25,7.75,7.8542,9.5,8.05,26.0,8.6625,9.5,7.8958,13.0,7.75,78.85,91.0792,12.875,8.85,7.8958,27.7208,7.2292,151.55,30.5,247.5208,7.75,23.25,0.0,12.35,8.05,151.55,110.8833,108.9,24.0,56.9292,83.1583,262.375,26.0,7.8958,26.25,7.8542,26.0,14.0,164.8667,134.5,7.25,7.8958,12.35,29.0,69.55,135.6333,6.2375,13.0,20.525,57.9792,23.25,28.5,153.4625,18.0,133.65,7.8958,66.6,134.5,8.05,35.5,26.0,263.0,13.0,13.0,13.0,13.0,13.0,16.1,15.9,8.6625,9.225,35.0,7.2292,17.8,7.225,9.5,55.0,13.0,7.8792,7.8792,27.9,27.7208,14.4542,7.05,15.5,7.25,75.25,7.2292,7.75,69.3,55.4417,6.4958,8.05,135.6333,21.075,82.1708,7.25,211.5,4.0125,7.775,227.525,15.7417,7.925,52.0,7.8958,73.5,46.9,13.0,7.7292,12.0,120.0,7.7958,7.925,113.275,16.7,7.7958,7.8542,26.0,10.5,12.65,7.925,8.05,9.825,15.85,8.6625,21.0,7.75,18.75,7.775,25.4667,7.8958,6.8583,90.0,0.0,7.925,8.05,32.5,13.0,13.0,24.15,7.8958,7.7333,7.875,14.4,20.2125,7.25,26.0,26.0,7.75,8.05,26.55,16.1,26.0,7.125,55.9,120.0,34.375,18.75,263.0,10.5,26.25,9.5,7.775,13.0,8.1125,81.8583,19.5,26.55,19.2583,30.5,27.75,19.9667,27.75,89.1042,8.05,7.8958,26.55,51.8625,10.5,7.75,26.55,8.05,38.5,13.0,8.05,7.05,0.0,26.55,7.725,19.2583,7.25,8.6625,27.75,13.7917,9.8375,52.0,21.0,7.0458,7.5208,12.2875,46.9,0.0,8.05,9.5875,91.0792,25.4667,90.0,29.7,8.05,15.9,19.9667,7.25,30.5,49.5042,8.05,14.4583,78.2667,15.1,151.55,7.7958,8.6625,7.75,7.6292,9.5875,86.5,108.9,26.0,26.55,22.525,56.4958,7.75,8.05,26.2875,59.4,7.4958,34.0208,10.5,24.15,26.0,7.8958,93.5,7.8958,7.225,57.9792,7.2292,7.75,10.5,221.7792,7.925,11.5,26.0,7.2292,7.2292,22.3583,8.6625,26.25,26.55,106.425,14.5,49.5,71.0,31.275,31.275,26.0,106.425,26.0,26.0,13.8625,20.525,36.75,110.8833,26.0,7.8292,7.225,7.775,26.55,39.6,227.525,79.65,17.4,7.75,7.8958,13.5,8.05,8.05,24.15,7.8958,21.075,7.2292,7.8542,10.5,51.4792,26.3875,7.75,8.05,14.5,13.0,55.9,14.4583,7.925,30.0,110.8833,26.0,40.125,8.7125,79.65,15.0,79.2,8.05,8.05,7.125,78.2667,7.25,7.75,26.0,24.15,33.0,0.0,7.225,56.9292,27.0,7.8958,42.4,8.05,26.55,15.55,7.8958,30.5,41.5792,153.4625,31.275,7.05,15.5,7.75,8.05,65.0,14.4,16.1,39.0,10.5,14.4542,52.5542,15.7417,7.8542,16.1,32.3208,12.35,77.9583,7.8958,7.7333,30.0,7.0542,30.5,0.0,27.9,13.0,7.925,26.25,39.6875,16.1,7.8542,69.3,27.9,56.4958,19.2583,76.7292,7.8958,35.5,7.55,7.55,7.8958,23.0,8.4333,7.8292,6.75,73.5,7.8958,15.5,13.0,113.275,133.65,7.225,25.5875,7.4958,7.925,73.5,13.0,7.775,8.05,52.0,39.0,52.0,10.5,13.0,0.0,7.775,8.05,9.8417,46.9,512.3292,8.1375,76.7292,9.225,46.9,39.0,41.5792,39.6875,10.1708,7.7958,211.3375,57.0,13.4167,56.4958,7.225,26.55,13.5,8.05,7.7333,110.8833,7.65,227.525,26.2875,14.4542,7.7417,7.8542,26.0,13.5,26.2875,151.55,15.2458,49.5042,26.55,52.0,9.4833,13.0,7.65,227.525,10.5,15.5,7.775,33.0,7.0542,13.0,13.0,53.1,8.6625,21.0,7.7375,26.0,7.925,211.3375,18.7875,0.0,13.0,13.0,16.1,34.375,512.3292,7.8958,7.8958,30.0,78.85,262.375,16.1,7.925,71.0,20.25,13.0,53.1,7.75,23.0,12.475,9.5,7.8958,65.0,14.5,7.7958,11.5,8.05,86.5,14.5,7.125,7.2292,120.0,7.775,77.9583,39.6,7.75,24.15,8.3625,9.5,7.8542,10.5,7.225,23.0,7.75,7.75,12.475,7.7375,211.3375,7.2292,57.0,30.0,23.45,7.05,7.25,7.4958,29.125,20.575,79.2,7.75,26.0,69.55,30.6958,7.8958,13.0,25.9292,8.6833,7.2292,24.15,13.0,26.25,120.0,8.5167,6.975,7.775,0.0,7.775,13.0,53.1,7.8875,24.15,10.5,31.275,8.05,0.0,7.925,37.0042,6.45,27.9,93.5,8.6625,0.0,12.475,39.6875,6.95,56.4958,37.0042,7.75,80.0,14.4542,18.75,7.2292,7.8542,8.3,83.1583,8.6625,8.05,56.4958,29.7,7.925,10.5,31.0,6.4375,8.6625,7.55,69.55,7.8958,33.0,89.1042,31.275,7.775,15.2458,39.4,26.0,9.35,164.8667,26.55,19.2583,7.2292,14.1083,11.5,25.9292,69.55,13.0,13.0,13.8583,50.4958,9.5,11.1333,7.8958,52.5542,5.0,9.0,24.0,7.225,9.8458,7.8958,7.8958,83.1583,26.0,7.8958,10.5167,10.5,7.05,29.125,13.0,30.0,23.45,30.0,7.75],\"xaxis\":\"x\",\"yaxis\":\"y\"}],                        {\"barmode\":\"relative\",\"legend\":{\"tracegroupgap\":0},\"margin\":{\"t\":60},\"template\":{\"data\":{\"bar\":[{\"error_x\":{\"color\":\"#2a3f5f\"},\"error_y\":{\"color\":\"#2a3f5f\"},\"marker\":{\"line\":{\"color\":\"#E5ECF6\",\"width\":0.5},\"pattern\":{\"fillmode\":\"overlay\",\"size\":10,\"solidity\":0.2}},\"type\":\"bar\"}],\"barpolar\":[{\"marker\":{\"line\":{\"color\":\"#E5ECF6\",\"width\":0.5},\"pattern\":{\"fillmode\":\"overlay\",\"size\":10,\"solidity\":0.2}},\"type\":\"barpolar\"}],\"carpet\":[{\"aaxis\":{\"endlinecolor\":\"#2a3f5f\",\"gridcolor\":\"white\",\"linecolor\":\"white\",\"minorgridcolor\":\"white\",\"startlinecolor\":\"#2a3f5f\"},\"baxis\":{\"endlinecolor\":\"#2a3f5f\",\"gridcolor\":\"white\",\"linecolor\":\"white\",\"minorgridcolor\":\"white\",\"startlinecolor\":\"#2a3f5f\"},\"type\":\"carpet\"}],\"choropleth\":[{\"colorbar\":{\"outlinewidth\":0,\"ticks\":\"\"},\"type\":\"choropleth\"}],\"contour\":[{\"colorbar\":{\"outlinewidth\":0,\"ticks\":\"\"},\"colorscale\":[[0.0,\"#0d0887\"],[0.1111111111111111,\"#46039f\"],[0.2222222222222222,\"#7201a8\"],[0.3333333333333333,\"#9c179e\"],[0.4444444444444444,\"#bd3786\"],[0.5555555555555556,\"#d8576b\"],[0.6666666666666666,\"#ed7953\"],[0.7777777777777778,\"#fb9f3a\"],[0.8888888888888888,\"#fdca26\"],[1.0,\"#f0f921\"]],\"type\":\"contour\"}],\"contourcarpet\":[{\"colorbar\":{\"outlinewidth\":0,\"ticks\":\"\"},\"type\":\"contourcarpet\"}],\"heatmap\":[{\"colorbar\":{\"outlinewidth\":0,\"ticks\":\"\"},\"colorscale\":[[0.0,\"#0d0887\"],[0.1111111111111111,\"#46039f\"],[0.2222222222222222,\"#7201a8\"],[0.3333333333333333,\"#9c179e\"],[0.4444444444444444,\"#bd3786\"],[0.5555555555555556,\"#d8576b\"],[0.6666666666666666,\"#ed7953\"],[0.7777777777777778,\"#fb9f3a\"],[0.8888888888888888,\"#fdca26\"],[1.0,\"#f0f921\"]],\"type\":\"heatmap\"}],\"heatmapgl\":[{\"colorbar\":{\"outlinewidth\":0,\"ticks\":\"\"},\"colorscale\":[[0.0,\"#0d0887\"],[0.1111111111111111,\"#46039f\"],[0.2222222222222222,\"#7201a8\"],[0.3333333333333333,\"#9c179e\"],[0.4444444444444444,\"#bd3786\"],[0.5555555555555556,\"#d8576b\"],[0.6666666666666666,\"#ed7953\"],[0.7777777777777778,\"#fb9f3a\"],[0.8888888888888888,\"#fdca26\"],[1.0,\"#f0f921\"]],\"type\":\"heatmapgl\"}],\"histogram\":[{\"marker\":{\"pattern\":{\"fillmode\":\"overlay\",\"size\":10,\"solidity\":0.2}},\"type\":\"histogram\"}],\"histogram2d\":[{\"colorbar\":{\"outlinewidth\":0,\"ticks\":\"\"},\"colorscale\":[[0.0,\"#0d0887\"],[0.1111111111111111,\"#46039f\"],[0.2222222222222222,\"#7201a8\"],[0.3333333333333333,\"#9c179e\"],[0.4444444444444444,\"#bd3786\"],[0.5555555555555556,\"#d8576b\"],[0.6666666666666666,\"#ed7953\"],[0.7777777777777778,\"#fb9f3a\"],[0.8888888888888888,\"#fdca26\"],[1.0,\"#f0f921\"]],\"type\":\"histogram2d\"}],\"histogram2dcontour\":[{\"colorbar\":{\"outlinewidth\":0,\"ticks\":\"\"},\"colorscale\":[[0.0,\"#0d0887\"],[0.1111111111111111,\"#46039f\"],[0.2222222222222222,\"#7201a8\"],[0.3333333333333333,\"#9c179e\"],[0.4444444444444444,\"#bd3786\"],[0.5555555555555556,\"#d8576b\"],[0.6666666666666666,\"#ed7953\"],[0.7777777777777778,\"#fb9f3a\"],[0.8888888888888888,\"#fdca26\"],[1.0,\"#f0f921\"]],\"type\":\"histogram2dcontour\"}],\"mesh3d\":[{\"colorbar\":{\"outlinewidth\":0,\"ticks\":\"\"},\"type\":\"mesh3d\"}],\"parcoords\":[{\"line\":{\"colorbar\":{\"outlinewidth\":0,\"ticks\":\"\"}},\"type\":\"parcoords\"}],\"pie\":[{\"automargin\":true,\"type\":\"pie\"}],\"scatter\":[{\"marker\":{\"colorbar\":{\"outlinewidth\":0,\"ticks\":\"\"}},\"type\":\"scatter\"}],\"scatter3d\":[{\"line\":{\"colorbar\":{\"outlinewidth\":0,\"ticks\":\"\"}},\"marker\":{\"colorbar\":{\"outlinewidth\":0,\"ticks\":\"\"}},\"type\":\"scatter3d\"}],\"scattercarpet\":[{\"marker\":{\"colorbar\":{\"outlinewidth\":0,\"ticks\":\"\"}},\"type\":\"scattercarpet\"}],\"scattergeo\":[{\"marker\":{\"colorbar\":{\"outlinewidth\":0,\"ticks\":\"\"}},\"type\":\"scattergeo\"}],\"scattergl\":[{\"marker\":{\"colorbar\":{\"outlinewidth\":0,\"ticks\":\"\"}},\"type\":\"scattergl\"}],\"scattermapbox\":[{\"marker\":{\"colorbar\":{\"outlinewidth\":0,\"ticks\":\"\"}},\"type\":\"scattermapbox\"}],\"scatterpolar\":[{\"marker\":{\"colorbar\":{\"outlinewidth\":0,\"ticks\":\"\"}},\"type\":\"scatterpolar\"}],\"scatterpolargl\":[{\"marker\":{\"colorbar\":{\"outlinewidth\":0,\"ticks\":\"\"}},\"type\":\"scatterpolargl\"}],\"scatterternary\":[{\"marker\":{\"colorbar\":{\"outlinewidth\":0,\"ticks\":\"\"}},\"type\":\"scatterternary\"}],\"surface\":[{\"colorbar\":{\"outlinewidth\":0,\"ticks\":\"\"},\"colorscale\":[[0.0,\"#0d0887\"],[0.1111111111111111,\"#46039f\"],[0.2222222222222222,\"#7201a8\"],[0.3333333333333333,\"#9c179e\"],[0.4444444444444444,\"#bd3786\"],[0.5555555555555556,\"#d8576b\"],[0.6666666666666666,\"#ed7953\"],[0.7777777777777778,\"#fb9f3a\"],[0.8888888888888888,\"#fdca26\"],[1.0,\"#f0f921\"]],\"type\":\"surface\"}],\"table\":[{\"cells\":{\"fill\":{\"color\":\"#EBF0F8\"},\"line\":{\"color\":\"white\"}},\"header\":{\"fill\":{\"color\":\"#C8D4E3\"},\"line\":{\"color\":\"white\"}},\"type\":\"table\"}]},\"layout\":{\"annotationdefaults\":{\"arrowcolor\":\"#2a3f5f\",\"arrowhead\":0,\"arrowwidth\":1},\"autotypenumbers\":\"strict\",\"coloraxis\":{\"colorbar\":{\"outlinewidth\":0,\"ticks\":\"\"}},\"colorscale\":{\"diverging\":[[0,\"#8e0152\"],[0.1,\"#c51b7d\"],[0.2,\"#de77ae\"],[0.3,\"#f1b6da\"],[0.4,\"#fde0ef\"],[0.5,\"#f7f7f7\"],[0.6,\"#e6f5d0\"],[0.7,\"#b8e186\"],[0.8,\"#7fbc41\"],[0.9,\"#4d9221\"],[1,\"#276419\"]],\"sequential\":[[0.0,\"#0d0887\"],[0.1111111111111111,\"#46039f\"],[0.2222222222222222,\"#7201a8\"],[0.3333333333333333,\"#9c179e\"],[0.4444444444444444,\"#bd3786\"],[0.5555555555555556,\"#d8576b\"],[0.6666666666666666,\"#ed7953\"],[0.7777777777777778,\"#fb9f3a\"],[0.8888888888888888,\"#fdca26\"],[1.0,\"#f0f921\"]],\"sequentialminus\":[[0.0,\"#0d0887\"],[0.1111111111111111,\"#46039f\"],[0.2222222222222222,\"#7201a8\"],[0.3333333333333333,\"#9c179e\"],[0.4444444444444444,\"#bd3786\"],[0.5555555555555556,\"#d8576b\"],[0.6666666666666666,\"#ed7953\"],[0.7777777777777778,\"#fb9f3a\"],[0.8888888888888888,\"#fdca26\"],[1.0,\"#f0f921\"]]},\"colorway\":[\"#636efa\",\"#EF553B\",\"#00cc96\",\"#ab63fa\",\"#FFA15A\",\"#19d3f3\",\"#FF6692\",\"#B6E880\",\"#FF97FF\",\"#FECB52\"],\"font\":{\"color\":\"#2a3f5f\"},\"geo\":{\"bgcolor\":\"white\",\"lakecolor\":\"white\",\"landcolor\":\"#E5ECF6\",\"showlakes\":true,\"showland\":true,\"subunitcolor\":\"white\"},\"hoverlabel\":{\"align\":\"left\"},\"hovermode\":\"closest\",\"mapbox\":{\"style\":\"light\"},\"paper_bgcolor\":\"white\",\"plot_bgcolor\":\"#E5ECF6\",\"polar\":{\"angularaxis\":{\"gridcolor\":\"white\",\"linecolor\":\"white\",\"ticks\":\"\"},\"bgcolor\":\"#E5ECF6\",\"radialaxis\":{\"gridcolor\":\"white\",\"linecolor\":\"white\",\"ticks\":\"\"}},\"scene\":{\"xaxis\":{\"backgroundcolor\":\"#E5ECF6\",\"gridcolor\":\"white\",\"gridwidth\":2,\"linecolor\":\"white\",\"showbackground\":true,\"ticks\":\"\",\"zerolinecolor\":\"white\"},\"yaxis\":{\"backgroundcolor\":\"#E5ECF6\",\"gridcolor\":\"white\",\"gridwidth\":2,\"linecolor\":\"white\",\"showbackground\":true,\"ticks\":\"\",\"zerolinecolor\":\"white\"},\"zaxis\":{\"backgroundcolor\":\"#E5ECF6\",\"gridcolor\":\"white\",\"gridwidth\":2,\"linecolor\":\"white\",\"showbackground\":true,\"ticks\":\"\",\"zerolinecolor\":\"white\"}},\"shapedefaults\":{\"line\":{\"color\":\"#2a3f5f\"}},\"ternary\":{\"aaxis\":{\"gridcolor\":\"white\",\"linecolor\":\"white\",\"ticks\":\"\"},\"baxis\":{\"gridcolor\":\"white\",\"linecolor\":\"white\",\"ticks\":\"\"},\"bgcolor\":\"#E5ECF6\",\"caxis\":{\"gridcolor\":\"white\",\"linecolor\":\"white\",\"ticks\":\"\"}},\"title\":{\"x\":0.05},\"xaxis\":{\"automargin\":true,\"gridcolor\":\"white\",\"linecolor\":\"white\",\"ticks\":\"\",\"title\":{\"standoff\":15},\"zerolinecolor\":\"white\",\"zerolinewidth\":2},\"yaxis\":{\"automargin\":true,\"gridcolor\":\"white\",\"linecolor\":\"white\",\"ticks\":\"\",\"title\":{\"standoff\":15},\"zerolinecolor\":\"white\",\"zerolinewidth\":2}}},\"xaxis\":{\"anchor\":\"y\",\"domain\":[0.0,1.0],\"title\":{\"text\":\"Fare\"}},\"yaxis\":{\"anchor\":\"x\",\"domain\":[0.0,1.0],\"title\":{\"text\":\"count\"}}},                        {\"responsive\": true}                    ).then(function(){\n",
       "                            \n",
       "var gd = document.getElementById('48abbdc0-59fd-48ef-8977-d7175fb4f894');\n",
       "var x = new MutationObserver(function (mutations, observer) {{\n",
       "        var display = window.getComputedStyle(gd).display;\n",
       "        if (!display || display === 'none') {{\n",
       "            console.log([gd, 'removed!']);\n",
       "            Plotly.purge(gd);\n",
       "            observer.disconnect();\n",
       "        }}\n",
       "}});\n",
       "\n",
       "// Listen for the removal of the full notebook cells\n",
       "var notebookContainer = gd.closest('#notebook-container');\n",
       "if (notebookContainer) {{\n",
       "    x.observe(notebookContainer, {childList: true});\n",
       "}}\n",
       "\n",
       "// Listen for the clearing of the current output cell\n",
       "var outputEl = gd.closest('.output');\n",
       "if (outputEl) {{\n",
       "    x.observe(outputEl, {childList: true});\n",
       "}}\n",
       "\n",
       "                        })                };                });            </script>        </div>"
      ]
     },
     "metadata": {},
     "output_type": "display_data"
    }
   ],
   "source": [
    "px.histogram(data_frame=titanic, x='Fare')"
   ]
  }
 ],
 "metadata": {
  "kernelspec": {
   "display_name": "Python 3 (ipykernel)",
   "language": "python",
   "name": "python3"
  },
  "language_info": {
   "codemirror_mode": {
    "name": "ipython",
    "version": 3
   },
   "file_extension": ".py",
   "mimetype": "text/x-python",
   "name": "python",
   "nbconvert_exporter": "python",
   "pygments_lexer": "ipython3",
   "version": "3.8.8"
  }
 },
 "nbformat": 4,
 "nbformat_minor": 4
}
